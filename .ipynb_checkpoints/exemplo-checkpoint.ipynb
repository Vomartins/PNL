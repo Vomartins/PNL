{
 "cells": [
  {
   "cell_type": "code",
   "execution_count": 1,
   "id": "optical-nerve",
   "metadata": {},
   "outputs": [],
   "source": [
    "include(\"methods.jl\");"
   ]
  },
  {
   "cell_type": "code",
   "execution_count": 2,
   "id": "developed-success",
   "metadata": {},
   "outputs": [
    {
     "data": {
      "text/plain": [
       "problems(var\"#f#11\"{var\"#p#10\"{var\"#t#9\", Vector{Float64}}}(var\"#p#10\"{var\"#t#9\", Vector{Float64}}(var\"#t#9\"(), [0.0009, 0.0044, 0.0175, 0.054, 0.1295, 0.242, 0.3521, 0.3989, 0.3521, 0.242, 0.1295, 0.054, 0.0175, 0.0044, 0.0009])), var\"#∇f#16\"{var\"#dp₃#15\"{var\"#t#9\"}, var\"#dp₂#14\"{var\"#t#9\"}, var\"#dp₁#13\"{var\"#t#9\"}}(var\"#dp₃#15\"{var\"#t#9\"}(var\"#t#9\"()), var\"#dp₂#14\"{var\"#t#9\"}(var\"#t#9\"()), var\"#dp₁#13\"{var\"#t#9\"}(var\"#t#9\"())), [0.4, 1.0, 0.0], Dict(1.1279300000000004e-8 => [0.0]))"
      ]
     },
     "execution_count": 2,
     "metadata": {},
     "output_type": "execute_result"
    }
   ],
   "source": [
    "problem = Gaussian()"
   ]
  },
  {
   "cell_type": "code",
   "execution_count": 3,
   "id": "prospective-thriller",
   "metadata": {},
   "outputs": [
    {
     "data": {
      "text/plain": [
       "∇f (generic function with 1 method)"
      ]
     },
     "execution_count": 3,
     "metadata": {},
     "output_type": "execute_result"
    }
   ],
   "source": [
    "f = problem.f\n",
    "∇f = problem.∇f"
   ]
  },
  {
   "cell_type": "code",
   "execution_count": 51,
   "id": "shaped-prescription",
   "metadata": {},
   "outputs": [],
   "source": [
    "x₀ = problem.x₀;"
   ]
  },
  {
   "cell_type": "code",
   "execution_count": 52,
   "id": "improved-curtis",
   "metadata": {},
   "outputs": [
    {
     "name": "stdout",
     "output_type": "stream",
     "text": [
      "  0.009108 seconds (52.03 k allocations: 6.320 MiB)\n"
     ]
    },
    {
     "data": {
      "text/plain": [
       "([-2.7361010884091796, -0.9939232122750237, -1.0812420826402048e-16], 3.027878806040949e6, [2255.9924532254836, 34810.33285151088, 0.0], [3.888106991166885e-6, 6.451791387619023, 24.98426126674156, 52.17872408752512, 77.85364869335592, 102.7716246551454, 129.51433832835616, 158.6129264887813, 190.21452178288894, 224.3545991861436  …  3.002131152648814e6, 3.0049867999178553e6, 3.0078437480665585e6, 3.0107019970508767e6, 3.0135615468267677e6, 3.016422397350244e6, 3.0192845485773254e6, 3.022148000464079e6, 3.0250127529665744e6, 3.027878806040949e6], [10.024994936688094, 8.856046984143765, 14.14776277087747, 59.951388124266764, 117.33194166088718, 163.71442664663533, 205.04152242781095, 243.3628080865076, 279.622282742284, 314.3470796314696  …  34667.43782888241, 34683.31714937521, 34699.19594512666, 34715.0742164812, 34730.95196378284, 34746.82918737525, 34762.70588760161, 34778.582064804796, 34794.45771932718, 34810.33285151088], 2000)"
      ]
     },
     "execution_count": 52,
     "metadata": {},
     "output_type": "execute_result"
    }
   ],
   "source": [
    "@time grad_descent(x₀,f,∇f,cauchystepsize) #cauchy apenas pra funções quadráticas"
   ]
  },
  {
   "cell_type": "code",
   "execution_count": 53,
   "id": "higher-liquid",
   "metadata": {},
   "outputs": [],
   "source": [
    "η = 0.4\n",
    "γ = 0.8;"
   ]
  },
  {
   "cell_type": "code",
   "execution_count": 54,
   "id": "liable-refund",
   "metadata": {},
   "outputs": [
    {
     "data": {
      "text/plain": [
       "stepsize (generic function with 1 method)"
      ]
     },
     "execution_count": 54,
     "metadata": {},
     "output_type": "execute_result"
    }
   ],
   "source": [
    "stepsize(x,d,f,∇f) = armijo(x,d,f,∇f,η,γ)"
   ]
  },
  {
   "cell_type": "code",
   "execution_count": 65,
   "id": "funded-campbell",
   "metadata": {},
   "outputs": [
    {
     "name": "stdout",
     "output_type": "stream",
     "text": [
      "  0.120735 seconds (1.21 M allocations: 122.725 MiB, 4.24% gc time)\n"
     ]
    },
    {
     "data": {
      "text/plain": [
       "([0.03422111600739759, 1.0388732717746363, -1.6595254649986262e-20], 0.4724287000379776, [9.83603404857265, -0.16170971614540788, 5.908901840045999e-18], [3.888106991166885e-6, 1.3746664223221323e-8, 1.785424871004238e-8, 3.2024124640208203e-8, 5.6256004242657025e-8, 9.05495997973356e-8, 1.3490462363530064e-7, 1.8932078813886666e-7, 2.537978057413313e-7, 3.2833538892718994e-7  …  0.4715929699786405, 0.4716857926011591, 0.4717786242917979, 0.4718714650506087, 0.47196431487764284, 0.4720571737729523, 0.4721500417365888, 0.472242918768604, 0.47233580486904964, 0.4724287000379776], [10.024994936688094, 10.023976085998871, 10.023939352094066, 10.023902622389475, 10.023865896884834, 10.023829175579866, 10.023792458474311, 10.023755745567906, 10.023719036860383, 10.023682332351473  …  9.836059519146355, 9.836056677139435, 9.836053838118348, 9.836051002083074, 9.836048169033601, 9.836045338969914, 9.836042511891986, 9.836039687799813, 9.836036866693375, 9.83603404857265], 10000)"
      ]
     },
     "execution_count": 65,
     "metadata": {},
     "output_type": "execute_result"
    }
   ],
   "source": [
    "@time grad_descent(x₀,f,∇f,stepsize,max_iter=10000)"
   ]
  },
  {
   "cell_type": "code",
   "execution_count": 62,
   "id": "therapeutic-demonstration",
   "metadata": {},
   "outputs": [],
   "source": [
    "ϵ = 10^(-5)\n",
    "ρ = 1;"
   ]
  },
  {
   "cell_type": "code",
   "execution_count": 63,
   "id": "proof-swimming",
   "metadata": {},
   "outputs": [
    {
     "data": {
      "text/plain": [
       "stepsize (generic function with 1 method)"
      ]
     },
     "execution_count": 63,
     "metadata": {},
     "output_type": "execute_result"
    }
   ],
   "source": [
    "stepsize(x,d,f,∇f) = secao_aurea(x,d,f,∇f,ϵ,ρ)"
   ]
  },
  {
   "cell_type": "code",
   "execution_count": 64,
   "id": "patient-visitor",
   "metadata": {},
   "outputs": [
    {
     "name": "stdout",
     "output_type": "stream",
     "text": [
      "  0.124288 seconds (1.21 M allocations: 122.772 MiB, 4.08% gc time, 3.66% compilation time)\n"
     ]
    },
    {
     "data": {
      "text/plain": [
       "([0.03422111600739759, 1.0388732717746363, -1.6595254649986262e-20], 0.4724287000379776, [9.83603404857265, -0.16170971614540788, 5.908901840045999e-18], [3.888106991166885e-6, 1.3746664223221323e-8, 1.785424871004238e-8, 3.2024124640208203e-8, 5.6256004242657025e-8, 9.05495997973356e-8, 1.3490462363530064e-7, 1.8932078813886666e-7, 2.537978057413313e-7, 3.2833538892718994e-7  …  0.4715929699786405, 0.4716857926011591, 0.4717786242917979, 0.4718714650506087, 0.47196431487764284, 0.4720571737729523, 0.4721500417365888, 0.472242918768604, 0.47233580486904964, 0.4724287000379776], [10.024994936688094, 10.023976085998871, 10.023939352094066, 10.023902622389475, 10.023865896884834, 10.023829175579866, 10.023792458474311, 10.023755745567906, 10.023719036860383, 10.023682332351473  …  9.836059519146355, 9.836056677139435, 9.836053838118348, 9.836051002083074, 9.836048169033601, 9.836045338969914, 9.836042511891986, 9.836039687799813, 9.836036866693375, 9.83603404857265], 10000)"
      ]
     },
     "execution_count": 64,
     "metadata": {},
     "output_type": "execute_result"
    }
   ],
   "source": [
    "@time grad_descent(x₀,f,∇f,stepsize,max_iter=10000)"
   ]
  },
  {
   "cell_type": "code",
   "execution_count": 59,
   "id": "compliant-biotechnology",
   "metadata": {},
   "outputs": [],
   "source": [
    "η = 0.4\n",
    "α = 1;"
   ]
  },
  {
   "cell_type": "code",
   "execution_count": 60,
   "id": "cd2aef52",
   "metadata": {},
   "outputs": [
    {
     "data": {
      "text/plain": [
       "stepsize (generic function with 1 method)"
      ]
     },
     "execution_count": 60,
     "metadata": {},
     "output_type": "execute_result"
    }
   ],
   "source": [
    "stepsize(x,d,f,∇f) = interpolacao(x,d,f,∇f,η,α)"
   ]
  },
  {
   "cell_type": "code",
   "execution_count": 61,
   "id": "5163cb1b",
   "metadata": {},
   "outputs": [
    {
     "name": "stdout",
     "output_type": "stream",
     "text": [
      "  2.928116 seconds (20.61 M allocations: 1.859 GiB, 2.91% gc time, 0.12% compilation time)\n"
     ]
    },
    {
     "data": {
      "text/plain": [
       "([0.4, 1.0, -1.140131188807943e-35], 3.888106991166885e-6, [10.024994936688094, -2.00027811203979, 1.448494102440634e-16], [3.888106991166885e-6, 3.888106991166885e-6, 3.888106991166885e-6, 3.888106991166885e-6, 3.888106991166885e-6, 3.888106991166885e-6, 3.888106991166885e-6, 3.888106991166885e-6, 3.888106991166885e-6, 3.888106991166885e-6  …  3.888106991166885e-6, 3.888106991166885e-6, 3.888106991166885e-6, 3.888106991166885e-6, 3.888106991166885e-6, 3.888106991166885e-6, 3.888106991166885e-6, 3.888106991166885e-6, 3.888106991166885e-6, 3.888106991166885e-6], [10.024994936688094, 10.024994936688094, 10.024994936688094, 10.024994936688094, 10.024994936688094, 10.024994936688094, 10.024994936688094, 10.024994936688094, 10.024994936688094, 10.024994936688094  …  10.024994936688094, 10.024994936688094, 10.024994936688094, 10.024994936688094, 10.024994936688094, 10.024994936688094, 10.024994936688094, 10.024994936688094, 10.024994936688094, 10.024994936688094], 10000)"
      ]
     },
     "execution_count": 61,
     "metadata": {},
     "output_type": "execute_result"
    }
   ],
   "source": [
    "@time grad_descent(x₀,f,∇f,stepsize,max_iter=10000)"
   ]
  },
  {
   "cell_type": "code",
   "execution_count": null,
   "id": "upper-evidence",
   "metadata": {},
   "outputs": [],
   "source": []
  }
 ],
 "metadata": {
  "kernelspec": {
   "display_name": "Julia 1.6.2",
   "language": "julia",
   "name": "julia-1.6"
  },
  "language_info": {
   "file_extension": ".jl",
   "mimetype": "application/julia",
   "name": "julia",
   "version": "1.6.2"
  }
 },
 "nbformat": 4,
 "nbformat_minor": 5
}
