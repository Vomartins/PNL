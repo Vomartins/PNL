{
 "cells": [
  {
   "cell_type": "code",
   "execution_count": 1,
   "id": "optical-nerve",
   "metadata": {},
   "outputs": [
    {
     "data": {
      "text/plain": [
       "grad_descent (generic function with 1 method)"
      ]
     },
     "execution_count": 1,
     "metadata": {},
     "output_type": "execute_result"
    }
   ],
   "source": [
    "include(\"methods.jl\")"
   ]
  },
  {
   "cell_type": "code",
   "execution_count": 2,
   "id": "capital-bridge",
   "metadata": {},
   "outputs": [
    {
     "data": {
      "text/plain": [
       "problems(var\"#f#3\"(), var\"#∇f#4\"(), [-1.2, 1.0], Dict(0.0 => [1.0, 1.0]))"
      ]
     },
     "execution_count": 2,
     "metadata": {},
     "output_type": "execute_result"
    }
   ],
   "source": [
    "problem = Rosenbrock()"
   ]
  },
  {
   "cell_type": "code",
   "execution_count": 3,
   "id": "prospective-thriller",
   "metadata": {},
   "outputs": [
    {
     "data": {
      "text/plain": [
       "∇f (generic function with 1 method)"
      ]
     },
     "execution_count": 3,
     "metadata": {},
     "output_type": "execute_result"
    }
   ],
   "source": [
    "f = problem.f\n",
    "∇f = problem.∇f"
   ]
  },
  {
   "cell_type": "code",
   "execution_count": 4,
   "id": "shaped-prescription",
   "metadata": {},
   "outputs": [],
   "source": [
    "x₀ = problem.x₀;"
   ]
  },
  {
   "cell_type": "code",
   "execution_count": 5,
   "id": "improved-curtis",
   "metadata": {},
   "outputs": [
    {
     "name": "stdout",
     "output_type": "stream",
     "text": [
      "  2.160823 seconds (9.03 M allocations: 552.895 MiB, 7.66% gc time, 99.82% compilation time)\n"
     ]
    },
    {
     "data": {
      "text/plain": [
       "([-31.14599912540199, 970.1238833621655], -1.2252836069680555, 1.0124368524816418, [24.199999999999996, -23.000000292836724, -20.733594009889718, -18.695235469745047, -16.86187854471999, -15.212735071478843, -13.729055424418378, -12.393929045546173, -11.192102933019754, -10.109816258135098  …  -0.584382093780043, -0.34008771134940474, 0.02136793880612231, -2.789262819467396, -2.4735863894490677, -2.1845446965980386, -1.9186304401378536, -1.6724423314667831, -1.4425511873341037, -1.2252836069680555], [25.519999999999996, 7.875350651360424, 7.0246347959234035, 6.24273665777805, 5.5247954745381245, 4.866194960086063, 4.262554171588304, 3.709719350308953, 3.203756316430071, 2.740943017096704  …  1.0227255117843015, 1.0266472753937705, 1.0324498812201455, 0.9873296357977779, 0.9923973197828673, 0.9970374265094506, 1.0013062598500255, 1.0052584218919947, 1.008948962589784, 1.0124368524816418], 2000)"
      ]
     },
     "execution_count": 5,
     "metadata": {},
     "output_type": "execute_result"
    }
   ],
   "source": [
    "@time grad_descent(x₀,f,∇f,cauchystepsize)"
   ]
  },
  {
   "cell_type": "code",
   "execution_count": 25,
   "id": "willing-faith",
   "metadata": {},
   "outputs": [],
   "source": [
    "η = 0.25\n",
    "γ = 0.7;"
   ]
  },
  {
   "cell_type": "code",
   "execution_count": 26,
   "id": "liable-refund",
   "metadata": {},
   "outputs": [
    {
     "data": {
      "text/plain": [
       "stepsize (generic function with 1 method)"
      ]
     },
     "execution_count": 26,
     "metadata": {},
     "output_type": "execute_result"
    }
   ],
   "source": [
    "stepsize(x,d,f,∇f) = armijo(x,d,f,∇f,η,γ)"
   ]
  },
  {
   "cell_type": "code",
   "execution_count": 29,
   "id": "funded-campbell",
   "metadata": {},
   "outputs": [
    {
     "name": "stdout",
     "output_type": "stream",
     "text": [
      "  0.050475 seconds (1.45 M allocations: 132.205 MiB, 13.67% gc time)\n"
     ]
    },
    {
     "data": {
      "text/plain": [
       "([1.0025903605627369, 1.005232125171262], 0.0033883270566670664, 0.0008938815588654947, [24.199999999999996, 10.016799195973784, -9.520934271482231, -0.8765388021759448, -4.419917546700441, -2.1027965513122657, -1.9096662164895521, -1.4262243762401297, -0.6433941789297927, -1.8434224528293401  …  0.0033883270566670664, 0.0033883270566670664, 0.0033883270566670664, 0.0033883270566670664, 0.0033883270566670664, 0.0033883270566670664, 0.0033883270566670664, 0.0033883270566670664, 0.0033883270566670664, 0.0033883270566670664], [25.519999999999996, 8.095666013238672, 2.599100734748183, 1.5896890481302117, 1.3131260814231016, 0.8820295151847984, 0.3472413976073252, 0.6002013229418325, 0.9543342910200109, 0.9209579856162176  …  0.0008938815588654947, 0.0008938815588654947, 0.0008938815588654947, 0.0008938815588654947, 0.0008938815588654947, 0.0008938815588654947, 0.0008938815588654947, 0.0008938815588654947, 0.0008938815588654947, 0.0008938815588654947], 2000)"
      ]
     },
     "execution_count": 29,
     "metadata": {},
     "output_type": "execute_result"
    }
   ],
   "source": [
    "@time grad_descent(x₀,f,∇f,stepsize)"
   ]
  },
  {
   "cell_type": "code",
   "execution_count": 30,
   "id": "necessary-lunch",
   "metadata": {},
   "outputs": [],
   "source": [
    "ϵ = 10^(-4)\n",
    "ρ = 1;"
   ]
  },
  {
   "cell_type": "code",
   "execution_count": 31,
   "id": "proof-swimming",
   "metadata": {},
   "outputs": [
    {
     "data": {
      "text/plain": [
       "stepsize (generic function with 1 method)"
      ]
     },
     "execution_count": 31,
     "metadata": {},
     "output_type": "execute_result"
    }
   ],
   "source": [
    "stepsize(x,d,f,∇f) = secao_aurea(x,d,f,∇f,ϵ,ρ)"
   ]
  },
  {
   "cell_type": "code",
   "execution_count": 32,
   "id": "patient-visitor",
   "metadata": {},
   "outputs": [
    {
     "name": "stdout",
     "output_type": "stream",
     "text": [
      "  0.013308 seconds (196.74 k allocations: 17.294 MiB, 20.75% gc time, 25.89% compilation time)\n"
     ]
    },
    {
     "data": {
      "text/plain": [
       "([0.9909972207044219, 0.9817365390318524], -0.0045695226599994365, -0.0067790482407237285, [24.199999999999996, 0.6763941092278994, 0.6722280745712181, 0.6680916602771587, 0.663984652816285, 0.6599068402383208, 0.6558580121598612, 0.651837959752403, 0.6478464757301776, 0.6438833543382665  …  -0.004606854557883214, -0.004602639181472563, -0.004598440813394094, -0.004594259384037021, -0.004590094824113605, -0.004585947064600821, -0.004581816036745658, -0.004577701672108674, -0.004573603902488968, -0.0045695226599994365], [25.519999999999996, 0.025594171790630504, 0.027091339959190996, 0.028577904342208527, 0.030053940641159294, 0.03151952400772817, 0.03297472904795207, 0.03441962982625224, 0.03585429986954214, 0.03727881217123752  …  0.006761927400869006, 0.006763863026000294, 0.006765790243927761, 0.00676770908907276, 0.006769619595696774, 0.00677152179793028, 0.006773415729770527, 0.006775301425059332, 0.006777178917520832, 0.0067790482407237285], 2000)"
      ]
     },
     "execution_count": 32,
     "metadata": {},
     "output_type": "execute_result"
    }
   ],
   "source": [
    "@time grad_descent(x₀,f,∇f,stepsize)"
   ]
  },
  {
   "cell_type": "code",
   "execution_count": 36,
   "id": "blond-yahoo",
   "metadata": {},
   "outputs": [],
   "source": [
    "η = 0.25\n",
    "α = 2;"
   ]
  },
  {
   "cell_type": "code",
   "execution_count": 37,
   "id": "cd2aef52",
   "metadata": {},
   "outputs": [
    {
     "data": {
      "text/plain": [
       "stepsize (generic function with 1 method)"
      ]
     },
     "execution_count": 37,
     "metadata": {},
     "output_type": "execute_result"
    }
   ],
   "source": [
    "stepsize(x,d,f,∇f) = interpolacao(x,d,f,∇f,η,α)"
   ]
  },
  {
   "cell_type": "code",
   "execution_count": 38,
   "id": "5163cb1b",
   "metadata": {},
   "outputs": [
    {
     "name": "stdout",
     "output_type": "stream",
     "text": [
      "  0.005110 seconds (51.36 k allocations: 4.178 MiB, 59.03% compilation time)\n"
     ]
    },
    {
     "data": {
      "text/plain": [
       "([NaN, NaN], NaN, NaN, [24.199999999999996, -25.51073940759814, -25.501476360408603, -25.492210856059387, -25.48294289217462, -25.4736724663745, -25.464399576275383, -25.455124219489747, -25.44584639362612, -25.436566096289127  …  -4.0989034465436065, -4.052125069328681, -4.004738967586244, -3.9567187179514582, -3.908035921542547, -3.858659992750734, -3.8085579184566636, -3.7576939825214932, -3.7060294493191948, NaN], [25.519999999999996, 8.79664096532968, 8.793280762303258, 8.78991938975432, 8.786556846514518, 8.783193131413555, 8.779828243279212, 8.77646218093734, 8.773094943211825, 8.769726528924613  …  0.02455515943069475, 0.0022520620656996115, 0.020362726269715914, 0.04330282360357263, 0.06658286963432403, 0.0902186353493617, 0.11422714805083611, 0.13862683448398805, 0.16343768533157554, NaN], 1488)"
      ]
     },
     "execution_count": 38,
     "metadata": {},
     "output_type": "execute_result"
    }
   ],
   "source": [
    "@time grad_descent(x₀,f,∇f,stepsize)"
   ]
  },
  {
   "cell_type": "code",
   "execution_count": null,
   "id": "honest-sitting",
   "metadata": {},
   "outputs": [],
   "source": []
  }
 ],
 "metadata": {
  "kernelspec": {
   "display_name": "Julia 1.6.2",
   "language": "julia",
   "name": "julia-1.6"
  },
  "language_info": {
   "file_extension": ".jl",
   "mimetype": "application/julia",
   "name": "julia",
   "version": "1.6.2"
  }
 },
 "nbformat": 4,
 "nbformat_minor": 5
}
