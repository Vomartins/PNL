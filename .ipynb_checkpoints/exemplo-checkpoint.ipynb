{
 "cells": [
  {
   "cell_type": "code",
   "execution_count": 1,
   "id": "optical-nerve",
   "metadata": {},
   "outputs": [
    {
     "data": {
      "text/plain": [
       "grad_descent (generic function with 1 method)"
      ]
     },
     "execution_count": 1,
     "metadata": {},
     "output_type": "execute_result"
    }
   ],
   "source": [
    "include(\"methods.jl\")"
   ]
  },
  {
   "cell_type": "code",
   "execution_count": 2,
   "id": "indie-recycling",
   "metadata": {},
   "outputs": [
    {
     "data": {
      "text/plain": [
       "problems(var\"#f#1\"(), var\"#∇f#2\"(), [2.0, 2.0], Dict(0.0 => [2.0, 1.0]))"
      ]
     },
     "execution_count": 2,
     "metadata": {},
     "output_type": "execute_result"
    }
   ],
   "source": [
    "problem = teste1()"
   ]
  },
  {
   "cell_type": "code",
   "execution_count": 3,
   "id": "prospective-thriller",
   "metadata": {},
   "outputs": [
    {
     "data": {
      "text/plain": [
       "∇f (generic function with 1 method)"
      ]
     },
     "execution_count": 3,
     "metadata": {},
     "output_type": "execute_result"
    }
   ],
   "source": [
    "f = problem.f\n",
    "∇f = problem.∇f"
   ]
  },
  {
   "cell_type": "code",
   "execution_count": 4,
   "id": "equal-privilege",
   "metadata": {},
   "outputs": [],
   "source": [
    "x̄ = [1.0,0.0]\n",
    "d = [3.0,1.0]\n",
    "η = 1/4\n",
    "γ = 0.8\n",
    "ϵ = 10^(-5)\n",
    "ρ = 1.\n",
    "α = 1.;"
   ]
  },
  {
   "cell_type": "code",
   "execution_count": 5,
   "id": "floral-school",
   "metadata": {},
   "outputs": [
    {
     "name": "stdout",
     "output_type": "stream",
     "text": [
      "  1.814418 seconds (7.44 M allocations: 454.081 MiB, 6.43% gc time, 99.94% compilation time)\n"
     ]
    },
    {
     "data": {
      "text/plain": [
       "0.9090909090909093"
      ]
     },
     "execution_count": 5,
     "metadata": {},
     "output_type": "execute_result"
    }
   ],
   "source": [
    "@time cauchystepsize(x̄,d,f,∇f)"
   ]
  },
  {
   "cell_type": "code",
   "execution_count": 6,
   "id": "tight-acquisition",
   "metadata": {},
   "outputs": [
    {
     "name": "stdout",
     "output_type": "stream",
     "text": [
      "  0.166209 seconds (553.69 k allocations: 31.856 MiB, 7.55% gc time, 99.99% compilation time)\n"
     ]
    },
    {
     "data": {
      "text/plain": [
       "0.6400000000000001"
      ]
     },
     "execution_count": 6,
     "metadata": {},
     "output_type": "execute_result"
    }
   ],
   "source": [
    "@time armijo(x̄,d,f,∇f,η,γ)"
   ]
  },
  {
   "cell_type": "code",
   "execution_count": 7,
   "id": "adolescent-twelve",
   "metadata": {},
   "outputs": [
    {
     "name": "stdout",
     "output_type": "stream",
     "text": [
      "  0.029284 seconds (58.76 k allocations: 3.572 MiB, 99.90% compilation time)\n"
     ]
    },
    {
     "data": {
      "text/plain": [
       "0.45454434055369364"
      ]
     },
     "execution_count": 7,
     "metadata": {},
     "output_type": "execute_result"
    }
   ],
   "source": [
    "@time secao_aurea(x̄,d,f,∇f,ϵ,ρ)"
   ]
  },
  {
   "cell_type": "code",
   "execution_count": 8,
   "id": "fc32d86f",
   "metadata": {},
   "outputs": [
    {
     "name": "stdout",
     "output_type": "stream",
     "text": [
      "  0.054927 seconds (113.59 k allocations: 6.720 MiB, 99.96% compilation time)\n"
     ]
    },
    {
     "data": {
      "text/plain": [
       "0.45454545454545453"
      ]
     },
     "execution_count": 8,
     "metadata": {},
     "output_type": "execute_result"
    }
   ],
   "source": [
    "@time interpolacao(x̄,d,f,∇f,η,α)"
   ]
  },
  {
   "cell_type": "code",
   "execution_count": 9,
   "id": "shaped-prescription",
   "metadata": {},
   "outputs": [
    {
     "data": {
      "text/plain": [
       "2-element Vector{Float64}:\n",
       " 2.0\n",
       " 2.0"
      ]
     },
     "execution_count": 9,
     "metadata": {},
     "output_type": "execute_result"
    }
   ],
   "source": [
    "x₀ = problem.x₀"
   ]
  },
  {
   "cell_type": "code",
   "execution_count": 10,
   "id": "improved-curtis",
   "metadata": {},
   "outputs": [
    {
     "name": "stdout",
     "output_type": "stream",
     "text": [
      "  0.239218 seconds (883.79 k allocations: 57.003 MiB, 4.45% gc time, 99.90% compilation time)\n"
     ]
    },
    {
     "data": {
      "text/plain": [
       "([2.0, 1.0], 0.0, 0.0, [1.0, 0.0], [2.0, 0.0])"
      ]
     },
     "execution_count": 10,
     "metadata": {},
     "output_type": "execute_result"
    }
   ],
   "source": [
    "@time grad_descent(x₀,f,∇f,cauchystepsize)"
   ]
  },
  {
   "cell_type": "code",
   "execution_count": 11,
   "id": "liable-refund",
   "metadata": {},
   "outputs": [
    {
     "data": {
      "text/plain": [
       "stepsize (generic function with 1 method)"
      ]
     },
     "execution_count": 11,
     "metadata": {},
     "output_type": "execute_result"
    }
   ],
   "source": [
    "stepsize(x,d,f,∇f) = armijo(x,d,f,∇f,η,γ)"
   ]
  },
  {
   "cell_type": "code",
   "execution_count": 12,
   "id": "funded-campbell",
   "metadata": {},
   "outputs": [
    {
     "name": "stdout",
     "output_type": "stream",
     "text": [
      "  0.086132 seconds (152.38 k allocations: 11.430 MiB, 12.81% gc time, 99.88% compilation time)\n"
     ]
    },
    {
     "data": {
      "text/plain": [
       "([2.0, 1.000002961967667], 0.0, 5.923935333829178e-6, [1.0, 0.0, 0.0, 0.0, 0.0, 0.0, 0.0, 0.0, 0.0, 0.0, 0.0], [2.0, 0.5600000000000005, 0.1568000000000005, 0.043904000000000165, 0.012293120000000268, 0.0034420736000000396, 0.0009637806080000644, 0.0002698585702400891, 7.556039966738481e-5, 2.1156911906849984e-5, 5.923935333829178e-6])"
      ]
     },
     "execution_count": 12,
     "metadata": {},
     "output_type": "execute_result"
    }
   ],
   "source": [
    "@time grad_descent(x₀,f,∇f,stepsize)"
   ]
  },
  {
   "cell_type": "code",
   "execution_count": 13,
   "id": "proof-swimming",
   "metadata": {},
   "outputs": [
    {
     "data": {
      "text/plain": [
       "stepsize (generic function with 1 method)"
      ]
     },
     "execution_count": 13,
     "metadata": {},
     "output_type": "execute_result"
    }
   ],
   "source": [
    "stepsize(x,d,f,∇f) = secao_aurea(x,d,f,∇f,η,γ)"
   ]
  },
  {
   "cell_type": "code",
   "execution_count": 14,
   "id": "patient-visitor",
   "metadata": {},
   "outputs": [
    {
     "name": "stdout",
     "output_type": "stream",
     "text": [
      "  0.024356 seconds (55.70 k allocations: 4.037 MiB, 99.76% compilation time)\n"
     ]
    },
    {
     "data": {
      "text/plain": [
       "([2.0, 1.0000013845621738], 0.0, 2.7691243476013483e-6, [1.0, 0.0, 0.0, 0.0], [2.0, 0.022291236000336223, 0.0002484496012113979, 2.7691243476013483e-6])"
      ]
     },
     "execution_count": 14,
     "metadata": {},
     "output_type": "execute_result"
    }
   ],
   "source": [
    "@time grad_descent(x₀,f,∇f,stepsize)"
   ]
  },
  {
   "cell_type": "code",
   "execution_count": 15,
   "id": "cd2aef52",
   "metadata": {},
   "outputs": [
    {
     "data": {
      "text/plain": [
       "stepsize (generic function with 1 method)"
      ]
     },
     "execution_count": 15,
     "metadata": {},
     "output_type": "execute_result"
    }
   ],
   "source": [
    "stepsize(x,d,f,∇f) = interpolacao(x,d,f,∇f,η,α)"
   ]
  },
  {
   "cell_type": "code",
   "execution_count": 16,
   "id": "5163cb1b",
   "metadata": {},
   "outputs": [
    {
     "name": "stdout",
     "output_type": "stream",
     "text": [
      "  0.142935 seconds (500.00 k allocations: 30.005 MiB, 99.97% compilation time)\n"
     ]
    },
    {
     "data": {
      "text/plain": [
       "([2.0, 1.0], 0.0, 0.0, [1.0, 0.0], [2.0, 0.0])"
      ]
     },
     "execution_count": 16,
     "metadata": {},
     "output_type": "execute_result"
    }
   ],
   "source": [
    "@time grad_descent(x₀,f,∇f,stepsize)"
   ]
  }
 ],
 "metadata": {
  "kernelspec": {
   "display_name": "Julia 1.6.2",
   "language": "julia",
   "name": "julia-1.6"
  },
  "language_info": {
   "file_extension": ".jl",
   "mimetype": "application/julia",
   "name": "julia",
   "version": "1.6.2"
  }
 },
 "nbformat": 4,
 "nbformat_minor": 5
}
