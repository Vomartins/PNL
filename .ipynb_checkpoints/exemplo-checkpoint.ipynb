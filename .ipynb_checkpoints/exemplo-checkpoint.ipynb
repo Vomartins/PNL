{
 "cells": [
  {
   "cell_type": "code",
   "execution_count": 1,
   "id": "optical-nerve",
   "metadata": {},
   "outputs": [
    {
     "data": {
      "text/plain": [
       "grad_descent (generic function with 1 method)"
      ]
     },
     "execution_count": 1,
     "metadata": {},
     "output_type": "execute_result"
    }
   ],
   "source": [
    "include(\"methods.jl\")"
   ]
  },
  {
   "cell_type": "code",
   "execution_count": 2,
   "id": "prospective-thriller",
   "metadata": {},
   "outputs": [
    {
     "data": {
      "text/plain": [
       "∇f (generic function with 1 method)"
      ]
     },
     "execution_count": 2,
     "metadata": {},
     "output_type": "execute_result"
    }
   ],
   "source": [
    "f(x) = 0.5*(x[1]-2)^2+(x[2]-1)^2\n",
    "∇f(x) = [(x[1]-2),2*(x[2]-1)]"
   ]
  },
  {
   "cell_type": "code",
   "execution_count": 3,
   "id": "equal-privilege",
   "metadata": {},
   "outputs": [],
   "source": [
    "x̄ = [1.0,0.0]\n",
    "d = [3.0,1.0]\n",
    "η = 1/4\n",
    "γ = 0.8\n",
    "ϵ = 10^(-5)\n",
    "ρ = 1;"
   ]
  },
  {
   "cell_type": "code",
   "execution_count": 4,
   "id": "tight-acquisition",
   "metadata": {},
   "outputs": [
    {
     "name": "stdout",
     "output_type": "stream",
     "text": [
      "  0.155477 seconds (658.41 k allocations: 38.775 MiB, 99.98% compilation time)\n"
     ]
    },
    {
     "data": {
      "text/plain": [
       "0.6400000000000001"
      ]
     },
     "execution_count": 4,
     "metadata": {},
     "output_type": "execute_result"
    }
   ],
   "source": [
    "@time armijo(x̄,d,f,∇f,η,γ)"
   ]
  },
  {
   "cell_type": "code",
   "execution_count": 5,
   "id": "adolescent-twelve",
   "metadata": {},
   "outputs": [
    {
     "name": "stdout",
     "output_type": "stream",
     "text": [
      "  0.036311 seconds (57.56 k allocations: 3.511 MiB, 99.93% compilation time)\n"
     ]
    },
    {
     "data": {
      "text/plain": [
       "0.45454434055369364"
      ]
     },
     "execution_count": 5,
     "metadata": {},
     "output_type": "execute_result"
    }
   ],
   "source": [
    "@time secao_aurea(x̄,d,f,∇f,ϵ,ρ)"
   ]
  },
  {
   "cell_type": "code",
   "execution_count": 6,
   "id": "shaped-prescription",
   "metadata": {},
   "outputs": [
    {
     "data": {
      "text/plain": [
       "2-element Vector{Float64}:\n",
       " 2.0\n",
       " 2.0"
      ]
     },
     "execution_count": 6,
     "metadata": {},
     "output_type": "execute_result"
    }
   ],
   "source": [
    "x₀ = [2.0, 2.0]"
   ]
  },
  {
   "cell_type": "code",
   "execution_count": 7,
   "id": "liable-refund",
   "metadata": {},
   "outputs": [
    {
     "data": {
      "text/plain": [
       "stepsize (generic function with 1 method)"
      ]
     },
     "execution_count": 7,
     "metadata": {},
     "output_type": "execute_result"
    }
   ],
   "source": [
    "stepsize(x,d,f,∇f) = armijo(x,d,f,∇f,η,γ)"
   ]
  },
  {
   "cell_type": "code",
   "execution_count": 8,
   "id": "funded-campbell",
   "metadata": {},
   "outputs": [
    {
     "name": "stdout",
     "output_type": "stream",
     "text": [
      "  0.270226 seconds (1.09 M allocations: 68.090 MiB, 6.32% gc time, 99.93% compilation time)\n"
     ]
    },
    {
     "data": {
      "text/plain": [
       "([2.0, 1.000002961967667], 0.0, 5.923935333829178e-6, [1.0, 0.0, 0.0, 0.0, 0.0, 0.0, 0.0, 0.0, 0.0, 0.0, 0.0], [2.0, 0.5600000000000005, 0.1568000000000005, 0.043904000000000165, 0.012293120000000268, 0.0034420736000000396, 0.0009637806080000644, 0.0002698585702400891, 7.556039966738481e-5, 2.1156911906849984e-5, 5.923935333829178e-6])"
      ]
     },
     "execution_count": 8,
     "metadata": {},
     "output_type": "execute_result"
    }
   ],
   "source": [
    "@time grad_descent(x₀,f,∇f,stepsize)"
   ]
  },
  {
   "cell_type": "code",
   "execution_count": 9,
   "id": "proof-swimming",
   "metadata": {},
   "outputs": [
    {
     "data": {
      "text/plain": [
       "stepsize (generic function with 1 method)"
      ]
     },
     "execution_count": 9,
     "metadata": {},
     "output_type": "execute_result"
    }
   ],
   "source": [
    "stepsize(x,d,f,∇f) = secao_aurea(x,d,f,∇f,η,γ)"
   ]
  },
  {
   "cell_type": "code",
   "execution_count": 10,
   "id": "patient-visitor",
   "metadata": {},
   "outputs": [
    {
     "name": "stdout",
     "output_type": "stream",
     "text": [
      "  0.045692 seconds (94.25 k allocations: 6.286 MiB, 99.83% compilation time)\n"
     ]
    },
    {
     "data": {
      "text/plain": [
       "([2.0, 1.0000013845621738], 0.0, 2.7691243476013483e-6, [1.0, 0.0, 0.0, 0.0], [2.0, 0.022291236000336223, 0.0002484496012113979, 2.7691243476013483e-6])"
      ]
     },
     "execution_count": 10,
     "metadata": {},
     "output_type": "execute_result"
    }
   ],
   "source": [
    "@time grad_descent(x₀,f,∇f,stepsize)"
   ]
  },
  {
   "cell_type": "code",
   "execution_count": null,
   "id": "racial-subscription",
   "metadata": {},
   "outputs": [],
   "source": []
  }
 ],
 "metadata": {
  "kernelspec": {
   "display_name": "Julia 1.6.2",
   "language": "julia",
   "name": "julia-1.6"
  },
  "language_info": {
   "file_extension": ".jl",
   "mimetype": "application/julia",
   "name": "julia",
   "version": "1.6.2"
  }
 },
 "nbformat": 4,
 "nbformat_minor": 5
}
