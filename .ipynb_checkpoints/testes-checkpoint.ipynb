{
 "cells": [
  {
   "cell_type": "code",
   "execution_count": 1,
   "id": "graphic-publication",
   "metadata": {},
   "outputs": [],
   "source": [
    "include(\"methods.jl\");"
   ]
  },
  {
   "cell_type": "code",
   "execution_count": 2,
   "id": "metropolitan-dominant",
   "metadata": {},
   "outputs": [
    {
     "data": {
      "text/plain": [
       "problems(var\"#f#11\"{var\"#p#10\"{var\"#t#9\", Vector{Float64}}}(var\"#p#10\"{var\"#t#9\", Vector{Float64}}(var\"#t#9\"(), [0.0009, 0.0044, 0.0175, 0.054, 0.1295, 0.242, 0.3521, 0.3989, 0.3521, 0.242, 0.1295, 0.054, 0.0175, 0.0044, 0.0009])), var\"#∇f#16\"{var\"#dp₃#15\"{var\"#p#10\"{var\"#t#9\", Vector{Float64}}, var\"#t#9\"}, var\"#dp₂#14\"{var\"#p#10\"{var\"#t#9\", Vector{Float64}}, var\"#t#9\"}, var\"#dp₁#13\"{var\"#p#10\"{var\"#t#9\", Vector{Float64}}, var\"#t#9\"}}(var\"#dp₃#15\"{var\"#p#10\"{var\"#t#9\", Vector{Float64}}, var\"#t#9\"}(var\"#p#10\"{var\"#t#9\", Vector{Float64}}(var\"#t#9\"(), [0.0009, 0.0044, 0.0175, 0.054, 0.1295, 0.242, 0.3521, 0.3989, 0.3521, 0.242, 0.1295, 0.054, 0.0175, 0.0044, 0.0009]), var\"#t#9\"()), var\"#dp₂#14\"{var\"#p#10\"{var\"#t#9\", Vector{Float64}}, var\"#t#9\"}(var\"#p#10\"{var\"#t#9\", Vector{Float64}}(var\"#t#9\"(), [0.0009, 0.0044, 0.0175, 0.054, 0.1295, 0.242, 0.3521, 0.3989, 0.3521, 0.242, 0.1295, 0.054, 0.0175, 0.0044, 0.0009]), var\"#t#9\"()), var\"#dp₁#13\"{var\"#p#10\"{var\"#t#9\", Vector{Float64}}, var\"#t#9\"}(var\"#p#10\"{var\"#t#9\", Vector{Float64}}(var\"#t#9\"(), [0.0009, 0.0044, 0.0175, 0.054, 0.1295, 0.242, 0.3521, 0.3989, 0.3521, 0.242, 0.1295, 0.054, 0.0175, 0.0044, 0.0009]), var\"#t#9\"())), [0.4, 1.0, 0.0], 1.0e-10, 10000, 1.1279300000000004e-8, Dict(\"γ\" => 0.8, \"ϵ\" => 1.0000000000000003e-5, \"η\" => 0.4, \"ρ\" => 1.0, \"α\" => 1.0, \"β\" => 0.4))"
      ]
     },
     "execution_count": 2,
     "metadata": {},
     "output_type": "execute_result"
    }
   ],
   "source": [
    "problem = Gaussian()"
   ]
  },
  {
   "cell_type": "code",
   "execution_count": 15,
   "id": "searching-alias",
   "metadata": {},
   "outputs": [
    {
     "name": "stdout",
     "output_type": "stream",
     "text": [
      "  1.497583 seconds (6.59 M allocations: 412.136 MiB, 6.23% gc time, 96.04% compilation time)\n"
     ]
    },
    {
     "data": {
      "text/plain": [
       "([0.39906062549745214, 1.000055985163759, 1.652243676934541e-23], 4.7398166922258796e-8, [7.38764399677955e-8, -3.051944484460213e-9, 2.9888361977013695e-25], [3.888106991166885e-6, 3.881473551062801e-6, 3.874857066070577e-6, 3.868257478480643e-6, 3.861674730828808e-6, 3.8551087658958086e-6, 3.848559526704201e-6, 3.842026956518319e-6, 3.8355109988431055e-6, 3.8290115974218535e-6  …  4.7465096749446665e-8, 4.7457651981650026e-8, 4.745020924564192e-8, 4.744276854069143e-8, 4.743532986606132e-8, 4.742789322104496e-8, 4.74204586048961e-8, 4.741302601686708e-8, 4.7405595456220946e-8, 4.7398166922258796e-8], [6.36092970629134e-6, 6.350104185192648e-6, 6.339306299154451e-6, 6.328535954176375e-6, 6.317793056657919e-6, 6.3070775133971765e-6, 6.296389231586187e-6, 6.285728118810506e-6, 6.275094083047316e-6, 6.264487032662336e-6  …  7.398936481115878e-8, 7.397680408930769e-8, 7.396424674953598e-8, 7.39516927906347e-8, 7.393914221139936e-8, 7.392659501063252e-8, 7.391405118711012e-8, 7.390151073960083e-8, 7.388897366687628e-8, 7.38764399677955e-8], 10000)"
      ]
     },
     "execution_count": 15,
     "metadata": {},
     "output_type": "execute_result"
    }
   ],
   "source": [
    "@time grad_descent(problem,cauchystepsize,ϵ=problem.T,max_iter=problem.max_iter) #cauchy apenas pra funções quadráticas"
   ]
  },
  {
   "cell_type": "code",
   "execution_count": 4,
   "id": "proof-imaging",
   "metadata": {},
   "outputs": [
    {
     "name": "stdout",
     "output_type": "stream",
     "text": [
      "  1.134552 seconds (6.50 M allocations: 395.683 MiB, 5.75% gc time, 26.47% compilation time)\n"
     ]
    },
    {
     "data": {
      "text/plain": [
       "([0.39896029722239573, 1.000060193612819, -1.3037626670542965e-22], 1.1398537894005583e-8, [1.1023509983055257e-8, -8.362085324526691e-10, 7.108583389127582e-26], [3.888106991166885e-6, 3.840785607624169e-6, 3.794324183018356e-6, 3.748701986970153e-6, 3.7038989106134944e-6, 3.65989544434981e-6, 3.6166726565259655e-6, 3.5742121729918685e-6, 3.5324961575004482e-6, 3.4915072929024926e-6  …  1.1398537894005583e-8, 1.1398537894005583e-8, 1.1398537894005583e-8, 1.1398537894005583e-8, 1.1398537894005583e-8, 1.1398537894005583e-8, 1.1398537894005583e-8, 1.1398537894005583e-8, 1.1398537894005583e-8, 1.1398537894005583e-8], [6.36092970629134e-6, 6.283702266034502e-6, 6.20787649066077e-6, 6.133418612871981e-6, 6.0602958773483664e-6, 5.988476504535907e-6, 5.917929655937762e-6, 5.848625400837122e-6, 5.780534684390889e-6, 5.713629297017406e-6  …  1.1023509983055257e-8, 1.1023509983055257e-8, 1.1023509983055257e-8, 1.1023509983055257e-8, 1.1023509983055257e-8, 1.1023509983055257e-8, 1.1023509983055257e-8, 1.1023509983055257e-8, 1.1023509983055257e-8, 1.1023509983055257e-8], 10000)"
      ]
     },
     "execution_count": 4,
     "metadata": {},
     "output_type": "execute_result"
    }
   ],
   "source": [
    "@time grad_descent(problem,armijo,ϵ=problem.T,max_iter=problem.max_iter)"
   ]
  },
  {
   "cell_type": "code",
   "execution_count": 14,
   "id": "specified-content",
   "metadata": {},
   "outputs": [
    {
     "name": "stdout",
     "output_type": "stream",
     "text": [
      "  0.147655 seconds (1.78 M allocations: 131.727 MiB, 7.75% gc time)\n"
     ]
    },
    {
     "data": {
      "text/plain": [
       "([0.3989609707014607, 1.0000669389527228, -7.67351456388267e-21], 1.1440863154686109e-8, [1.1170753180758386e-8, -8.344188139401907e-10, -1.7771458472818954e-26], [3.888106991166885e-6, 1.1440863095157153e-8, 1.14408630951632e-8, 1.1440863095178039e-8, 1.1440863095177222e-8, 1.144086309518612e-8, 1.1440863095188743e-8, 1.144086309519793e-8, 1.1440863095205195e-8, 1.1440863095206914e-8  …  1.1440863154646437e-8, 1.1440863154644138e-8, 1.1440863154650853e-8, 1.1440863154652297e-8, 1.1440863154656231e-8, 1.1440863154669956e-8, 1.1440863154671979e-8, 1.1440863154675757e-8, 1.1440863154677592e-8, 1.1440863154686109e-8], [6.36092970629134e-6, 1.1170788172345028e-8, 1.11707881705192e-8, 1.117078816050502e-8, 1.117078815867121e-8, 1.1170788154581532e-8, 1.1170788152749804e-8, 1.117078814866254e-8, 1.1170788144571858e-8, 1.1170788142741526e-8  …  1.1170753203134307e-8, 1.117075320129834e-8, 1.1170753199476663e-8, 1.1170753197644388e-8, 1.1170753195815466e-8, 1.1170753190334736e-8, 1.1170753188504779e-8, 1.1170753186679666e-8, 1.1170753184849708e-8, 1.1170753180758386e-8], 10000)"
      ]
     },
     "execution_count": 14,
     "metadata": {},
     "output_type": "execute_result"
    }
   ],
   "source": [
    "@time grad_descent(problem,secao_aurea,ϵ=problem.T,max_iter=problem.max_iter)"
   ]
  },
  {
   "cell_type": "code",
   "execution_count": 6,
   "id": "literary-traveler",
   "metadata": {},
   "outputs": [
    {
     "name": "stdout",
     "output_type": "stream",
     "text": [
      "  0.707371 seconds (2.68 M allocations: 158.941 MiB, 4.17% gc time, 82.54% compilation time)\n"
     ]
    },
    {
     "data": {
      "text/plain": [
       "([0.3989602601481404, 1.0000601964264262, -1.3037373897347372e-22], 1.1398543428362652e-8, [1.1021965591678326e-8, -8.368479435300618e-10, 4.8467614016778965e-27], [3.888106991166885e-6, 3.840785607624169e-6, 3.794324183018356e-6, 3.748701986970153e-6, 3.7038989106134944e-6, 3.65989544434981e-6, 3.6166726565259655e-6, 3.5742121729918685e-6, 3.5324961575004482e-6, 3.4915072929024926e-6  …  1.1398543419733988e-8, 1.1398543420690123e-8, 1.1398543421650774e-8, 1.1398543422613311e-8, 1.1398543423568667e-8, 1.1398543424529843e-8, 1.1398543425486581e-8, 1.1398543426447547e-8, 1.1398543427408198e-8, 1.1398543428362652e-8], [6.36092970629134e-6, 6.283702266034502e-6, 6.20787649066077e-6, 6.133418612871981e-6, 6.0602958773483664e-6, 5.988476504535907e-6, 5.917929655937762e-6, 5.848625400837122e-6, 5.780534684390889e-6, 5.713629297017406e-6  …  1.1021966856835852e-8, 1.1021966716163144e-8, 1.1021966575524462e-8, 1.1021966434902688e-8, 1.1021966294292545e-8, 1.10219661537307e-8, 1.1021966013177606e-8, 1.1021965872667713e-8, 1.102196573217243e-8, 1.1021965591678326e-8], 10000)"
      ]
     },
     "execution_count": 6,
     "metadata": {},
     "output_type": "execute_result"
    }
   ],
   "source": [
    "@time grad_descent(problem,interpolacao,ϵ=problem.T,max_iter=problem.max_iter)"
   ]
  },
  {
   "cell_type": "code",
   "execution_count": 7,
   "id": "broken-ability",
   "metadata": {},
   "outputs": [],
   "source": [
    "E₁ = 0.1:0.2:1.0\n",
    "R₁ = 0.1:0.2:1.0;"
   ]
  },
  {
   "cell_type": "code",
   "execution_count": 8,
   "id": "modular-nightmare",
   "metadata": {},
   "outputs": [
    {
     "data": {
      "text/plain": [
       "Dict{Any, Any} with 25 entries:\n",
       "  (0.5, 0.5) => 1.19238e-10\n",
       "  (0.3, 0.9) => 1.19238e-10\n",
       "  (0.5, 0.7) => 1.19238e-10\n",
       "  (0.1, 0.5) => 1.19238e-10\n",
       "  (0.3, 0.3) => 1.19238e-10\n",
       "  (0.1, 0.7) => 1.19238e-10\n",
       "  (0.3, 0.1) => 1.19238e-10\n",
       "  (0.7, 0.9) => 1.19238e-10\n",
       "  (0.7, 0.3) => 1.19238e-10\n",
       "  (0.9, 0.9) => 1.19238e-10\n",
       "  (0.7, 0.1) => 1.19238e-10\n",
       "  (0.9, 0.3) => 1.19238e-10\n",
       "  (0.3, 0.5) => 1.19238e-10\n",
       "  (0.3, 0.7) => 1.19238e-10\n",
       "  (0.5, 0.9) => 1.19238e-10\n",
       "  (0.9, 0.1) => 1.19238e-10\n",
       "  (0.5, 0.3) => 1.19238e-10\n",
       "  (0.7, 0.5) => 1.19238e-10\n",
       "  (0.1, 0.9) => 1.19238e-10\n",
       "  (0.7, 0.7) => 1.19238e-10\n",
       "  (0.1, 0.3) => 1.19238e-10\n",
       "  (0.5, 0.1) => 1.19238e-10\n",
       "  (0.9, 0.5) => 1.19238e-10\n",
       "  (0.1, 0.1) => 1.19238e-10\n",
       "  (0.9, 0.7) => 1.19238e-10"
      ]
     },
     "execution_count": 8,
     "metadata": {},
     "output_type": "execute_result"
    }
   ],
   "source": [
    "Erro = grid_search(E₁, R₁, armijo, problem)"
   ]
  },
  {
   "cell_type": "code",
   "execution_count": 9,
   "id": "cooperative-preservation",
   "metadata": {},
   "outputs": [
    {
     "data": {
      "text/plain": [
       "((0.3, 0.9), 1.1923789400597367e-10)"
      ]
     },
     "execution_count": 9,
     "metadata": {},
     "output_type": "execute_result"
    }
   ],
   "source": [
    "min_par₁ = find_min_dict(Erro)"
   ]
  },
  {
   "cell_type": "code",
   "execution_count": 10,
   "id": "dressed-trinity",
   "metadata": {},
   "outputs": [
    {
     "data": {
      "text/plain": [
       "true"
      ]
     },
     "execution_count": 10,
     "metadata": {},
     "output_type": "execute_result"
    }
   ],
   "source": [
    "min_par₁[2] != 0.0"
   ]
  },
  {
   "cell_type": "code",
   "execution_count": 11,
   "id": "revised-timeline",
   "metadata": {},
   "outputs": [],
   "source": [
    "E₂ = (min_par₁[1][1]-0.05):0.01:(min_par₁[1][1]+0.05)\n",
    "R₂ = (min_par₁[1][2]-0.05):0.01:(min_par₁[1][2]+0.05);"
   ]
  },
  {
   "cell_type": "code",
   "execution_count": 12,
   "id": "opposite-subscription",
   "metadata": {},
   "outputs": [
    {
     "ename": "LoadError",
     "evalue": "InterruptException:",
     "output_type": "error",
     "traceback": [
      "InterruptException:",
      "",
      "Stacktrace:",
      "  [1] Array",
      "    @ ./boot.jl:448 [inlined]",
      "  [2] Array",
      "    @ ./boot.jl:457 [inlined]",
      "  [3] similar",
      "    @ ./abstractarray.jl:785 [inlined]",
      "  [4] similar",
      "    @ ./abstractarray.jl:784 [inlined]",
      "  [5] _array_for",
      "    @ ./array.jl:670 [inlined]",
      "  [6] vect",
      "    @ ./array.jl:108 [inlined]",
      "  [7] (::var\"#∇f#16\"{var\"#dp₃#15\"{var\"#p#10\"{var\"#t#9\", Vector{Float64}}, var\"#t#9\"}, var\"#dp₂#14\"{var\"#p#10\"{var\"#t#9\", Vector{Float64}}, var\"#t#9\"}, var\"#dp₁#13\"{var\"#p#10\"{var\"#t#9\", Vector{Float64}}, var\"#t#9\"}})(x::Vector{Float64})",
      "    @ Main ~/Documentos/Unicamp/Mestrado/2_semestre/MT601/Atividades/3/PNL/methods.jl:76",
      "  [8] (::var\"#dϕ#66\"{Vector{Float64}, Vector{Float64}, problems})(t::Int64)",
      "    @ Main ~/Documentos/Unicamp/Mestrado/2_semestre/MT601/Atividades/3/PNL/methods.jl:230",
      "  [9] armijo(x::Vector{Float64}, d::Vector{Float64}, p::problems)",
      "    @ Main ~/Documentos/Unicamp/Mestrado/2_semestre/MT601/Atividades/3/PNL/methods.jl:231",
      " [10] grad_descent(p::problems, stepsize::typeof(armijo); ϵ::Float64, ftarget::Float64, max_iter::Int64)",
      "    @ Main ~/Documentos/Unicamp/Mestrado/2_semestre/MT601/Atividades/3/PNL/methods.jl:322",
      " [11] grid_search(E::StepRangeLen{Float64, Base.TwicePrecision{Float64}, Base.TwicePrecision{Float64}}, R::StepRangeLen{Float64, Base.TwicePrecision{Float64}, Base.TwicePrecision{Float64}}, estrategia::Function, p::problems)",
      "    @ Main ~/Documentos/Unicamp/Mestrado/2_semestre/MT601/Atividades/3/PNL/methods.jl:273",
      " [12] top-level scope",
      "    @ In[12]:1",
      " [13] eval",
      "    @ ./boot.jl:360 [inlined]",
      " [14] include_string(mapexpr::typeof(REPL.softscope), mod::Module, code::String, filename::String)",
      "    @ Base ./loading.jl:1116"
     ]
    }
   ],
   "source": [
    "Erro = grid_search(E₂, R₂, armijo, problem)"
   ]
  },
  {
   "cell_type": "code",
   "execution_count": 13,
   "id": "economic-extraction",
   "metadata": {},
   "outputs": [
    {
     "data": {
      "text/plain": [
       "((0.3, 0.9), 1.1923789400597367e-10)"
      ]
     },
     "execution_count": 13,
     "metadata": {},
     "output_type": "execute_result"
    }
   ],
   "source": [
    "find_min_dict(Erro)"
   ]
  },
  {
   "cell_type": "code",
   "execution_count": null,
   "id": "retired-galaxy",
   "metadata": {},
   "outputs": [],
   "source": []
  }
 ],
 "metadata": {
  "kernelspec": {
   "display_name": "Julia 1.6.2",
   "language": "julia",
   "name": "julia-1.6"
  },
  "language_info": {
   "file_extension": ".jl",
   "mimetype": "application/julia",
   "name": "julia",
   "version": "1.6.2"
  }
 },
 "nbformat": 4,
 "nbformat_minor": 5
}
