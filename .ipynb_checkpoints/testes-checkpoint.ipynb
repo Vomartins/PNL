{
 "cells": [
  {
   "cell_type": "code",
   "execution_count": 1,
   "id": "optical-nerve",
   "metadata": {},
   "outputs": [],
   "source": [
    "include(\"methods.jl\");"
   ]
  },
  {
   "cell_type": "code",
   "execution_count": 39,
   "id": "developed-success",
   "metadata": {},
   "outputs": [
    {
     "data": {
      "text/plain": [
       "problems(var\"#f#3\"(), var\"#∇f#4\"(), [-1.2, 1.0], 1.0e-5, 2000, Dict{Float64, Vector{T} where T}(0.0 => [1.0, 1.0]), Dict(\"γ\" => 0.7, \"ϵ\" => 0.0010000000000000002, \"η\" => 0.25, \"ρ\" => 1.0, \"α\" => 1.0, \"β\" => 0.25))"
      ]
     },
     "execution_count": 39,
     "metadata": {},
     "output_type": "execute_result"
    }
   ],
   "source": [
    "problem = Rosenbrock()"
   ]
  },
  {
   "cell_type": "code",
   "execution_count": 40,
   "id": "prospective-thriller",
   "metadata": {},
   "outputs": [
    {
     "data": {
      "text/plain": [
       "∇f (generic function with 1 method)"
      ]
     },
     "execution_count": 40,
     "metadata": {},
     "output_type": "execute_result"
    }
   ],
   "source": [
    "f = problem.f\n",
    "∇f = problem.∇f"
   ]
  },
  {
   "cell_type": "code",
   "execution_count": 41,
   "id": "shaped-prescription",
   "metadata": {},
   "outputs": [],
   "source": [
    "x₀ = problem.x₀\n",
    "Ε = problem.Ε\n",
    "N = problem.max_iter;"
   ]
  },
  {
   "cell_type": "code",
   "execution_count": 42,
   "id": "improved-curtis",
   "metadata": {},
   "outputs": [
    {
     "name": "stdout",
     "output_type": "stream",
     "text": [
      "  0.843218 seconds (4.26 M allocations: 246.728 MiB, 5.78% gc time, 99.63% compilation time)\n"
     ]
    },
    {
     "data": {
      "text/plain": [
       "([-31.14599912540199, 970.1238833621655], 1033.6215168654107, [-1.2252836069680555, 1.0124368524816418], [24.199999999999996, 20.271002418602716, 17.033368774101604, 14.376412698105877, 12.20563593360231, 10.440587411683588, 9.01297902796681, 7.865028385087584, 6.94800286431068, 6.220942768887541  …  1033.6272692214839, 1033.6290702760816, 1033.6317426122212, 1033.6102706847926, 1033.612515828295, 1033.6145826191628, 1033.6164933476148, 1033.6182702389688, 1033.6199363103103, 1033.6215168654107], [25.519999999999996, 23.000000292836724, 20.733594009889718, 18.695235469745047, 16.86187854471999, 15.212735071478843, 13.729055424418378, 12.393929045546173, 11.192102933019754, 10.109816258135098  …  1.0227255117843015, 1.0266472753937705, 1.0324498812201455, 2.789262819467396, 2.4735863894490677, 2.1845446965980386, 1.9186304401378536, 1.6724423314667831, 1.4425511873341037, 1.2252836069680555], 2000)"
      ]
     },
     "execution_count": 42,
     "metadata": {},
     "output_type": "execute_result"
    }
   ],
   "source": [
    "@time grad_descent(x₀,f,∇f,cauchystepsize) #cauchy apenas pra funções quadráticas"
   ]
  },
  {
   "cell_type": "code",
   "execution_count": 43,
   "id": "higher-liquid",
   "metadata": {},
   "outputs": [],
   "source": [
    "η = problem.parameters[\"η\"]\n",
    "γ = problem.parameters[\"γ\"];"
   ]
  },
  {
   "cell_type": "code",
   "execution_count": 44,
   "id": "liable-refund",
   "metadata": {},
   "outputs": [
    {
     "data": {
      "text/plain": [
       "stepsize (generic function with 1 method)"
      ]
     },
     "execution_count": 44,
     "metadata": {},
     "output_type": "execute_result"
    }
   ],
   "source": [
    "stepsize(x,d,f,∇f) = armijo(x,d,f,∇f,η,γ)"
   ]
  },
  {
   "cell_type": "code",
   "execution_count": 45,
   "id": "funded-campbell",
   "metadata": {},
   "outputs": [
    {
     "name": "stdout",
     "output_type": "stream",
     "text": [
      "  0.158357 seconds (1.55 M allocations: 139.426 MiB, 23.24% gc time, 44.06% compilation time)\n"
     ]
    },
    {
     "data": {
      "text/plain": [
       "([1.0025903605627369, 1.005232125171262], 6.9097239053024305e-6, [0.0033883270566670664, 0.0008938815588654947], [24.199999999999996, 19.79551277744476, 5.870182152194773, 4.444376973015986, 2.750859278769536, 2.255692858763398, 0.8965442047450416, 0.763637910883324, 0.6539979791883519, 0.21213171658036975  …  6.9097239053024305e-6, 6.9097239053024305e-6, 6.9097239053024305e-6, 6.9097239053024305e-6, 6.9097239053024305e-6, 6.9097239053024305e-6, 6.9097239053024305e-6, 6.9097239053024305e-6, 6.9097239053024305e-6, 6.9097239053024305e-6], [25.519999999999996, 10.016799195973784, 9.520934271482231, 1.5896890481302117, 4.419917546700441, 2.1027965513122657, 1.9096662164895521, 1.4262243762401297, 0.9543342910200109, 1.8434224528293401  …  0.0033883270566670664, 0.0033883270566670664, 0.0033883270566670664, 0.0033883270566670664, 0.0033883270566670664, 0.0033883270566670664, 0.0033883270566670664, 0.0033883270566670664, 0.0033883270566670664, 0.0033883270566670664], 2000)"
      ]
     },
     "execution_count": 45,
     "metadata": {},
     "output_type": "execute_result"
    }
   ],
   "source": [
    "@time grad_descent(x₀,f,∇f,stepsize,ϵ=Ε,max_iter=N)"
   ]
  },
  {
   "cell_type": "code",
   "execution_count": 46,
   "id": "therapeutic-demonstration",
   "metadata": {},
   "outputs": [],
   "source": [
    "ϵ = problem.parameters[\"ϵ\"]\n",
    "ρ = problem.parameters[\"ρ\"];"
   ]
  },
  {
   "cell_type": "code",
   "execution_count": 47,
   "id": "proof-swimming",
   "metadata": {},
   "outputs": [
    {
     "data": {
      "text/plain": [
       "stepsize (generic function with 1 method)"
      ]
     },
     "execution_count": 47,
     "metadata": {},
     "output_type": "execute_result"
    }
   ],
   "source": [
    "stepsize(x,d,f,∇f) = secao_aurea(x,d,f,∇f,ϵ,ρ)"
   ]
  },
  {
   "cell_type": "code",
   "execution_count": 48,
   "id": "patient-visitor",
   "metadata": {},
   "outputs": [
    {
     "name": "stdout",
     "output_type": "stream",
     "text": [
      "  0.037951 seconds (93.36 k allocations: 6.911 MiB, 17.28% gc time, 95.26% compilation time)\n"
     ]
    },
    {
     "data": {
      "text/plain": [
       "([0.9999956319775204, 0.9999912447034204], 1.9116756370330895e-11, [-7.965220324777776e-6, -3.854140007142348e-7], [24.199999999999996, 0.1450722560056529, 6.160131876086749, 0.1963862642849448, 0.19611548478553315, 0.19610711558455815, 0.19629893605295096, 0.19664062103962338, 0.19709162676475378, 0.19761944269717566  …  3.524926388094362e-10, 3.525262906255119e-10, 3.5255288954726936e-10, 3.5257273422083783e-10, 3.525861121961936e-10, 3.5259330008358876e-10, 3.5259456388672976e-10, 3.5253750465887594e-10, 4.527883046732637e-11, 1.9116756370330895e-11], [25.519999999999996, 1.0761755051950292, 4.431561387418228, 0.8982294794968562, 0.8295220704826196, 0.766728028098327, 0.7093312922383127, 0.6568619710132471, 0.6088920291776816, 0.5650314079953143  …  1.3488684591500544e-5, 1.3512641479085374e-5, 1.3535380420925947e-5, 1.3556957503269018e-5, 1.3577426241084822e-5, 1.359683767798714e-5, 1.3615240506137383e-5, 1.405440278157144e-5, 2.8867606208115037e-5, 7.965220324777776e-6], 626)"
      ]
     },
     "execution_count": 48,
     "metadata": {},
     "output_type": "execute_result"
    }
   ],
   "source": [
    "@time grad_descent(x₀,f,∇f,stepsize,ϵ=Ε,max_iter=N)"
   ]
  },
  {
   "cell_type": "code",
   "execution_count": 49,
   "id": "compliant-biotechnology",
   "metadata": {},
   "outputs": [],
   "source": [
    "β = problem.parameters[\"β\"]\n",
    "α = problem.parameters[\"α\"];"
   ]
  },
  {
   "cell_type": "code",
   "execution_count": 50,
   "id": "cd2aef52",
   "metadata": {},
   "outputs": [
    {
     "data": {
      "text/plain": [
       "stepsize (generic function with 1 method)"
      ]
     },
     "execution_count": 50,
     "metadata": {},
     "output_type": "execute_result"
    }
   ],
   "source": [
    "stepsize(x,d,f,∇f) = interpolacao(x,d,f,∇f,η,α)"
   ]
  },
  {
   "cell_type": "code",
   "execution_count": 51,
   "id": "5163cb1b",
   "metadata": {},
   "outputs": [
    {
     "name": "stdout",
     "output_type": "stream",
     "text": [
      "  0.137508 seconds (2.42 M allocations: 195.860 MiB, 14.76% gc time, 33.80% compilation time)\n"
     ]
    },
    {
     "data": {
      "text/plain": [
       "4.086107180619298"
      ]
     },
     "execution_count": 51,
     "metadata": {},
     "output_type": "execute_result"
    }
   ],
   "source": [
    "@time grad_descent(x₀,f,∇f,stepsize,ϵ=Ε,max_iter=N)[2]"
   ]
  },
  {
   "cell_type": "code",
   "execution_count": 85,
   "id": "careful-turkish",
   "metadata": {},
   "outputs": [],
   "source": [
    "E₁ = 0.1:0.2:1.0\n",
    "R₁ = 0.1:0.2:1.0;"
   ]
  },
  {
   "cell_type": "code",
   "execution_count": 86,
   "id": "gentle-pepper",
   "metadata": {},
   "outputs": [
    {
     "data": {
      "text/plain": [
       "Dict{Any, Any} with 25 entries:\n",
       "  (0.5, 0.5) => 4.45812\n",
       "  (0.3, 0.9) => 0.0454143\n",
       "  (0.5, 0.7) => 0.0677707\n",
       "  (0.1, 0.5) => 4.45812\n",
       "  (0.3, 0.3) => 3.08451\n",
       "  (0.1, 0.7) => 0.116647\n",
       "  (0.3, 0.1) => 0.134973\n",
       "  (0.7, 0.9) => 0.00750846\n",
       "  (0.7, 0.3) => 3.91692\n",
       "  (0.9, 0.9) => 0.14432\n",
       "  (0.7, 0.1) => 3.73105\n",
       "  (0.9, 0.3) => 3.91692\n",
       "  (0.3, 0.5) => 4.45812\n",
       "  (0.3, 0.7) => 5.65921e-6\n",
       "  (0.5, 0.9) => 0.179663\n",
       "  (0.9, 0.1) => 3.73439\n",
       "  (0.5, 0.3) => 3.08482\n",
       "  (0.7, 0.5) => 4.45812\n",
       "  (0.1, 0.9) => 0.0213612\n",
       "  (0.7, 0.7) => 4.0251\n",
       "  (0.1, 0.3) => 3.0834\n",
       "  (0.5, 0.1) => 3.72702\n",
       "  (0.9, 0.5) => 4.45812\n",
       "  (0.1, 0.1) => 0.134961\n",
       "  (0.9, 0.7) => 4.0251"
      ]
     },
     "execution_count": 86,
     "metadata": {},
     "output_type": "execute_result"
    }
   ],
   "source": [
    "Erro = avaliation(E₁, R₁, armijo, x₀, f, ∇f, Ε, N)"
   ]
  },
  {
   "cell_type": "code",
   "execution_count": 87,
   "id": "emotional-drain",
   "metadata": {},
   "outputs": [
    {
     "data": {
      "text/plain": [
       "((0.3, 0.7), 5.659205723365632e-6)"
      ]
     },
     "execution_count": 87,
     "metadata": {},
     "output_type": "execute_result"
    }
   ],
   "source": [
    "min_par₁ = find_min_dict(Erro)"
   ]
  },
  {
   "cell_type": "code",
   "execution_count": 88,
   "id": "illegal-couple",
   "metadata": {},
   "outputs": [
    {
     "data": {
      "text/plain": [
       "true"
      ]
     },
     "execution_count": 88,
     "metadata": {},
     "output_type": "execute_result"
    }
   ],
   "source": [
    "min_par₁[2] != 0.0"
   ]
  },
  {
   "cell_type": "code",
   "execution_count": 91,
   "id": "cardiac-times",
   "metadata": {},
   "outputs": [],
   "source": [
    "E₂ = E₁\n",
    "R₂ = (min_par₁[1][2]-0.05):0.01:(min_par₁[1][2]+0.05);"
   ]
  },
  {
   "cell_type": "code",
   "execution_count": 92,
   "id": "positive-northeast",
   "metadata": {},
   "outputs": [
    {
     "data": {
      "text/plain": [
       "Dict{Any, Any} with 55 entries:\n",
       "  (0.3, 0.72) => 0.141749\n",
       "  (0.7, 0.74) => 0.144926\n",
       "  (0.1, 0.7)  => 0.116647\n",
       "  (0.7, 0.72) => 0.223868\n",
       "  (0.3, 0.65) => 4.20911\n",
       "  (0.1, 0.66) => 3.46654\n",
       "  (0.1, 0.67) => 0.148463\n",
       "  (0.7, 0.65) => 4.17722\n",
       "  (0.9, 0.71) => 4.1405\n",
       "  (0.9, 0.75) => 3.48985\n",
       "  (0.9, 0.68) => 2.86255\n",
       "  (0.5, 0.71) => 0.143024\n",
       "  (0.1, 0.73) => 0.0779555\n",
       "  (0.5, 0.75) => 0.110981\n",
       "  (0.5, 0.68) => 0.243586\n",
       "  (0.9, 0.74) => 3.79127\n",
       "  (0.3, 0.69) => 0.00124049\n",
       "  (0.9, 0.72) => 4.04313\n",
       "  (0.5, 0.74) => 0.0775501\n",
       "  (0.7, 0.69) => 3.82928\n",
       "  (0.5, 0.72) => 0.223868\n",
       "  (0.3, 0.7)  => 5.65921e-6\n",
       "  (0.7, 0.7)  => 4.0251\n",
       "  (0.9, 0.65) => 4.17722\n",
       "  (0.3, 0.66) => 3.46654\n",
       "  ⋮           => ⋮"
      ]
     },
     "execution_count": 92,
     "metadata": {},
     "output_type": "execute_result"
    }
   ],
   "source": [
    "Erro = avaliation(E₂, R₂, armijo, x₀, f, ∇f, Ε, N)"
   ]
  },
  {
   "cell_type": "code",
   "execution_count": 93,
   "id": "white-joining",
   "metadata": {},
   "outputs": [
    {
     "data": {
      "text/plain": [
       "((0.3, 0.7), 5.659205723365632e-6)"
      ]
     },
     "execution_count": 93,
     "metadata": {},
     "output_type": "execute_result"
    }
   ],
   "source": [
    "find_min_dict(Erro)"
   ]
  },
  {
   "cell_type": "code",
   "execution_count": null,
   "id": "subsequent-police",
   "metadata": {},
   "outputs": [],
   "source": []
  }
 ],
 "metadata": {
  "kernelspec": {
   "display_name": "Julia 1.6.2",
   "language": "julia",
   "name": "julia-1.6"
  },
  "language_info": {
   "file_extension": ".jl",
   "mimetype": "application/julia",
   "name": "julia",
   "version": "1.6.2"
  }
 },
 "nbformat": 4,
 "nbformat_minor": 5
}
