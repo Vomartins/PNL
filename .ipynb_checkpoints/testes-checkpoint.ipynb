{
 "cells": [
  {
   "cell_type": "code",
   "execution_count": 1,
   "id": "advisory-sailing",
   "metadata": {},
   "outputs": [],
   "source": [
    "using BenchmarkTools"
   ]
  },
  {
   "cell_type": "code",
   "execution_count": 2,
   "id": "graphic-publication",
   "metadata": {},
   "outputs": [],
   "source": [
    "include(\"methods.jl\");"
   ]
  },
  {
   "cell_type": "code",
   "execution_count": 3,
   "id": "metropolitan-dominant",
   "metadata": {},
   "outputs": [
    {
     "data": {
      "text/plain": [
       "problems(\"Trigonometric\", var\"#f#26\"{var\"#p#24\"{Int64, Int64}, Int64}(var\"#p#24\"{Int64, Int64}(2, 2), 2), var\"#∇f#31\"{Int64, var\"#dp#29\"{Int64, var\"#dq#28\", var\"#p#24\"{Int64, Int64}}}(2, var\"#dp#29\"{Int64, var\"#dq#28\", var\"#p#24\"{Int64, Int64}}(2, var\"#dq#28\"(), var\"#p#24\"{Int64, Int64}(2, 2))), [0.5, 0.5], 1.0e-6, 5000, 0.0, Dict(\"γ\" => 0.8, \"ϵ\" => 1.0000000000000003e-5, \"η\" => 0.4, \"ρ\" => 1.0, \"α\" => 1.0, \"β\" => 1.0e-6))"
      ]
     },
     "execution_count": 3,
     "metadata": {},
     "output_type": "execute_result"
    }
   ],
   "source": [
    "problem = trigonometric(2)"
   ]
  },
  {
   "cell_type": "code",
   "execution_count": 4,
   "id": "searching-alias",
   "metadata": {},
   "outputs": [
    {
     "name": "stdout",
     "output_type": "stream",
     "text": [
      "  2.494303 seconds (9.50 M allocations: 573.090 MiB, 5.64% gc time, 99.91% compilation time)\n"
     ]
    },
    {
     "data": {
      "text/plain": [
       "1.9571704236821283e-14"
      ]
     },
     "execution_count": 4,
     "metadata": {},
     "output_type": "execute_result"
    }
   ],
   "source": [
    "@time grad_descent(problem,cauchystepsize,ϵ=problem.T,max_iter=problem.max_iter)[2] #cauchy apenas pra funções quadráticas"
   ]
  },
  {
   "cell_type": "code",
   "execution_count": 16,
   "id": "proof-imaging",
   "metadata": {},
   "outputs": [
    {
     "name": "stdout",
     "output_type": "stream",
     "text": [
      "  0.071085 seconds (78.33 k allocations: 4.823 MiB, 99.62% compilation time)\n"
     ]
    },
    {
     "data": {
      "text/plain": [
       "([0.24306536231899048, 0.6126758357565905], 5.325932371004589e-13, [7.25254177152879e-7, -7.953789171038063e-7], [0.012687776161404513, 0.009529215349911795, 0.008267850897270956, 0.006696769096762064, 0.00498800917406906, 0.00320137295243466, 0.0018916617079706571, 0.0009630326863892539, 0.00045172848616163486, 0.00018877705758891635  …  7.1949152232253526e-9, 2.415120248777148e-9, 8.514759166691141e-10, 3.017557545677575e-10, 1.0222720410337719e-10, 3.630906182303115e-11, 1.2666297390613151e-11, 4.3318490481053055e-12, 1.6309745281943595e-12, 5.325932371004589e-13], [0.0960696773623254, 0.0498957747772228, 0.04468965279410594, 0.05337275867624978, 0.05875212411490321, 0.04697598469473651, 0.03871237437829325, 0.02876302694468961, 0.019132193897859175, 0.014487057125947393  …  0.00011332466981572395, 4.9908916420024824e-5, 2.7235347203715607e-5, 2.0310385237236453e-5, 1.10395310025001e-5, 6.364592808171228e-6, 4.486634445238598e-6, 2.1453564059843437e-6, 1.827409656165567e-6, 7.953789171038063e-7], 28)"
      ]
     },
     "execution_count": 16,
     "metadata": {},
     "output_type": "execute_result"
    }
   ],
   "source": [
    "@time grad_descent(problem,armijo,ϵ=problem.T,max_iter=problem.max_iter)"
   ]
  },
  {
   "cell_type": "code",
   "execution_count": 6,
   "id": "specified-content",
   "metadata": {},
   "outputs": [
    {
     "name": "stdout",
     "output_type": "stream",
     "text": [
      "  0.071534 seconds (141.38 k allocations: 8.558 MiB, 99.62% compilation time)\n"
     ]
    },
    {
     "data": {
      "text/plain": [
       "([0.24306407970054317, 0.612675891076694], 5.991562551834463e-14, [-4.433647284382411e-8, -5.060586529182748e-7], [0.012687776161404513, 0.009319369342138277, 0.000706371662526985, 4.878876809610161e-5, 2.9163977618213454e-6, 1.5462303873327732e-7, 8.11913864315676e-9, 4.232334583187971e-10, 2.2060636745802314e-11, 1.1495007731222745e-12, 5.991562551834463e-14], [0.0960696773623254, 0.037600611720025844, 0.050227379279648564, 0.007851529883466355, 0.0035122353351761722, 0.00042874364957639055, 0.0001862436079675054, 2.239123948731239e-5, 9.710454593131022e-6, 1.1668169559240378e-6, 5.060586529182748e-7], 10)"
      ]
     },
     "execution_count": 6,
     "metadata": {},
     "output_type": "execute_result"
    }
   ],
   "source": [
    "@time grad_descent(problem,secao_aurea,ϵ=problem.T,max_iter=problem.max_iter)"
   ]
  },
  {
   "cell_type": "code",
   "execution_count": 7,
   "id": "literary-traveler",
   "metadata": {},
   "outputs": [
    {
     "name": "stdout",
     "output_type": "stream",
     "text": [
      "  0.568237 seconds (1.78 M allocations: 105.716 MiB, 3.22% gc time, 99.95% compilation time)\n"
     ]
    },
    {
     "data": {
      "text/plain": [
       "([0.24306475140819964, 0.6126761198718538], 8.949032930442823e-14, [3.262025571712216e-7, -6.293145093162471e-8], [0.012687776161404513, 0.0105635395578701, 0.010292574226375703, 0.007883044685929303, 0.004934747898717686, 0.0031835606656915047, 0.001903928616334748, 0.0013911383467924414, 0.00031839649965105266, 0.00011824038069601737  …  2.312437384583811e-8, 5.187746664786186e-9, 2.9738291018363893e-9, 3.640493325941616e-10, 7.28931793174975e-11, 3.033343634938403e-11, 5.709109457957394e-12, 1.275938084089115e-12, 7.291811562579588e-13, 8.949032930442823e-14], [0.0960696773623254, 0.07232977620507532, 0.1046870662372264, 0.0957195522210468, 0.03841466366320574, 0.0468558051679669, 0.05272185547476252, 0.06965270548595827, 0.016990493068650164, 0.01502936424288727  …  0.00015693043548455432, 7.349979662602275e-5, 0.00010521718633490063, 2.0803581936847222e-5, 7.930666785009402e-6, 9.284935627270961e-6, 2.4671393412426097e-6, 1.149971007089332e-6, 1.646788845327791e-6, 3.262025571712216e-7], 24)"
      ]
     },
     "execution_count": 7,
     "metadata": {},
     "output_type": "execute_result"
    }
   ],
   "source": [
    "@time grad_descent(problem,interpolacao,ϵ=problem.T,max_iter=problem.max_iter)"
   ]
  },
  {
   "cell_type": "code",
   "execution_count": 8,
   "id": "broken-ability",
   "metadata": {},
   "outputs": [],
   "source": [
    "E₁ = 0.1:0.2:1.0\n",
    "R₁ = 0.1:0.2:1.0;"
   ]
  },
  {
   "cell_type": "code",
   "execution_count": 9,
   "id": "modular-nightmare",
   "metadata": {},
   "outputs": [
    {
     "name": "stdout",
     "output_type": "stream",
     "text": [
      "  0.199201 seconds (510.56 k allocations: 28.665 MiB, 97.12% compilation time)\n"
     ]
    },
    {
     "data": {
      "text/plain": [
       "Dict{Any, Any} with 25 entries:\n",
       "  (0.5, 0.5) => (7.51323e-13, 43)\n",
       "  (0.3, 0.9) => (3.15792e-13, 27)\n",
       "  (0.5, 0.7) => (7.86587e-13, 29)\n",
       "  (0.1, 0.5) => (7.51323e-13, 43)\n",
       "  (0.3, 0.3) => (5.89641e-13, 76)\n",
       "  (0.1, 0.7) => (7.86587e-13, 29)\n",
       "  (0.3, 0.1) => (8.24034e-13, 236)\n",
       "  (0.7, 0.9) => (2.18519e-13, 23)\n",
       "  (0.7, 0.3) => (5.89641e-13, 76)\n",
       "  (0.9, 0.9) => (6.79391e-17, 9)\n",
       "  (0.7, 0.1) => (8.24034e-13, 236)\n",
       "  (0.9, 0.3) => (5.87821e-13, 75)\n",
       "  (0.3, 0.5) => (7.51323e-13, 43)\n",
       "  (0.3, 0.7) => (7.86587e-13, 29)\n",
       "  (0.5, 0.9) => (2.27622e-13, 27)\n",
       "  (0.9, 0.1) => (8.24034e-13, 236)\n",
       "  (0.5, 0.3) => (5.89641e-13, 76)\n",
       "  (0.7, 0.5) => (6.26405e-13, 43)\n",
       "  (0.1, 0.9) => (3.88025e-13, 25)\n",
       "  (0.7, 0.7) => (8.3426e-13, 29)\n",
       "  (0.1, 0.3) => (5.89641e-13, 76)\n",
       "  (0.5, 0.1) => (8.24034e-13, 236)\n",
       "  (0.9, 0.5) => (7.3771e-15, 19)\n",
       "  (0.1, 0.1) => (8.24034e-13, 236)\n",
       "  (0.9, 0.7) => (6.23905e-14, 16)"
      ]
     },
     "execution_count": 9,
     "metadata": {},
     "output_type": "execute_result"
    }
   ],
   "source": [
    "@time Erro = grid_search(E₁, R₁, interpolacao, problem)"
   ]
  },
  {
   "cell_type": "code",
   "execution_count": 10,
   "id": "cooperative-preservation",
   "metadata": {},
   "outputs": [
    {
     "data": {
      "text/plain": [
       "((0.9, 0.9), 6.793908221948749e-17, 9)"
      ]
     },
     "execution_count": 10,
     "metadata": {},
     "output_type": "execute_result"
    }
   ],
   "source": [
    "min_par₁ = find_min_dict(Erro)"
   ]
  },
  {
   "cell_type": "code",
   "execution_count": 11,
   "id": "personalized-carroll",
   "metadata": {},
   "outputs": [
    {
     "data": {
      "text/plain": [
       "false"
      ]
     },
     "execution_count": 11,
     "metadata": {},
     "output_type": "execute_result"
    }
   ],
   "source": [
    "isnan(min_par₁[2])"
   ]
  },
  {
   "cell_type": "code",
   "execution_count": 12,
   "id": "dressed-trinity",
   "metadata": {},
   "outputs": [
    {
     "data": {
      "text/plain": [
       "true"
      ]
     },
     "execution_count": 12,
     "metadata": {},
     "output_type": "execute_result"
    }
   ],
   "source": [
    "min_par₁[2] != 0.0"
   ]
  },
  {
   "cell_type": "code",
   "execution_count": 13,
   "id": "revised-timeline",
   "metadata": {},
   "outputs": [],
   "source": [
    "E₂ = (min_par₁[1][1]-0.05):0.01:(min_par₁[1][1]+0.05)\n",
    "R₂ = (min_par₁[1][2]-0.05):0.01:(min_par₁[1][2]+0.05);"
   ]
  },
  {
   "cell_type": "code",
   "execution_count": 14,
   "id": "opposite-subscription",
   "metadata": {},
   "outputs": [
    {
     "data": {
      "text/plain": [
       "Dict{Any, Any} with 121 entries:\n",
       "  (0.86, 0.86) => (1.8818e-13, 22)\n",
       "  (0.95, 0.89) => (4.51004e-13, 25)\n",
       "  (0.91, 0.91) => (5.34042e-13, 25)\n",
       "  (0.92, 0.94) => (3.56102e-13, 26)\n",
       "  (0.86, 0.91) => (6.94355e-14, 10)\n",
       "  (0.89, 0.88) => (6.31387e-14, 9)\n",
       "  (0.85, 0.87) => (5.6049e-13, 22)\n",
       "  (0.92, 0.9)  => (4.7085e-13, 25)\n",
       "  (0.9, 0.87)  => (2.93224e-14, 9)\n",
       "  (0.89, 0.86) => (1.8818e-13, 22)\n",
       "  (0.94, 0.93) => (2.69477e-13, 26)\n",
       "  (0.92, 0.95) => (4.785e-13, 26)\n",
       "  (0.89, 0.91) => (6.94355e-14, 10)\n",
       "  (0.87, 0.94) => (3.56102e-13, 26)\n",
       "  (0.88, 0.92) => (1.98361e-13, 11)\n",
       "  (0.92, 0.85) => (6.2982e-13, 11)\n",
       "  (0.93, 0.87) => (2.93224e-14, 9)\n",
       "  (0.88, 0.89) => (1.17963e-13, 10)\n",
       "  (0.87, 0.9)  => (6.79391e-17, 9)\n",
       "  (0.91, 0.93) => (2.69477e-13, 26)\n",
       "  (0.86, 0.93) => (1.06781e-14, 13)\n",
       "  (0.87, 0.95) => (4.785e-13, 26)\n",
       "  (0.95, 0.88) => (4.76808e-13, 25)\n",
       "  (0.94, 0.94) => (6.85607e-13, 11)\n",
       "  (0.87, 0.85) => (2.97923e-13, 21)\n",
       "  ⋮            => ⋮"
      ]
     },
     "execution_count": 14,
     "metadata": {},
     "output_type": "execute_result"
    }
   ],
   "source": [
    "Erro = grid_search(E₂, R₂, interpolacao, problem)"
   ]
  },
  {
   "cell_type": "code",
   "execution_count": 15,
   "id": "economic-extraction",
   "metadata": {},
   "outputs": [
    {
     "data": {
      "text/plain": [
       "((0.87, 0.9), 6.793908221948749e-17, 9)"
      ]
     },
     "execution_count": 15,
     "metadata": {},
     "output_type": "execute_result"
    }
   ],
   "source": [
    "find_min_dict(Erro)"
   ]
  },
  {
   "cell_type": "code",
   "execution_count": null,
   "id": "digital-device",
   "metadata": {},
   "outputs": [],
   "source": []
  }
 ],
 "metadata": {
  "kernelspec": {
   "display_name": "Julia 1.6.2",
   "language": "julia",
   "name": "julia-1.6"
  },
  "language_info": {
   "file_extension": ".jl",
   "mimetype": "application/julia",
   "name": "julia",
   "version": "1.6.2"
  }
 },
 "nbformat": 4,
 "nbformat_minor": 5
}
