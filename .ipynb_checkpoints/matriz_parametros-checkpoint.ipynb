{
 "cells": [
  {
   "cell_type": "code",
   "execution_count": 1,
   "id": "quantitative-equation",
   "metadata": {},
   "outputs": [],
   "source": [
    "using IterTools"
   ]
  },
  {
   "cell_type": "code",
   "execution_count": 2,
   "id": "experienced-hydrogen",
   "metadata": {},
   "outputs": [],
   "source": [
    "include(\"methods.jl\");"
   ]
  },
  {
   "cell_type": "code",
   "execution_count": 3,
   "id": "grand-association",
   "metadata": {},
   "outputs": [],
   "source": [
    "n = 2\n",
    "m = 4;"
   ]
  },
  {
   "cell_type": "code",
   "execution_count": 4,
   "id": "casual-xerox",
   "metadata": {},
   "outputs": [],
   "source": [
    "Funcoes = [Rosenbrock(), Gaussian(), trigonometric(n), linear_rank1(n,m)];"
   ]
  },
  {
   "cell_type": "code",
   "execution_count": 5,
   "id": "affecting-bridges",
   "metadata": {},
   "outputs": [],
   "source": [
    "Estrategias = [secao_aurea, armijo, interpolacao];"
   ]
  },
  {
   "cell_type": "code",
   "execution_count": 6,
   "id": "regular-presence",
   "metadata": {},
   "outputs": [],
   "source": [
    "Parameters = Dict()\n",
    "Parameters[secao_aurea] = (0.1:0.2:1,[10.0^(-i) for i in 1:5])\n",
    "Parameters[armijo] = (0.1:0.2:1,0.1:0.2:1)\n",
    "Parameters[interpolacao] = (0.1:0.2:1, 0.1:0.2:1);"
   ]
  },
  {
   "cell_type": "code",
   "execution_count": 7,
   "id": "normal-tribute",
   "metadata": {},
   "outputs": [
    {
     "name": "stdout",
     "output_type": "stream",
     "text": [
      "((0.9, 0.001), 1.1688304580369458e-10)((0.3, 0.7), 5.659205723365632e-6)((0.9, 0.9), 7.223970139681705e-11)((0.1, 9.999999999999999e-6), 1.6156924085584347e-10)((0.3, 0.9), 1.1923789400597367e-10)((0.5, 0.7), 1.1922524431928e-10)((0.7, 0.001), 4.798857035674636e-14)((0.1, 0.7), 1.4320294611095287e-13)((0.9, 0.9), 6.793908221948749e-17)((0.9, 0.0001), 1.1102230246251565e-16)((0.1, 0.9), 1.1102230246251565e-16)((0.7, 0.1), 4.440892098500626e-16)"
     ]
    }
   ],
   "source": [
    "hist_erro = Dict()\n",
    "hist_param = Dict()\n",
    "for problem in product(Estrategias, Funcoes)\n",
    "    erro = grid_search(Parameters[problem[1]][1], Parameters[problem[1]][2], problem[1], problem[2])\n",
    "    result = find_min_dict(erro)\n",
    "    print(result)\n",
    "    hist_erro[problem[1], problem[2].name()] = result[2]\n",
    "    hist_param[problem[1], problem[2].name()] = result[1]\n",
    "end"
   ]
  },
  {
   "cell_type": "code",
   "execution_count": 8,
   "id": "stylish-spray",
   "metadata": {},
   "outputs": [
    {
     "data": {
      "text/plain": [
       "Dict{Any, Any} with 12 entries:\n",
       "  (secao_aurea, problems(f, ∇f, [-1.2, 1.0], 1.0e-5, 2000, 0.0, … => 1.16883e-10\n",
       "  (interpolacao, problems(f, ∇f, [-1.2, 1.0], 1.0e-5, 2000, 0.0,… => 7.22397e-11\n",
       "  (interpolacao, problems(f, ∇f, [0.4, 1.0, 0.0], 1.0e-10, 10000… => 1.19225e-10\n",
       "  (armijo, problems(f, ∇f, [-1.2, 1.0], 1.0e-5, 2000, 0.0, Dict(… => 5.65921e-6\n",
       "  (secao_aurea, problems(f, ∇f, [0.4, 1.0, 0.0], 1.0e-10, 10000,… => 1.61569e-10\n",
       "  (armijo, problems(f, ∇f, [0.4, 1.0, 0.0], 1.0e-10, 10000, 1.12… => 1.19238e-10\n",
       "  (secao_aurea, problems(f, ∇f, [1.0, 1.0, 1.0, 1.0], 1.0e-6, 30… => 1.11022e-16\n",
       "  (interpolacao, problems(f, ∇f, [0.5, 0.5], 1.0e-6, 3000, 0.0, … => 6.79391e-17\n",
       "  (secao_aurea, problems(f, ∇f, [0.5, 0.5], 1.0e-6, 3000, 0.0, D… => 4.79886e-14\n",
       "  (armijo, problems(f, ∇f, [0.5, 0.5], 1.0e-6, 3000, 0.0, Dict(\"… => 1.43203e-13\n",
       "  (armijo, problems(f, ∇f, [1.0, 1.0, 1.0, 1.0], 1.0e-6, 3000, 0… => 1.11022e-16\n",
       "  (interpolacao, problems(f, ∇f, [1.0, 1.0, 1.0, 1.0], 1.0e-6, 3… => 4.44089e-16"
      ]
     },
     "execution_count": 8,
     "metadata": {},
     "output_type": "execute_result"
    }
   ],
   "source": [
    "hist_erro"
   ]
  },
  {
   "cell_type": "code",
   "execution_count": 11,
   "id": "innovative-ability",
   "metadata": {},
   "outputs": [
    {
     "ename": "LoadError",
     "evalue": "type problems has no field name",
     "output_type": "error",
     "traceback": [
      "type problems has no field name",
      "",
      "Stacktrace:",
      " [1] getproperty(x::problems, f::Symbol)",
      "   @ Base ./Base.jl:33",
      " [2] top-level scope",
      "   @ In[11]:1",
      " [3] eval",
      "   @ ./boot.jl:360 [inlined]",
      " [4] include_string(mapexpr::typeof(REPL.softscope), mod::Module, code::String, filename::String)",
      "   @ Base ./loading.jl:1116"
     ]
    }
   ],
   "source": [
    "Funcoes[1].name()"
   ]
  },
  {
   "cell_type": "code",
   "execution_count": null,
   "id": "associate-thong",
   "metadata": {},
   "outputs": [],
   "source": []
  }
 ],
 "metadata": {
  "kernelspec": {
   "display_name": "Julia 1.6.2",
   "language": "julia",
   "name": "julia-1.6"
  },
  "language_info": {
   "file_extension": ".jl",
   "mimetype": "application/julia",
   "name": "julia",
   "version": "1.6.2"
  }
 },
 "nbformat": 4,
 "nbformat_minor": 5
}
