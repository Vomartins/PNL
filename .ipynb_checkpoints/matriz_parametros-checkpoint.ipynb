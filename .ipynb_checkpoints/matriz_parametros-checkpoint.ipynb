{
 "cells": [
  {
   "cell_type": "code",
   "execution_count": 1,
   "id": "quantitative-equation",
   "metadata": {},
   "outputs": [],
   "source": [
    "using IterTools"
   ]
  },
  {
   "cell_type": "code",
   "execution_count": 2,
   "id": "experienced-hydrogen",
   "metadata": {},
   "outputs": [],
   "source": [
    "include(\"methods.jl\");"
   ]
  },
  {
   "cell_type": "code",
   "execution_count": 3,
   "id": "grand-association",
   "metadata": {},
   "outputs": [],
   "source": [
    "n = 2\n",
    "m = 4;"
   ]
  },
  {
   "cell_type": "code",
   "execution_count": 4,
   "id": "casual-xerox",
   "metadata": {},
   "outputs": [],
   "source": [
    "Funcoes = [Rosenbrock(), Gaussian(), trigonometric(n), discrete_integral(n), linear_rank1(n,m)];"
   ]
  },
  {
   "cell_type": "code",
   "execution_count": 5,
   "id": "affecting-bridges",
   "metadata": {},
   "outputs": [],
   "source": [
    "Estrategias = [secao_aurea, armijo, interpolacao];"
   ]
  },
  {
   "cell_type": "code",
   "execution_count": 19,
   "id": "regular-presence",
   "metadata": {},
   "outputs": [],
   "source": [
    "Parameters = Dict()\n",
    "Parameters[secao_aurea] = (0.1:0.2:1,[10.0^(-i) for i in 1:5])\n",
    "Parameters[armijo] = (0.1:0.1:1,0.1:0.2:1)\n",
    "Parameters[interpolacao] = (0.1:0.1:1, 0.1:0.2:1);"
   ]
  },
  {
   "cell_type": "code",
   "execution_count": 20,
   "id": "normal-tribute",
   "metadata": {},
   "outputs": [
    {
     "name": "stdout",
     "output_type": "stream",
     "text": [
      "((0.9, 0.001), 1.944159978522072e-15, 442)((0.3, 0.7), 5.6592057119481806e-6, 5000)((1.0, 0.1), 1.096601668523015e-13, 3577)((0.5, 0.001), 1.6156315450122798e-10, 1)((0.1, 0.5), 5.960322351693935e-7, 250)((1.0, 0.9), 5.957194087948522e-7, 278)((0.7, 0.001), 4.798857035674636e-14, 20)((0.2, 0.7), 1.2044553219696807e-13, 31)((0.8, 0.7), 4.850774637146712e-17, 17)((0.3, 0.001), 7.108658032496755e-15, 9)((0.1, 0.3), 3.0216589363745175e-14, 10)((0.5, 0.5), 8.163514646657e-15, 6)((0.9, 0.0001), 1.1102230246251565e-16, 13)((0.1, 0.9), 1.1102230246251565e-16, 16)((1.0, 0.1), 4.440892098500626e-16, 85)"
     ]
    }
   ],
   "source": [
    "hist_erro = Dict()\n",
    "for problem in product(Estrategias, Funcoes)\n",
    "    erro = grid_search(Parameters[problem[1]][1], Parameters[problem[1]][2], problem[1], problem[2])\n",
    "    result = find_min_dict(erro)\n",
    "    print(result)\n",
    "    hist_erro[string(problem[1]), problem[2].name] = result\n",
    "end;"
   ]
  },
  {
   "cell_type": "code",
   "execution_count": 21,
   "id": "pretty-mistress",
   "metadata": {},
   "outputs": [
    {
     "data": {
      "text/plain": [
       "Dict{Any, Any} with 15 entries:\n",
       "  (\"secao_aurea\", \"Discrete Integral\")  => ((0.3, 0.001), 7.10866e-15, 9)\n",
       "  (\"armijo\", \"Discrete Integral\")       => ((0.1, 0.3), 3.02166e-14, 10)\n",
       "  (\"armijo\", \"Gaussian\")                => ((0.1, 0.5), 5.96032e-7, 250)\n",
       "  (\"interpolacao\", \"Rosenbrock\")        => ((1.0, 0.1), 1.0966e-13, 3577)\n",
       "  (\"secao_aurea\", \"Trigonometric\")      => ((0.7, 0.001), 4.79886e-14, 20)\n",
       "  (\"secao_aurea\", \"Gaussian\")           => ((0.5, 0.001), 1.61563e-10, 1)\n",
       "  (\"interpolacao\", \"Linear, rank 1\")    => ((1.0, 0.1), 4.44089e-16, 85)\n",
       "  (\"armijo\", \"Linear, rank 1\")          => ((0.1, 0.9), 1.11022e-16, 16)\n",
       "  (\"armijo\", \"Trigonometric\")           => ((0.2, 0.7), 1.20446e-13, 31)\n",
       "  (\"armijo\", \"Rosenbrock\")              => ((0.3, 0.7), 5.65921e-6, 5000)\n",
       "  (\"interpolacao\", \"Gaussian\")          => ((1.0, 0.9), 5.95719e-7, 278)\n",
       "  (\"interpolacao\", \"Trigonometric\")     => ((0.8, 0.7), 4.85077e-17, 17)\n",
       "  (\"secao_aurea\", \"Linear, rank 1\")     => ((0.9, 0.0001), 1.11022e-16, 13)\n",
       "  (\"secao_aurea\", \"Rosenbrock\")         => ((0.9, 0.001), 1.94416e-15, 442)\n",
       "  (\"interpolacao\", \"Discrete Integral\") => ((0.5, 0.5), 8.16351e-15, 6)"
      ]
     },
     "execution_count": 21,
     "metadata": {},
     "output_type": "execute_result"
    }
   ],
   "source": [
    "hist_erro"
   ]
  },
  {
   "cell_type": "code",
   "execution_count": 17,
   "id": "positive-congo",
   "metadata": {},
   "outputs": [],
   "source": [
    "import XLSX"
   ]
  },
  {
   "cell_type": "code",
   "execution_count": 22,
   "id": "available-comment",
   "metadata": {},
   "outputs": [
    {
     "data": {
      "text/plain": [
       "5×12 Matrix{Float64}:\n",
       " 0.9  0.001   1.94416e-15  442.0  0.3  0.7  …  1.0  0.1  1.0966e-13   3577.0\n",
       " 0.5  0.001   1.61563e-10    1.0  0.1  0.5     1.0  0.9  5.95719e-7    278.0\n",
       " 0.7  0.001   4.79886e-14   20.0  0.2  0.7     0.8  0.7  4.85077e-17    17.0\n",
       " 0.3  0.001   7.10866e-15    9.0  0.1  0.3     0.5  0.5  8.16351e-15     6.0\n",
       " 0.9  0.0001  1.11022e-16   13.0  0.1  0.9     1.0  0.1  4.44089e-16    85.0"
      ]
     },
     "execution_count": 22,
     "metadata": {},
     "output_type": "execute_result"
    }
   ],
   "source": [
    "XLSX.openxlsx(\"resultados.xlsx\", mode=\"w\") do xf\n",
    "    sheet = xf[1]\n",
    "    string_estrategias = [string(p) for p in Estrategias]\n",
    "    string_funcoes = [p.name for p in Funcoes]\n",
    "    sheet[\"B1\"] = string_estrategias[1]\n",
    "    sheet[\"F1\"] = string_estrategias[2]\n",
    "    sheet[\"J1\"] = string_estrategias[3]\n",
    "    sheet[\"A2\",dim=1] = string_funcoes\n",
    "    \n",
    "    M = zeros(5,12)\n",
    "    for i in 1:3\n",
    "        for j in 1:5\n",
    "            k = [1, 5, 9]\n",
    "            M[j,k[i]] = hist_erro[string_estrategias[i],string_funcoes[j]][1][1]\n",
    "            M[j,k[i]+1] = hist_erro[string_estrategias[i],string_funcoes[j]][1][2]\n",
    "            M[j,k[i]+2] = hist_erro[string_estrategias[i],string_funcoes[j]][2]\n",
    "            M[j,k[i]+3] = hist_erro[string_estrategias[i],string_funcoes[j]][3]\n",
    "        end\n",
    "    end\n",
    "    sheet[\"B2:M6\"] = M\n",
    "end"
   ]
  },
  {
   "cell_type": "code",
   "execution_count": null,
   "id": "alone-plain",
   "metadata": {},
   "outputs": [],
   "source": []
  }
 ],
 "metadata": {
  "kernelspec": {
   "display_name": "Julia 1.6.2",
   "language": "julia",
   "name": "julia-1.6"
  },
  "language_info": {
   "file_extension": ".jl",
   "mimetype": "application/julia",
   "name": "julia",
   "version": "1.6.2"
  }
 },
 "nbformat": 4,
 "nbformat_minor": 5
}
