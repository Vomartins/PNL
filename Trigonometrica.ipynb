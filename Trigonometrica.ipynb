{
 "cells": [
  {
   "cell_type": "code",
   "execution_count": 1,
   "id": "de0c4b11",
   "metadata": {},
   "outputs": [],
   "source": [
    "include(\"methods.jl\");"
   ]
  },
  {
   "cell_type": "code",
   "execution_count": 2,
   "id": "1324e1d2",
   "metadata": {},
   "outputs": [
    {
     "data": {
      "text/plain": [
       "problems(var\"#f#26\"{var\"#p#24\"{Int64, Int64}, Int64}(var\"#p#24\"{Int64, Int64}(3, 3), 3), var\"#∇f#31\"{Int64, var\"#dp#29\"{Int64, var\"#dq#28\", var\"#p#24\"{Int64, Int64}}}(3, var\"#dp#29\"{Int64, var\"#dq#28\", var\"#p#24\"{Int64, Int64}}(3, var\"#dq#28\"(), var\"#p#24\"{Int64, Int64}(3, 3))), [0.3333333333333333, 0.3333333333333333, 0.3333333333333333], 1.0e-6, 3000, Dict{Float64, Vector{T} where T}(0.0 => [nothing]), Dict(\"γ\" => 0.8, \"ϵ\" => 1.0000000000000003e-5, \"η\" => 0.4, \"ρ\" => 1.0, \"α\" => 1.0, \"β\" => 1.0e-6))"
      ]
     },
     "execution_count": 2,
     "metadata": {},
     "output_type": "execute_result"
    }
   ],
   "source": [
    "problem = trigonometric(3)"
   ]
  },
  {
   "cell_type": "code",
   "execution_count": 3,
   "id": "4ea84573",
   "metadata": {},
   "outputs": [
    {
     "data": {
      "text/plain": [
       "∇f (generic function with 1 method)"
      ]
     },
     "execution_count": 3,
     "metadata": {},
     "output_type": "execute_result"
    }
   ],
   "source": [
    "f = problem.f\n",
    "∇f = problem.∇f"
   ]
  },
  {
   "cell_type": "code",
   "execution_count": 4,
   "id": "bc91907b",
   "metadata": {},
   "outputs": [],
   "source": [
    "x₀ = problem.x₀;\n",
    "ϵ = problem.parameters[\"ϵ\"];\n",
    "ρ = problem.parameters[\"ρ\"];"
   ]
  },
  {
   "cell_type": "code",
   "execution_count": 10,
   "id": "22ae6c57",
   "metadata": {},
   "outputs": [],
   "source": [
    "η = problem.parameters[\"η\"];\n",
    "γ = problem.parameters[\"γ\"];\n",
    "β = problem.parameters[\"β\"];\n",
    "α = problem.parameters[\"α\"];"
   ]
  },
  {
   "cell_type": "code",
   "execution_count": 11,
   "id": "056bb9ba",
   "metadata": {},
   "outputs": [
    {
     "data": {
      "text/plain": [
       "stepsize (generic function with 1 method)"
      ]
     },
     "execution_count": 11,
     "metadata": {},
     "output_type": "execute_result"
    }
   ],
   "source": [
    "stepsize(x,d,f,∇f) = interpolacao(x,d,f,∇f,β,α)\n",
    "#stepsize(x,d,f,∇f) = armijo(x,d,f,∇f,η,γ)\n",
    "#stepsize(x,d,f,∇f) = secao_aurea(x,d,f,∇f,ϵ,ρ)"
   ]
  },
  {
   "cell_type": "code",
   "execution_count": 12,
   "id": "c44bdca5",
   "metadata": {},
   "outputs": [
    {
     "name": "stdout",
     "output_type": "stream",
     "text": [
      "  0.779059 seconds (9.36 M allocations: 378.575 MiB, 9.23% gc time, 44.66% compilation time)\n"
     ]
    },
    {
     "data": {
      "text/plain": [
       "([0.22497194966420153, 0.5143110978045343, 0.30305235210582654], 0.002573685314929473, [2.542867132138138e-10, -1.764228124701006e-9, 2.793959175129146e-9], [0.014165058438963573, 0.007307854543746224, 0.006940102054081218, 0.005456006310385997, 0.003385901750203319, 0.003368247849519535, 0.003284859185351744, 0.003248204781410407, 0.0032064306742658, 0.0031604770186452204  …  0.002573685314929473, 0.002573685314929473, 0.002573685314929473, 0.002573685314929473, 0.002573685314929473, 0.002573685314929473, 0.002573685314929473, 0.002573685314929473, 0.002573685314929473, 0.002573685314929473], [0.1018199361390126, 0.08276776152752918, 0.08079176580142727, 0.09689913301583583, 0.012537828584552997, 0.018064583490248615, 0.006325116513391019, 0.006062108457682777, 0.007576539716395773, 0.007701051849067518  …  2.793959175129146e-9, 2.793959175129146e-9, 2.793959175129146e-9, 2.793959175129146e-9, 2.793959175129146e-9, 2.793959175129146e-9, 2.793959175129146e-9, 2.793959175129146e-9, 2.793959175129146e-9, 2.793959175129146e-9], 10000)"
      ]
     },
     "execution_count": 12,
     "metadata": {},
     "output_type": "execute_result"
    }
   ],
   "source": [
    "@time grad_descent(x₀,f,∇f,stepsize,ϵ=1.0e-12,max_iter=10000)"
   ]
  },
  {
   "cell_type": "code",
   "execution_count": null,
   "id": "silver-toddler",
   "metadata": {},
   "outputs": [],
   "source": []
  }
 ],
 "metadata": {
  "kernelspec": {
   "display_name": "Julia 1.6.2",
   "language": "julia",
   "name": "julia-1.6"
  },
  "language_info": {
   "file_extension": ".jl",
   "mimetype": "application/julia",
   "name": "julia",
   "version": "1.6.2"
  }
 },
 "nbformat": 4,
 "nbformat_minor": 5
}
