{
 "cells": [
  {
   "cell_type": "code",
   "execution_count": 24,
   "id": "de0c4b11",
   "metadata": {},
   "outputs": [],
   "source": [
    "include(\"methods.jl\");"
   ]
  },
  {
   "cell_type": "code",
   "execution_count": 25,
   "id": "1324e1d2",
   "metadata": {},
   "outputs": [
    {
     "data": {
      "text/plain": [
       "problems(var\"#f#105\"{var\"#p#100\"{Int64, Int64}, Int64}(var\"#p#100\"{Int64, Int64}(3, 3), 3), var\"#∇f#107\"{Int64, var\"#dp#103\"{Int64, var\"#dq#102\", var\"#p#100\"{Int64, Int64}}}(3, var\"#dp#103\"{Int64, var\"#dq#102\", var\"#p#100\"{Int64, Int64}}(3, var\"#dq#102\"(), var\"#p#100\"{Int64, Int64}(3, 3))), [0.3333333333333333, 0.3333333333333333, 0.3333333333333333], 1.0e-6, 3000, Dict{Float64, Vector{T} where T}(0.0 => [nothing]), Dict(\"γ\" => 0.8, \"ϵ\" => 0.0010000000000000002, \"η\" => 0.4, \"ρ\" => 1.0, \"α\" => 1.0, \"β\" => 1.0e-6))"
      ]
     },
     "execution_count": 25,
     "metadata": {},
     "output_type": "execute_result"
    }
   ],
   "source": [
    "problem = trigonometric(3)"
   ]
  },
  {
   "cell_type": "code",
   "execution_count": 26,
   "id": "4ea84573",
   "metadata": {},
   "outputs": [
    {
     "data": {
      "text/plain": [
       "∇f (generic function with 1 method)"
      ]
     },
     "execution_count": 26,
     "metadata": {},
     "output_type": "execute_result"
    }
   ],
   "source": [
    "f = problem.f\n",
    "∇f = problem.∇f"
   ]
  },
  {
   "cell_type": "code",
   "execution_count": 27,
   "id": "bc91907b",
   "metadata": {},
   "outputs": [],
   "source": [
    "x₀ = problem.x₀;\n",
    "ϵ = problem.parameters[\"ϵ\"];\n",
    "ρ = problem.parameters[\"ρ\"];"
   ]
  },
  {
   "cell_type": "code",
   "execution_count": 28,
   "id": "22ae6c57",
   "metadata": {},
   "outputs": [],
   "source": [
    "η = problem.parameters[\"η\"];\n",
    "γ = problem.parameters[\"γ\"];"
   ]
  },
  {
   "cell_type": "code",
   "execution_count": 29,
   "id": "056bb9ba",
   "metadata": {},
   "outputs": [
    {
     "data": {
      "text/plain": [
       "stepsize (generic function with 1 method)"
      ]
     },
     "execution_count": 29,
     "metadata": {},
     "output_type": "execute_result"
    }
   ],
   "source": [
    "#stepsize(x,d,f,∇f) = interpolacao(x,d,f,∇f,η,α)\n",
    "#stepsize(x,d,f,∇f) = armijo(x,d,f,∇f,η,γ)\n",
    "stepsize(x,d,f,∇f) = secao_aurea(x,d,f,∇f,ϵ,ρ)"
   ]
  },
  {
   "cell_type": "code",
   "execution_count": 30,
   "id": "c44bdca5",
   "metadata": {},
   "outputs": [
    {
     "name": "stdout",
     "output_type": "stream",
     "text": [
      "  0.567482 seconds (3.89 M allocations: 197.238 MiB, 6.78% gc time, 70.89% compilation time)\n"
     ]
    },
    {
     "data": {
      "text/plain": [
       "([0.360333426977469, 0.2908315635227063, 0.2823516224302905], 0.023760964539599725, [-0.006947152141677971, 0.011132849592655904, 0.013191410947882754], [0.014165058438963573, 0.014165803505512158, 0.014166548617029921, 0.014167293773517928, 0.014168038974976769, 0.014168784221406999, 0.014169529512809557, 0.014170274849185116, 0.014171020230534301, 0.014171765656857961  …  0.023750737268522185, 0.023751873544147973, 0.0237530098417439, 0.02375414616130435, 0.02375528250282343, 0.023756418866295398, 0.023757555251714843, 0.023758691659075876, 0.023759828088372594, 0.023760964539599725], [0.00927015155217599, 0.009270525541479556, 0.009270899544864276, 0.009271273562328262, 0.009271647593869317, 0.009272021639485224, 0.009272395699174008, 0.009272769772933528, 0.009273143860761607, 0.009273517962656214  …  0.013188311399970978, 0.01318865589065002, 0.013189000357222183, 0.013189344799683334, 0.013189689218029182, 0.013190033612255512, 0.013190377982358288, 0.01319072232833323, 0.013191066650176036, 0.013191410947882754], 10000)"
      ]
     },
     "execution_count": 30,
     "metadata": {},
     "output_type": "execute_result"
    }
   ],
   "source": [
    "@time grad_descent(x₀,f,∇f,stepsize,ϵ=1.0e-12,max_iter=10000)"
   ]
  }
 ],
 "metadata": {
  "kernelspec": {
   "display_name": "Julia 1.6.2",
   "language": "julia",
   "name": "julia-1.6"
  },
  "language_info": {
   "file_extension": ".jl",
   "mimetype": "application/julia",
   "name": "julia",
   "version": "1.6.2"
  }
 },
 "nbformat": 4,
 "nbformat_minor": 5
}
