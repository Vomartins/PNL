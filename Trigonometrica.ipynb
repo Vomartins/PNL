{
 "cells": [
  {
   "cell_type": "code",
   "execution_count": 1,
   "id": "de0c4b11",
   "metadata": {},
   "outputs": [],
   "source": [
    "include(\"methods.jl\");"
   ]
  },
  {
   "cell_type": "code",
   "execution_count": 2,
   "id": "1324e1d2",
   "metadata": {},
   "outputs": [
    {
     "data": {
      "text/plain": [
       "problems(var\"#f#29\"{var\"#p#24\"{Int64, Int64}, Int64}(var\"#p#24\"{Int64, Int64}(2, 2), 2), var\"#∇f#31\"{Int64, var\"#dp#27\"{Int64, var\"#dq#26\", var\"#p#24\"{Int64, Int64}}}(2, var\"#dp#27\"{Int64, var\"#dq#26\", var\"#p#24\"{Int64, Int64}}(2, var\"#dq#26\"(), var\"#p#24\"{Int64, Int64}(2, 2))), [0.5, 0.5], 1.0e-6, 3000, Dict{Float64, Vector{T} where T}(0.0 => [nothing]), Dict(\"γ\" => 0.8, \"ϵ\" => 1.0000000000000003e-5, \"η\" => 0.4, \"ρ\" => 10.0, \"α\" => 1.0, \"β\" => 1.0e-6))"
      ]
     },
     "execution_count": 2,
     "metadata": {},
     "output_type": "execute_result"
    }
   ],
   "source": [
    "problem = trigonometric(2)"
   ]
  },
  {
   "cell_type": "code",
   "execution_count": 3,
   "id": "4ea84573",
   "metadata": {},
   "outputs": [
    {
     "data": {
      "text/plain": [
       "∇f (generic function with 1 method)"
      ]
     },
     "execution_count": 3,
     "metadata": {},
     "output_type": "execute_result"
    }
   ],
   "source": [
    "f = problem.f\n",
    "∇f = problem.∇f"
   ]
  },
  {
   "cell_type": "code",
   "execution_count": 4,
   "id": "bc91907b",
   "metadata": {},
   "outputs": [],
   "source": [
    "x₀ = problem.x₀;\n",
    "ϵ = problem.parameters[\"ϵ\"];\n",
    "ρ = problem.parameters[\"ρ\"];"
   ]
  },
  {
   "cell_type": "code",
   "execution_count": 5,
   "id": "22ae6c57",
   "metadata": {},
   "outputs": [],
   "source": [
    "η = problem.parameters[\"η\"];\n",
    "γ = problem.parameters[\"γ\"];"
   ]
  },
  {
   "cell_type": "code",
   "execution_count": 6,
   "id": "056bb9ba",
   "metadata": {},
   "outputs": [
    {
     "data": {
      "text/plain": [
       "stepsize (generic function with 1 method)"
      ]
     },
     "execution_count": 6,
     "metadata": {},
     "output_type": "execute_result"
    }
   ],
   "source": [
    "#stepsize(x,d,f,∇f) = interpolacao(x,d,f,∇f,η,α)\n",
    "#stepsize(x,d,f,∇f) = armijo(x,d,f,∇f,η,γ)\n",
    "stepsize(x,d,f,∇f) = secao_aurea(x,d,f,∇f,ϵ,ρ)"
   ]
  },
  {
   "cell_type": "code",
   "execution_count": 7,
   "id": "c44bdca5",
   "metadata": {},
   "outputs": [
    {
     "name": "stdout",
     "output_type": "stream",
     "text": [
      "  1.083629 seconds (7.53 M allocations: 375.497 MiB, 6.39% gc time, 79.93% compilation time)\n"
     ]
    },
    {
     "data": {
      "text/plain": [
       "([0.4999287494115889, 0.49959484187997166], 0.012727394748922143, [0.002144002562093059, 0.012210642952052384], [0.012687776161404513, 0.012687780109246014, 0.012687784057090314, 0.012687788004937464, 0.012687791952787313, 0.012687795900640033, 0.012687799848495569, 0.012687803796353874, 0.012687807744215017, 0.0126878116920789  …  0.012727358966000699, 0.012727362941869573, 0.012727366917741382, 0.012727370893615867, 0.01272737486949323, 0.01272737884537338, 0.0127273828212564, 0.012727386797142153, 0.012727390773030721, 0.012727394748922143], [0.012182745112407838, 0.012182747890652674, 0.01218275066889982, 0.01218275344714932, 0.01218275622540104, 0.012182759003655135, 0.012182761781911555, 0.012182764560170254, 0.012182767338431301, 0.0121827701166946  …  0.012210617740348048, 0.012210620541639277, 0.012210623342932924, 0.012210626144228747, 0.01221062894552694, 0.01221063174682741, 0.012210634548130242, 0.012210637349435302, 0.012210640150742672, 0.012210642952052384], 10000)"
      ]
     },
     "execution_count": 7,
     "metadata": {},
     "output_type": "execute_result"
    }
   ],
   "source": [
    "@time grad_descent(x₀,f,∇f,stepsize,ϵ=1.0e-12,max_iter=10000)"
   ]
  },
  {
   "cell_type": "code",
   "execution_count": null,
   "id": "f67b196c",
   "metadata": {},
   "outputs": [],
   "source": []
  }
 ],
 "metadata": {
  "kernelspec": {
   "display_name": "Julia 1.6.2",
   "language": "julia",
   "name": "julia-1.6"
  },
  "language_info": {
   "file_extension": ".jl",
   "mimetype": "application/julia",
   "name": "julia",
   "version": "1.6.2"
  }
 },
 "nbformat": 4,
 "nbformat_minor": 5
}
