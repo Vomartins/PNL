{
 "cells": [
  {
   "cell_type": "code",
   "execution_count": 22,
   "id": "de0c4b11",
   "metadata": {},
   "outputs": [],
   "source": [
    "include(\"methods.jl\");"
   ]
  },
  {
   "cell_type": "code",
   "execution_count": 23,
   "id": "1324e1d2",
   "metadata": {},
   "outputs": [
    {
     "data": {
      "text/plain": [
       "problems(var\"#f#131\"{var\"#p#128\"{Int64, Int64}, Int64}(var\"#p#128\"{Int64, Int64}(2, 2), 2), var\"#∇f#133\"{Int64, var\"#dp#130\"}(2, var\"#dp#130\"()), [0.5, 0.5], 1.0e-6, 3000, Dict{Float64, Vector{T} where T}(0.0 => [nothing]), Dict(\"γ\" => 0.8, \"ϵ\" => 0.010000000000000002, \"η\" => 0.8, \"ρ\" => 0.25, \"α\" => 1.0, \"β\" => 1.0e-6))"
      ]
     },
     "execution_count": 23,
     "metadata": {},
     "output_type": "execute_result"
    }
   ],
   "source": [
    "problem = trigonometric(2)"
   ]
  },
  {
   "cell_type": "code",
   "execution_count": 24,
   "id": "4ea84573",
   "metadata": {},
   "outputs": [
    {
     "data": {
      "text/plain": [
       "∇f (generic function with 1 method)"
      ]
     },
     "execution_count": 24,
     "metadata": {},
     "output_type": "execute_result"
    }
   ],
   "source": [
    "f = problem.f\n",
    "∇f = problem.∇f"
   ]
  },
  {
   "cell_type": "code",
   "execution_count": 25,
   "id": "bc91907b",
   "metadata": {},
   "outputs": [],
   "source": [
    "x₀ = problem.x₀;\n",
    "ϵ = problem.parameters[\"ϵ\"];\n",
    "ρ = problem.parameters[\"ρ\"];"
   ]
  },
  {
   "cell_type": "code",
   "execution_count": 26,
   "id": "22ae6c57",
   "metadata": {},
   "outputs": [],
   "source": [
    "η = problem.parameters[\"η\"];\n",
    "γ = problem.parameters[\"γ\"];"
   ]
  },
  {
   "cell_type": "code",
   "execution_count": 27,
   "id": "056bb9ba",
   "metadata": {},
   "outputs": [
    {
     "data": {
      "text/plain": [
       "stepsize (generic function with 1 method)"
      ]
     },
     "execution_count": 27,
     "metadata": {},
     "output_type": "execute_result"
    }
   ],
   "source": [
    "#stepsize(x,d,f,∇f) = interpolacao(x,d,f,∇f,η,α)\n",
    "stepsize(x,d,f,∇f) = armijo(x,d,f,∇f,η,γ)\n",
    "#stepsize(x,d,f,∇f) = secao_aurea(x,d,f,∇f,ϵ,ρ)"
   ]
  },
  {
   "cell_type": "code",
   "execution_count": 28,
   "id": "c44bdca5",
   "metadata": {},
   "outputs": [
    {
     "name": "stdout",
     "output_type": "stream",
     "text": [
      "  6.065417 seconds (35.34 M allocations: 1.725 GiB, 10.64% gc time, 12.07% compilation time)\n"
     ]
    },
    {
     "data": {
      "text/plain": [
       "([0.5, 0.5], 0.012687776161404513, [0.08126851531803325, 0.5606940539222363], [0.012687776161404513, 0.012687776161404513, 0.012687776161404513, 0.012687776161404513, 0.012687776161404513, 0.012687776161404513, 0.012687776161404513, 0.012687776161404513, 0.012687776161404513, 0.012687776161404513  …  0.012687776161404513, 0.012687776161404513, 0.012687776161404513, 0.012687776161404513, 0.012687776161404513, 0.012687776161404513, 0.012687776161404513, 0.012687776161404513, 0.012687776161404513, 0.012687776161404513], [0.5606940539222363, 0.5606940539222363, 0.5606940539222363, 0.5606940539222363, 0.5606940539222363, 0.5606940539222363, 0.5606940539222363, 0.5606940539222363, 0.5606940539222363, 0.5606940539222363  …  0.5606940539222363, 0.5606940539222363, 0.5606940539222363, 0.5606940539222363, 0.5606940539222363, 0.5606940539222363, 0.5606940539222363, 0.5606940539222363, 0.5606940539222363, 0.5606940539222363], 10000)"
      ]
     },
     "execution_count": 28,
     "metadata": {},
     "output_type": "execute_result"
    }
   ],
   "source": [
    "@time grad_descent(x₀,f,∇f,stepsize,ϵ=1.0e-12,max_iter=10000)"
   ]
  },
  {
   "cell_type": "code",
   "execution_count": null,
   "id": "f67b196c",
   "metadata": {},
   "outputs": [],
   "source": []
  }
 ],
 "metadata": {
  "kernelspec": {
   "display_name": "Julia 1.6.2",
   "language": "julia",
   "name": "julia-1.6"
  },
  "language_info": {
   "file_extension": ".jl",
   "mimetype": "application/julia",
   "name": "julia",
   "version": "1.6.2"
  }
 },
 "nbformat": 4,
 "nbformat_minor": 5
}
