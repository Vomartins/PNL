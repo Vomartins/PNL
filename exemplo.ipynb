{
 "cells": [
  {
   "cell_type": "code",
   "execution_count": 30,
   "id": "optical-nerve",
   "metadata": {},
   "outputs": [
    {
     "data": {
      "text/plain": [
       "grad_descent (generic function with 1 method)"
      ]
     },
     "execution_count": 30,
     "metadata": {},
     "output_type": "execute_result"
    }
   ],
   "source": [
    "include(\"methods.jl\")"
   ]
  },
  {
   "cell_type": "code",
   "execution_count": 31,
   "id": "prospective-thriller",
   "metadata": {},
   "outputs": [
    {
     "data": {
      "text/plain": [
       "∇f (generic function with 1 method)"
      ]
     },
     "execution_count": 31,
     "metadata": {},
     "output_type": "execute_result"
    }
   ],
   "source": [
    "f(x) = 0.5*(x[1]-2)^2+(x[2]-1)^2\n",
    "∇f(x) = [(x[1]-2),2*(x[2]-1)]"
   ]
  },
  {
   "cell_type": "code",
   "execution_count": 32,
   "id": "equal-privilege",
   "metadata": {},
   "outputs": [],
   "source": [
    "x̄ = [1.0,0.0]\n",
    "d = [3.0,1.0]\n",
    "η = 1/4\n",
    "γ = 0.8\n",
    "ϵ = 10^(-5)\n",
    "ρ = 1.\n",
    "α = 1.;"
   ]
  },
  {
   "cell_type": "code",
   "execution_count": 33,
   "id": "tight-acquisition",
   "metadata": {},
   "outputs": [
    {
     "name": "stdout",
     "output_type": "stream",
     "text": [
      "  0.051469 seconds (22.60 k allocations: 1.189 MiB, 99.92% compilation time)\n"
     ]
    },
    {
     "data": {
      "text/plain": [
       "0.6400000000000001"
      ]
     },
     "execution_count": 33,
     "metadata": {},
     "output_type": "execute_result"
    }
   ],
   "source": [
    "@time armijo(x̄,d,f,∇f,η,γ)"
   ]
  },
  {
   "cell_type": "code",
   "execution_count": 34,
   "id": "adolescent-twelve",
   "metadata": {},
   "outputs": [
    {
     "name": "stdout",
     "output_type": "stream",
     "text": [
      "  0.075451 seconds (43.09 k allocations: 2.549 MiB, 24.33% gc time, 99.91% compilation time)\n"
     ]
    },
    {
     "data": {
      "text/plain": [
       "0.45454434055369364"
      ]
     },
     "execution_count": 34,
     "metadata": {},
     "output_type": "execute_result"
    }
   ],
   "source": [
    "@time secao_aurea(x̄,d,f,∇f,ϵ,ρ)"
   ]
  },
  {
   "cell_type": "code",
   "execution_count": 35,
   "id": "fc32d86f",
   "metadata": {},
   "outputs": [
    {
     "name": "stdout",
     "output_type": "stream",
     "text": [
      "  0.351327 seconds (360.95 k allocations: 21.779 MiB, 99.99% compilation time)\n"
     ]
    },
    {
     "data": {
      "text/plain": [
       "0.45454545454545453"
      ]
     },
     "execution_count": 35,
     "metadata": {},
     "output_type": "execute_result"
    }
   ],
   "source": [
    "@time interpolacao(x̄,d,f,∇f,η,α)"
   ]
  },
  {
   "cell_type": "code",
   "execution_count": 36,
   "id": "shaped-prescription",
   "metadata": {},
   "outputs": [
    {
     "data": {
      "text/plain": [
       "2-element Vector{Float64}:\n",
       " 2.0\n",
       " 2.0"
      ]
     },
     "execution_count": 36,
     "metadata": {},
     "output_type": "execute_result"
    }
   ],
   "source": [
    "x₀ = [2.0, 2.0]"
   ]
  },
  {
   "cell_type": "code",
   "execution_count": 37,
   "id": "liable-refund",
   "metadata": {},
   "outputs": [
    {
     "data": {
      "text/plain": [
       "stepsize (generic function with 1 method)"
      ]
     },
     "execution_count": 37,
     "metadata": {},
     "output_type": "execute_result"
    }
   ],
   "source": [
    "stepsize(x,d,f,∇f) = armijo(x,d,f,∇f,η,γ)"
   ]
  },
  {
   "cell_type": "code",
   "execution_count": 38,
   "id": "funded-campbell",
   "metadata": {},
   "outputs": [
    {
     "name": "stdout",
     "output_type": "stream",
     "text": [
      "  0.585857 seconds (811.38 k allocations: 51.320 MiB, 2.94% gc time, 99.93% compilation time)\n"
     ]
    },
    {
     "data": {
      "text/plain": [
       "([2.0, 1.000002961967667], 0.0, 5.923935333829178e-6, [1.0, 0.0, 0.0, 0.0, 0.0, 0.0, 0.0, 0.0, 0.0, 0.0, 0.0], [2.0, 0.5600000000000005, 0.1568000000000005, 0.043904000000000165, 0.012293120000000268, 0.0034420736000000396, 0.0009637806080000644, 0.0002698585702400891, 7.556039966738481e-5, 2.1156911906849984e-5, 5.923935333829178e-6])"
      ]
     },
     "execution_count": 38,
     "metadata": {},
     "output_type": "execute_result"
    }
   ],
   "source": [
    "@time grad_descent(x₀,f,∇f,stepsize)"
   ]
  },
  {
   "cell_type": "code",
   "execution_count": 39,
   "id": "proof-swimming",
   "metadata": {},
   "outputs": [
    {
     "data": {
      "text/plain": [
       "stepsize (generic function with 1 method)"
      ]
     },
     "execution_count": 39,
     "metadata": {},
     "output_type": "execute_result"
    }
   ],
   "source": [
    "stepsize(x,d,f,∇f) = secao_aurea(x,d,f,∇f,η,γ)"
   ]
  },
  {
   "cell_type": "code",
   "execution_count": 40,
   "id": "patient-visitor",
   "metadata": {},
   "outputs": [
    {
     "name": "stdout",
     "output_type": "stream",
     "text": [
      "  0.064505 seconds (48.96 k allocations: 3.583 MiB, 28.55% gc time, 99.86% compilation time)\n"
     ]
    },
    {
     "data": {
      "text/plain": [
       "([2.0, 1.0000013845621738], 0.0, 2.7691243476013483e-6, [1.0, 0.0, 0.0, 0.0], [2.0, 0.022291236000336223, 0.0002484496012113979, 2.7691243476013483e-6])"
      ]
     },
     "execution_count": 40,
     "metadata": {},
     "output_type": "execute_result"
    }
   ],
   "source": [
    "@time grad_descent(x₀,f,∇f,stepsize)"
   ]
  },
  {
   "cell_type": "code",
   "execution_count": 42,
   "id": "cd2aef52",
   "metadata": {},
   "outputs": [
    {
     "data": {
      "text/plain": [
       "stepsize (generic function with 1 method)"
      ]
     },
     "execution_count": 42,
     "metadata": {},
     "output_type": "execute_result"
    }
   ],
   "source": [
    "stepsize(x,d,f,∇f) = interpolacao(x,d,f,∇f,η,α)"
   ]
  },
  {
   "cell_type": "code",
   "execution_count": 43,
   "id": "5163cb1b",
   "metadata": {},
   "outputs": [
    {
     "name": "stdout",
     "output_type": "stream",
     "text": [
      "  0.287481 seconds (234.43 k allocations: 14.040 MiB, 99.97% compilation time)\n"
     ]
    },
    {
     "data": {
      "text/plain": [
       "([2.0, 1.0], 0.0, 0.0, [1.0, 0.0], [2.0, 0.0])"
      ]
     },
     "execution_count": 43,
     "metadata": {},
     "output_type": "execute_result"
    }
   ],
   "source": [
    "@time grad_descent(x₀,f,∇f,stepsize)"
   ]
  },
  {
   "cell_type": "code",
   "execution_count": null,
   "id": "227fb770",
   "metadata": {},
   "outputs": [],
   "source": []
  }
 ],
 "metadata": {
  "kernelspec": {
   "display_name": "Julia 1.6.2",
   "language": "julia",
   "name": "julia-1.6"
  },
  "language_info": {
   "file_extension": ".jl",
   "mimetype": "application/julia",
   "name": "julia",
   "version": "1.6.2"
  }
 },
 "nbformat": 4,
 "nbformat_minor": 5
}
