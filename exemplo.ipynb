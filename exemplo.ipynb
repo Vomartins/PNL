{
 "cells": [
  {
   "cell_type": "code",
   "execution_count": 1,
   "id": "optical-nerve",
   "metadata": {},
   "outputs": [
    {
     "data": {
      "text/plain": [
       "grad_descent (generic function with 1 method)"
      ]
     },
     "execution_count": 1,
     "metadata": {},
     "output_type": "execute_result"
    }
   ],
   "source": [
    "include(\"methods.jl\")"
   ]
  },
  {
   "cell_type": "code",
   "execution_count": 2,
   "id": "prospective-thriller",
   "metadata": {},
   "outputs": [
    {
     "data": {
      "text/plain": [
       "(f, ∇f)"
      ]
     },
     "execution_count": 2,
     "metadata": {},
     "output_type": "execute_result"
    }
   ],
   "source": [
    "f, ∇f = teste1()"
   ]
  },
  {
   "cell_type": "code",
   "execution_count": 3,
   "id": "equal-privilege",
   "metadata": {},
   "outputs": [],
   "source": [
    "x̄ = [1.0,0.0]\n",
    "d = [3.0,1.0]\n",
    "η = 1/4\n",
    "γ = 0.8\n",
    "ϵ = 10^(-5)\n",
    "ρ = 1.\n",
    "α = 1.;"
   ]
  },
  {
   "cell_type": "code",
   "execution_count": 4,
   "id": "floral-school",
   "metadata": {},
   "outputs": [
    {
     "name": "stdout",
     "output_type": "stream",
     "text": [
      "  1.593567 seconds (7.44 M allocations: 454.176 MiB, 7.21% gc time, 99.94% compilation time)\n"
     ]
    },
    {
     "data": {
      "text/plain": [
       "0.9090909090909093"
      ]
     },
     "execution_count": 4,
     "metadata": {},
     "output_type": "execute_result"
    }
   ],
   "source": [
    "@time cauchystepsize(x̄,d,f,∇f)"
   ]
  },
  {
   "cell_type": "code",
   "execution_count": 5,
   "id": "tight-acquisition",
   "metadata": {},
   "outputs": [
    {
     "name": "stdout",
     "output_type": "stream",
     "text": [
      "  0.159293 seconds (593.74 k allocations: 34.540 MiB, 8.10% gc time, 99.98% compilation time)\n"
     ]
    },
    {
     "data": {
      "text/plain": [
       "0.6400000000000001"
      ]
     },
     "execution_count": 5,
     "metadata": {},
     "output_type": "execute_result"
    }
   ],
   "source": [
    "@time armijo(x̄,d,f,∇f,η,γ)"
   ]
  },
  {
   "cell_type": "code",
   "execution_count": 6,
   "id": "adolescent-twelve",
   "metadata": {},
   "outputs": [
    {
     "name": "stdout",
     "output_type": "stream",
     "text": [
      "  0.027508 seconds (58.76 k allocations: 3.572 MiB, 99.90% compilation time)\n"
     ]
    },
    {
     "data": {
      "text/plain": [
       "0.45454434055369364"
      ]
     },
     "execution_count": 6,
     "metadata": {},
     "output_type": "execute_result"
    }
   ],
   "source": [
    "@time secao_aurea(x̄,d,f,∇f,ϵ,ρ)"
   ]
  },
  {
   "cell_type": "code",
   "execution_count": 7,
   "id": "fc32d86f",
   "metadata": {},
   "outputs": [
    {
     "name": "stdout",
     "output_type": "stream",
     "text": [
      "  0.051587 seconds (113.59 k allocations: 6.720 MiB, 99.94% compilation time)\n"
     ]
    },
    {
     "data": {
      "text/plain": [
       "0.45454545454545453"
      ]
     },
     "execution_count": 7,
     "metadata": {},
     "output_type": "execute_result"
    }
   ],
   "source": [
    "@time interpolacao(x̄,d,f,∇f,η,α)"
   ]
  },
  {
   "cell_type": "code",
   "execution_count": 8,
   "id": "shaped-prescription",
   "metadata": {},
   "outputs": [
    {
     "data": {
      "text/plain": [
       "2-element Vector{Float64}:\n",
       " 2.0\n",
       " 2.0"
      ]
     },
     "execution_count": 8,
     "metadata": {},
     "output_type": "execute_result"
    }
   ],
   "source": [
    "x₀ = [2.0, 2.0]"
   ]
  },
  {
   "cell_type": "code",
   "execution_count": 9,
   "id": "improved-curtis",
   "metadata": {},
   "outputs": [
    {
     "name": "stdout",
     "output_type": "stream",
     "text": [
      "  0.245910 seconds (890.78 k allocations: 57.396 MiB, 8.47% gc time, 99.92% compilation time)\n"
     ]
    },
    {
     "data": {
      "text/plain": [
       "([2.0, 1.0], 0.0, 0.0, [1.0, 0.0], [2.0, 0.0])"
      ]
     },
     "execution_count": 9,
     "metadata": {},
     "output_type": "execute_result"
    }
   ],
   "source": [
    "@time grad_descent(x₀,f,∇f,cauchystepsize)"
   ]
  },
  {
   "cell_type": "code",
   "execution_count": 10,
   "id": "liable-refund",
   "metadata": {},
   "outputs": [
    {
     "data": {
      "text/plain": [
       "stepsize (generic function with 1 method)"
      ]
     },
     "execution_count": 10,
     "metadata": {},
     "output_type": "execute_result"
    }
   ],
   "source": [
    "stepsize(x,d,f,∇f) = armijo(x,d,f,∇f,η,γ)"
   ]
  },
  {
   "cell_type": "code",
   "execution_count": 11,
   "id": "funded-campbell",
   "metadata": {},
   "outputs": [
    {
     "name": "stdout",
     "output_type": "stream",
     "text": [
      "  0.071640 seconds (152.38 k allocations: 11.430 MiB, 99.89% compilation time)\n"
     ]
    },
    {
     "data": {
      "text/plain": [
       "([2.0, 1.000002961967667], 0.0, 5.923935333829178e-6, [1.0, 0.0, 0.0, 0.0, 0.0, 0.0, 0.0, 0.0, 0.0, 0.0, 0.0], [2.0, 0.5600000000000005, 0.1568000000000005, 0.043904000000000165, 0.012293120000000268, 0.0034420736000000396, 0.0009637806080000644, 0.0002698585702400891, 7.556039966738481e-5, 2.1156911906849984e-5, 5.923935333829178e-6])"
      ]
     },
     "execution_count": 11,
     "metadata": {},
     "output_type": "execute_result"
    }
   ],
   "source": [
    "@time grad_descent(x₀,f,∇f,stepsize)"
   ]
  },
  {
   "cell_type": "code",
   "execution_count": 12,
   "id": "proof-swimming",
   "metadata": {},
   "outputs": [
    {
     "data": {
      "text/plain": [
       "stepsize (generic function with 1 method)"
      ]
     },
     "execution_count": 12,
     "metadata": {},
     "output_type": "execute_result"
    }
   ],
   "source": [
    "stepsize(x,d,f,∇f) = secao_aurea(x,d,f,∇f,η,γ)"
   ]
  },
  {
   "cell_type": "code",
   "execution_count": 13,
   "id": "patient-visitor",
   "metadata": {},
   "outputs": [
    {
     "name": "stdout",
     "output_type": "stream",
     "text": [
      "  0.024415 seconds (55.70 k allocations: 4.037 MiB, 99.71% compilation time)\n"
     ]
    },
    {
     "data": {
      "text/plain": [
       "([2.0, 1.0000013845621738], 0.0, 2.7691243476013483e-6, [1.0, 0.0, 0.0, 0.0], [2.0, 0.022291236000336223, 0.0002484496012113979, 2.7691243476013483e-6])"
      ]
     },
     "execution_count": 13,
     "metadata": {},
     "output_type": "execute_result"
    }
   ],
   "source": [
    "@time grad_descent(x₀,f,∇f,stepsize)"
   ]
  },
  {
   "cell_type": "code",
   "execution_count": 14,
   "id": "cd2aef52",
   "metadata": {},
   "outputs": [
    {
     "data": {
      "text/plain": [
       "stepsize (generic function with 1 method)"
      ]
     },
     "execution_count": 14,
     "metadata": {},
     "output_type": "execute_result"
    }
   ],
   "source": [
    "stepsize(x,d,f,∇f) = interpolacao(x,d,f,∇f,η,α)"
   ]
  },
  {
   "cell_type": "code",
   "execution_count": 15,
   "id": "5163cb1b",
   "metadata": {},
   "outputs": [
    {
     "name": "stdout",
     "output_type": "stream",
     "text": [
      "  0.155537 seconds (500.00 k allocations: 30.005 MiB, 9.23% gc time, 99.96% compilation time)\n"
     ]
    },
    {
     "data": {
      "text/plain": [
       "([2.0, 1.0], 0.0, 0.0, [1.0, 0.0], [2.0, 0.0])"
      ]
     },
     "execution_count": 15,
     "metadata": {},
     "output_type": "execute_result"
    }
   ],
   "source": [
    "@time grad_descent(x₀,f,∇f,stepsize)"
   ]
  },
  {
   "cell_type": "code",
   "execution_count": null,
   "id": "frank-signature",
   "metadata": {},
   "outputs": [],
   "source": []
  }
 ],
 "metadata": {
  "kernelspec": {
   "display_name": "Julia 1.6.2",
   "language": "julia",
   "name": "julia-1.6"
  },
  "language_info": {
   "file_extension": ".jl",
   "mimetype": "application/julia",
   "name": "julia",
   "version": "1.6.2"
  }
 },
 "nbformat": 4,
 "nbformat_minor": 5
}
