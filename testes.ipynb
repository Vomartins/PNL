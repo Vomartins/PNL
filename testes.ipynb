{
 "cells": [
  {
   "cell_type": "code",
   "execution_count": 1,
   "id": "graphic-publication",
   "metadata": {},
   "outputs": [],
   "source": [
    "include(\"methods.jl\");"
   ]
  },
  {
   "cell_type": "code",
   "execution_count": 2,
   "id": "metropolitan-dominant",
   "metadata": {},
   "outputs": [
    {
     "data": {
      "text/plain": [
       "problems(\"Discrete Integral\", var\"#f#43\"{Int64, var\"#p#40\"{Int64, var\"#t#39\"{Float64}, Float64}}(2, var\"#p#40\"{Int64, var\"#t#39\"{Float64}, Float64}(2, var\"#t#39\"{Float64}(0.3333333333333333), 0.3333333333333333)), var\"#∇f#49\"{var\"#dp#47\"{var\"#dq#46\"{var\"#q#45\"{var\"#t#39\"{Float64}}, var\"#t#39\"{Float64}, Float64}, var\"#p#40\"{Int64, var\"#t#39\"{Float64}, Float64}}}(var\"#dp#47\"{var\"#dq#46\"{var\"#q#45\"{var\"#t#39\"{Float64}}, var\"#t#39\"{Float64}, Float64}, var\"#p#40\"{Int64, var\"#t#39\"{Float64}, Float64}}(var\"#dq#46\"{var\"#q#45\"{var\"#t#39\"{Float64}}, var\"#t#39\"{Float64}, Float64}(var\"#q#45\"{var\"#t#39\"{Float64}}(var\"#t#39\"{Float64}(0.3333333333333333)), var\"#t#39\"{Float64}(0.3333333333333333), 0.3333333333333333), var\"#p#40\"{Int64, var\"#t#39\"{Float64}, Float64}(2, var\"#t#39\"{Float64}(0.3333333333333333), 0.3333333333333333))), [-0.22222222222222224, -0.22222222222222224], 1.0e-6, 3000, 0.0, Dict(\"γ\" => 0.8, \"ϵ\" => 1.0000000000000003e-5, \"η\" => 0.4, \"ρ\" => 1.0, \"α\" => 1.0, \"β\" => 1.0e-6))"
      ]
     },
     "execution_count": 2,
     "metadata": {},
     "output_type": "execute_result"
    }
   ],
   "source": [
    "problem = discrete_integral(2)"
   ]
  },
  {
   "cell_type": "code",
   "execution_count": 3,
   "id": "searching-alias",
   "metadata": {},
   "outputs": [
    {
     "ename": "LoadError",
     "evalue": "ArgumentError: reducing over an empty collection is not allowed",
     "output_type": "error",
     "traceback": [
      "ArgumentError: reducing over an empty collection is not allowed",
      "",
      "Stacktrace:",
      "  [1] _empty_reduce_error()",
      "    @ Base ./reduce.jl:299",
      "  [2] mapreduce_empty(f::Function, op::Function, T::Type)",
      "    @ Base ./reduce.jl:342",
      "  [3] reduce_empty(op::Base.MappingRF{var\"#34#42\"{Vector{Float64}, var\"#t#39\"{Float64}}, typeof(Base.add_sum)}, #unused#::Type{Int64})",
      "    @ Base ./reduce.jl:329",
      "  [4] reduce_empty_iter",
      "    @ ./reduce.jl:355 [inlined]",
      "  [5] mapreduce_empty_iter(f::Function, op::Function, itr::UnitRange{Int64}, ItrEltype::Base.HasEltype)",
      "    @ Base ./reduce.jl:351",
      "  [6] _mapreduce(f::var\"#34#42\"{Vector{Float64}, var\"#t#39\"{Float64}}, op::typeof(Base.add_sum), #unused#::IndexLinear, A::UnitRange{Int64})",
      "    @ Base ./reduce.jl:400",
      "  [7] _mapreduce_dim",
      "    @ ./reducedim.jl:318 [inlined]",
      "  [8] #mapreduce#672",
      "    @ ./reducedim.jl:310 [inlined]",
      "  [9] mapreduce",
      "    @ ./reducedim.jl:310 [inlined]",
      " [10] #_sum#682",
      "    @ ./reducedim.jl:878 [inlined]",
      " [11] _sum",
      "    @ ./reducedim.jl:878 [inlined]",
      " [12] #sum#680",
      "    @ ./reducedim.jl:874 [inlined]",
      " [13] sum",
      "    @ ./reducedim.jl:874 [inlined]",
      " [14] p",
      "    @ ~/Documentos/Unicamp/Mestrado/2_semestre/MT601/Atividades/3/PNL/methods.jl:132 [inlined]",
      " [15] #35",
      "    @ ~/Documentos/Unicamp/Mestrado/2_semestre/MT601/Atividades/3/PNL/methods.jl:133 [inlined]",
      " [16] _mapreduce(f::var\"#35#44\"{Vector{Float64}, var\"#p#40\"{Int64, var\"#t#39\"{Float64}, Float64}}, op::typeof(Base.add_sum), #unused#::IndexLinear, A::UnitRange{Int64})",
      "    @ Base ./reduce.jl:408",
      " [17] _mapreduce_dim(f::Function, op::Function, #unused#::Base._InitialValue, A::UnitRange{Int64}, #unused#::Colon)",
      "    @ Base ./reducedim.jl:318",
      " [18] #mapreduce#672",
      "    @ ./reducedim.jl:310 [inlined]",
      " [19] mapreduce",
      "    @ ./reducedim.jl:310 [inlined]",
      " [20] #_sum#682",
      "    @ ./reducedim.jl:878 [inlined]",
      " [21] _sum(f::Function, a::UnitRange{Int64}, ::Colon)",
      "    @ Base ./reducedim.jl:878",
      " [22] sum(f::Function, a::UnitRange{Int64}; dims::Function, kw::Base.Iterators.Pairs{Union{}, Union{}, Tuple{}, NamedTuple{(), Tuple{}}})",
      "    @ Base ./reducedim.jl:874",
      " [23] sum",
      "    @ ./reducedim.jl:874 [inlined]",
      " [24] (::var\"#f#43\"{Int64, var\"#p#40\"{Int64, var\"#t#39\"{Float64}, Float64}})(x::Vector{Float64})",
      "    @ Main ~/Documentos/Unicamp/Mestrado/2_semestre/MT601/Atividades/3/PNL/methods.jl:133",
      " [25] grad_descent(p::problems, stepsize::typeof(cauchystepsize); ϵ::Float64, ftarget::Float64, max_iter::Int64)",
      "    @ Main ~/Documentos/Unicamp/Mestrado/2_semestre/MT601/Atividades/3/PNL/methods.jl:339",
      " [26] top-level scope",
      "    @ ./timing.jl:210 [inlined]",
      " [27] top-level scope",
      "    @ ./In[3]:0",
      " [28] eval",
      "    @ ./boot.jl:360 [inlined]",
      " [29] include_string(mapexpr::typeof(REPL.softscope), mod::Module, code::String, filename::String)",
      "    @ Base ./loading.jl:1116"
     ]
    }
   ],
   "source": [
    "@time grad_descent(problem,cauchystepsize,ϵ=problem.T,max_iter=problem.max_iter)[2] #cauchy apenas pra funções quadráticas"
   ]
  },
  {
   "cell_type": "code",
   "execution_count": 4,
   "id": "proof-imaging",
   "metadata": {},
   "outputs": [
    {
     "ename": "LoadError",
     "evalue": "ArgumentError: reducing over an empty collection is not allowed",
     "output_type": "error",
     "traceback": [
      "ArgumentError: reducing over an empty collection is not allowed",
      "",
      "Stacktrace:",
      "  [1] _empty_reduce_error()",
      "    @ Base ./reduce.jl:299",
      "  [2] mapreduce_empty(f::Function, op::Function, T::Type)",
      "    @ Base ./reduce.jl:342",
      "  [3] reduce_empty(op::Base.MappingRF{var\"#34#42\"{Vector{Float64}, var\"#t#39\"{Float64}}, typeof(Base.add_sum)}, #unused#::Type{Int64})",
      "    @ Base ./reduce.jl:329",
      "  [4] reduce_empty_iter",
      "    @ ./reduce.jl:355 [inlined]",
      "  [5] mapreduce_empty_iter(f::Function, op::Function, itr::UnitRange{Int64}, ItrEltype::Base.HasEltype)",
      "    @ Base ./reduce.jl:351",
      "  [6] _mapreduce(f::var\"#34#42\"{Vector{Float64}, var\"#t#39\"{Float64}}, op::typeof(Base.add_sum), #unused#::IndexLinear, A::UnitRange{Int64})",
      "    @ Base ./reduce.jl:400",
      "  [7] _mapreduce_dim",
      "    @ ./reducedim.jl:318 [inlined]",
      "  [8] #mapreduce#672",
      "    @ ./reducedim.jl:310 [inlined]",
      "  [9] mapreduce",
      "    @ ./reducedim.jl:310 [inlined]",
      " [10] #_sum#682",
      "    @ ./reducedim.jl:878 [inlined]",
      " [11] _sum",
      "    @ ./reducedim.jl:878 [inlined]",
      " [12] #sum#680",
      "    @ ./reducedim.jl:874 [inlined]",
      " [13] sum",
      "    @ ./reducedim.jl:874 [inlined]",
      " [14] p",
      "    @ ~/Documentos/Unicamp/Mestrado/2_semestre/MT601/Atividades/3/PNL/methods.jl:132 [inlined]",
      " [15] #35",
      "    @ ~/Documentos/Unicamp/Mestrado/2_semestre/MT601/Atividades/3/PNL/methods.jl:133 [inlined]",
      " [16] _mapreduce(f::var\"#35#44\"{Vector{Float64}, var\"#p#40\"{Int64, var\"#t#39\"{Float64}, Float64}}, op::typeof(Base.add_sum), #unused#::IndexLinear, A::UnitRange{Int64})",
      "    @ Base ./reduce.jl:408",
      " [17] _mapreduce_dim(f::Function, op::Function, #unused#::Base._InitialValue, A::UnitRange{Int64}, #unused#::Colon)",
      "    @ Base ./reducedim.jl:318",
      " [18] #mapreduce#672",
      "    @ ./reducedim.jl:310 [inlined]",
      " [19] mapreduce",
      "    @ ./reducedim.jl:310 [inlined]",
      " [20] #_sum#682",
      "    @ ./reducedim.jl:878 [inlined]",
      " [21] _sum(f::Function, a::UnitRange{Int64}, ::Colon)",
      "    @ Base ./reducedim.jl:878",
      " [22] sum(f::Function, a::UnitRange{Int64}; dims::Function, kw::Base.Iterators.Pairs{Union{}, Union{}, Tuple{}, NamedTuple{(), Tuple{}}})",
      "    @ Base ./reducedim.jl:874",
      " [23] sum",
      "    @ ./reducedim.jl:874 [inlined]",
      " [24] (::var\"#f#43\"{Int64, var\"#p#40\"{Int64, var\"#t#39\"{Float64}, Float64}})(x::Vector{Float64})",
      "    @ Main ~/Documentos/Unicamp/Mestrado/2_semestre/MT601/Atividades/3/PNL/methods.jl:133",
      " [25] grad_descent(p::problems, stepsize::typeof(armijo); ϵ::Float64, ftarget::Float64, max_iter::Int64)",
      "    @ Main ~/Documentos/Unicamp/Mestrado/2_semestre/MT601/Atividades/3/PNL/methods.jl:339",
      " [26] top-level scope",
      "    @ ./timing.jl:210 [inlined]",
      " [27] top-level scope",
      "    @ ./In[4]:0",
      " [28] eval",
      "    @ ./boot.jl:360 [inlined]",
      " [29] include_string(mapexpr::typeof(REPL.softscope), mod::Module, code::String, filename::String)",
      "    @ Base ./loading.jl:1116"
     ]
    }
   ],
   "source": [
    "@time grad_descent(problem,armijo,ϵ=problem.T,max_iter=problem.max_iter)[2]"
   ]
  },
  {
   "cell_type": "code",
   "execution_count": null,
   "id": "specified-content",
   "metadata": {},
   "outputs": [],
   "source": [
    "@time grad_descent(problem,secao_aurea,ϵ=problem.T,max_iter=problem.max_iter)[2]"
   ]
  },
  {
   "cell_type": "code",
   "execution_count": null,
   "id": "literary-traveler",
   "metadata": {},
   "outputs": [],
   "source": [
    "@time grad_descent(problem,interpolacao,ϵ=problem.T,max_iter=problem.max_iter)[2]"
   ]
  },
  {
   "cell_type": "code",
   "execution_count": null,
   "id": "broken-ability",
   "metadata": {},
   "outputs": [],
   "source": [
    "E₁ = 0.1:0.2:1.0\n",
    "R₁ = 0.1:0.2:1.0;"
   ]
  },
  {
   "cell_type": "code",
   "execution_count": null,
   "id": "modular-nightmare",
   "metadata": {},
   "outputs": [],
   "source": [
    "@time Erro = grid_search(E₁, R₁, interpolacao, problem)"
   ]
  },
  {
   "cell_type": "code",
   "execution_count": null,
   "id": "cooperative-preservation",
   "metadata": {},
   "outputs": [],
   "source": [
    "min_par₁ = find_min_dict(Erro)"
   ]
  },
  {
   "cell_type": "code",
   "execution_count": null,
   "id": "personalized-carroll",
   "metadata": {},
   "outputs": [],
   "source": [
    "isnan(min_par₁[2])"
   ]
  },
  {
   "cell_type": "code",
   "execution_count": null,
   "id": "dressed-trinity",
   "metadata": {},
   "outputs": [],
   "source": [
    "min_par₁[2] != 0.0"
   ]
  },
  {
   "cell_type": "code",
   "execution_count": null,
   "id": "revised-timeline",
   "metadata": {},
   "outputs": [],
   "source": [
    "E₂ = (min_par₁[1][1]-0.05):0.01:(min_par₁[1][1]+0.05)\n",
    "R₂ = (min_par₁[1][2]-0.05):0.01:(min_par₁[1][2]+0.05);"
   ]
  },
  {
   "cell_type": "code",
   "execution_count": null,
   "id": "opposite-subscription",
   "metadata": {},
   "outputs": [],
   "source": [
    "Erro = grid_search(E₂, R₂, interpolacao, problem)"
   ]
  },
  {
   "cell_type": "code",
   "execution_count": null,
   "id": "economic-extraction",
   "metadata": {},
   "outputs": [],
   "source": [
    "find_min_dict(Erro)"
   ]
  },
  {
   "cell_type": "code",
   "execution_count": null,
   "id": "digital-device",
   "metadata": {},
   "outputs": [],
   "source": []
  }
 ],
 "metadata": {
  "kernelspec": {
   "display_name": "Julia 1.6.2",
   "language": "julia",
   "name": "julia-1.6"
  },
  "language_info": {
   "file_extension": ".jl",
   "mimetype": "application/julia",
   "name": "julia",
   "version": "1.6.2"
  }
 },
 "nbformat": 4,
 "nbformat_minor": 5
}
