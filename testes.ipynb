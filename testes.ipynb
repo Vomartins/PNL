{
 "cells": [
  {
   "cell_type": "code",
   "execution_count": 1,
   "id": "optical-nerve",
   "metadata": {},
   "outputs": [],
   "source": [
    "include(\"methods.jl\");"
   ]
  },
  {
   "cell_type": "code",
   "execution_count": 2,
   "id": "developed-success",
   "metadata": {},
   "outputs": [
    {
     "data": {
      "text/plain": [
       "problems(var\"#f#11\"{var\"#p#10\"{var\"#t#9\", Vector{Float64}}}(var\"#p#10\"{var\"#t#9\", Vector{Float64}}(var\"#t#9\"(), [0.0009, 0.0044, 0.0175, 0.054, 0.1295, 0.242, 0.3521, 0.3989, 0.3521, 0.242, 0.1295, 0.054, 0.0175, 0.0044, 0.0009])), var\"#∇f#16\"{var\"#dp₃#15\"{var\"#p#10\"{var\"#t#9\", Vector{Float64}}, var\"#t#9\"}, var\"#dp₂#14\"{var\"#p#10\"{var\"#t#9\", Vector{Float64}}, var\"#t#9\"}, var\"#dp₁#13\"{var\"#p#10\"{var\"#t#9\", Vector{Float64}}, var\"#t#9\"}}(var\"#dp₃#15\"{var\"#p#10\"{var\"#t#9\", Vector{Float64}}, var\"#t#9\"}(var\"#p#10\"{var\"#t#9\", Vector{Float64}}(var\"#t#9\"(), [0.0009, 0.0044, 0.0175, 0.054, 0.1295, 0.242, 0.3521, 0.3989, 0.3521, 0.242, 0.1295, 0.054, 0.0175, 0.0044, 0.0009]), var\"#t#9\"()), var\"#dp₂#14\"{var\"#p#10\"{var\"#t#9\", Vector{Float64}}, var\"#t#9\"}(var\"#p#10\"{var\"#t#9\", Vector{Float64}}(var\"#t#9\"(), [0.0009, 0.0044, 0.0175, 0.054, 0.1295, 0.242, 0.3521, 0.3989, 0.3521, 0.242, 0.1295, 0.054, 0.0175, 0.0044, 0.0009]), var\"#t#9\"()), var\"#dp₁#13\"{var\"#p#10\"{var\"#t#9\", Vector{Float64}}, var\"#t#9\"}(var\"#p#10\"{var\"#t#9\", Vector{Float64}}(var\"#t#9\"(), [0.0009, 0.0044, 0.0175, 0.054, 0.1295, 0.242, 0.3521, 0.3989, 0.3521, 0.242, 0.1295, 0.054, 0.0175, 0.0044, 0.0009]), var\"#t#9\"())), [0.4, 1.0, 0.0], 1.0e-10, 10000, Dict{Float64, Vector{T} where T}(1.1279300000000004e-8 => [nothing]), Dict(\"γ\" => 0.8, \"ϵ\" => 1.0000000000000003e-5, \"η\" => 0.4, \"ρ\" => 1.0, \"α\" => 1.0, \"β\" => 0.4))"
      ]
     },
     "execution_count": 2,
     "metadata": {},
     "output_type": "execute_result"
    }
   ],
   "source": [
    "problem = Gaussian()"
   ]
  },
  {
   "cell_type": "code",
   "execution_count": 3,
   "id": "prospective-thriller",
   "metadata": {},
   "outputs": [
    {
     "data": {
      "text/plain": [
       "∇f (generic function with 1 method)"
      ]
     },
     "execution_count": 3,
     "metadata": {},
     "output_type": "execute_result"
    }
   ],
   "source": [
    "f = problem.f\n",
    "∇f = problem.∇f"
   ]
  },
  {
   "cell_type": "code",
   "execution_count": 26,
   "id": "shaped-prescription",
   "metadata": {},
   "outputs": [],
   "source": [
    "x₀ = problem.x₀\n",
    "Ε = problem.Ε\n",
    "N = problem.max_iter;"
   ]
  },
  {
   "cell_type": "code",
   "execution_count": 27,
   "id": "improved-curtis",
   "metadata": {},
   "outputs": [
    {
     "name": "stdout",
     "output_type": "stream",
     "text": [
      "  0.000012 seconds (6 allocations: 496 bytes)\n"
     ]
    },
    {
     "data": {
      "text/plain": [
       "([0.4, 1.0, 0.0], 3.888106991166885e-6, [6.36092970629134e-6, -4.0979972287164045e-7, 4.697723488576301e-23], [3.888106991166885e-6], [6.36092970629134e-6], 0)"
      ]
     },
     "execution_count": 27,
     "metadata": {},
     "output_type": "execute_result"
    }
   ],
   "source": [
    "@time grad_descent(x₀,f,∇f,cauchystepsize) #cauchy apenas pra funções quadráticas"
   ]
  },
  {
   "cell_type": "code",
   "execution_count": 28,
   "id": "higher-liquid",
   "metadata": {},
   "outputs": [],
   "source": [
    "η = problem.parameters[\"η\"]\n",
    "γ = problem.parameters[\"γ\"];"
   ]
  },
  {
   "cell_type": "code",
   "execution_count": 29,
   "id": "liable-refund",
   "metadata": {},
   "outputs": [
    {
     "data": {
      "text/plain": [
       "stepsize (generic function with 1 method)"
      ]
     },
     "execution_count": 29,
     "metadata": {},
     "output_type": "execute_result"
    }
   ],
   "source": [
    "stepsize(x,d,f,∇f) = armijo(x,d,f,∇f,η,γ)"
   ]
  },
  {
   "cell_type": "code",
   "execution_count": 30,
   "id": "funded-campbell",
   "metadata": {},
   "outputs": [
    {
     "name": "stdout",
     "output_type": "stream",
     "text": [
      "  0.846693 seconds (2.89 M allocations: 300.312 MiB, 4.69% gc time, 0.56% compilation time)\n"
     ]
    },
    {
     "data": {
      "text/plain": [
       "([0.39896029722239573, 1.000060193612819, -1.3037626670542965e-22], 1.1398537894005583e-8, [1.1023509983055257e-8, -8.362085324526691e-10, 7.108583389127582e-26], [3.888106991166885e-6, 3.840785607624169e-6, 3.794324183018356e-6, 3.748701986970153e-6, 3.7038989106134944e-6, 3.65989544434981e-6, 3.6166726565259655e-6, 3.5742121729918685e-6, 3.5324961575004482e-6, 3.4915072929024926e-6  …  1.1398537894005583e-8, 1.1398537894005583e-8, 1.1398537894005583e-8, 1.1398537894005583e-8, 1.1398537894005583e-8, 1.1398537894005583e-8, 1.1398537894005583e-8, 1.1398537894005583e-8, 1.1398537894005583e-8, 1.1398537894005583e-8], [6.36092970629134e-6, 6.283702266034502e-6, 6.20787649066077e-6, 6.133418612871981e-6, 6.0602958773483664e-6, 5.988476504535907e-6, 5.917929655937762e-6, 5.848625400837122e-6, 5.780534684390889e-6, 5.713629297017406e-6  …  1.1023509983055257e-8, 1.1023509983055257e-8, 1.1023509983055257e-8, 1.1023509983055257e-8, 1.1023509983055257e-8, 1.1023509983055257e-8, 1.1023509983055257e-8, 1.1023509983055257e-8, 1.1023509983055257e-8, 1.1023509983055257e-8], 10000)"
      ]
     },
     "execution_count": 30,
     "metadata": {},
     "output_type": "execute_result"
    }
   ],
   "source": [
    "@time grad_descent(x₀,f,∇f,stepsize,ϵ=Ε,max_iter=N)"
   ]
  },
  {
   "cell_type": "code",
   "execution_count": 31,
   "id": "therapeutic-demonstration",
   "metadata": {},
   "outputs": [],
   "source": [
    "ϵ = problem.parameters[\"ϵ\"]\n",
    "ρ = problem.parameters[\"ρ\"];"
   ]
  },
  {
   "cell_type": "code",
   "execution_count": 32,
   "id": "proof-swimming",
   "metadata": {},
   "outputs": [
    {
     "data": {
      "text/plain": [
       "stepsize (generic function with 1 method)"
      ]
     },
     "execution_count": 32,
     "metadata": {},
     "output_type": "execute_result"
    }
   ],
   "source": [
    "stepsize(x,d,f,∇f) = secao_aurea(x,d,f,∇f,ϵ,ρ)"
   ]
  },
  {
   "cell_type": "code",
   "execution_count": 33,
   "id": "patient-visitor",
   "metadata": {},
   "outputs": [
    {
     "name": "stdout",
     "output_type": "stream",
     "text": [
      "  0.185618 seconds (1.24 M allocations: 123.694 MiB, 8.88% gc time, 1.62% compilation time)\n"
     ]
    },
    {
     "data": {
      "text/plain": [
       "([0.3989609707014607, 1.0000669389527228, -7.67351456388267e-21], 1.1440863154686109e-8, [1.1170753180758386e-8, -8.344188139401907e-10, -1.7771458472818954e-26], [3.888106991166885e-6, 1.1440863095157153e-8, 1.14408630951632e-8, 1.1440863095178039e-8, 1.1440863095177222e-8, 1.144086309518612e-8, 1.1440863095188743e-8, 1.144086309519793e-8, 1.1440863095205195e-8, 1.1440863095206914e-8  …  1.1440863154646437e-8, 1.1440863154644138e-8, 1.1440863154650853e-8, 1.1440863154652297e-8, 1.1440863154656231e-8, 1.1440863154669956e-8, 1.1440863154671979e-8, 1.1440863154675757e-8, 1.1440863154677592e-8, 1.1440863154686109e-8], [6.36092970629134e-6, 1.1170788172345028e-8, 1.11707881705192e-8, 1.117078816050502e-8, 1.117078815867121e-8, 1.1170788154581532e-8, 1.1170788152749804e-8, 1.117078814866254e-8, 1.1170788144571858e-8, 1.1170788142741526e-8  …  1.1170753203134307e-8, 1.117075320129834e-8, 1.1170753199476663e-8, 1.1170753197644388e-8, 1.1170753195815466e-8, 1.1170753190334736e-8, 1.1170753188504779e-8, 1.1170753186679666e-8, 1.1170753184849708e-8, 1.1170753180758386e-8], 10000)"
      ]
     },
     "execution_count": 33,
     "metadata": {},
     "output_type": "execute_result"
    }
   ],
   "source": [
    "@time grad_descent(x₀,f,∇f,stepsize,ϵ=Ε,max_iter=N)"
   ]
  },
  {
   "cell_type": "code",
   "execution_count": 34,
   "id": "compliant-biotechnology",
   "metadata": {},
   "outputs": [],
   "source": [
    "β = problem.parameters[\"β\"]\n",
    "α = problem.parameters[\"α\"];"
   ]
  },
  {
   "cell_type": "code",
   "execution_count": 35,
   "id": "cd2aef52",
   "metadata": {},
   "outputs": [
    {
     "data": {
      "text/plain": [
       "stepsize (generic function with 1 method)"
      ]
     },
     "execution_count": 35,
     "metadata": {},
     "output_type": "execute_result"
    }
   ],
   "source": [
    "stepsize(x,d,f,∇f) = interpolacao(x,d,f,∇f,η,α)"
   ]
  },
  {
   "cell_type": "code",
   "execution_count": 36,
   "id": "5163cb1b",
   "metadata": {},
   "outputs": [
    {
     "name": "stdout",
     "output_type": "stream",
     "text": [
      "  0.371877 seconds (1.46 M allocations: 131.217 MiB, 4.71% gc time, 0.99% compilation time)\n"
     ]
    },
    {
     "data": {
      "text/plain": [
       "([0.39896029722244636, 1.0000601936128155, -1.3037626611216816e-22], 1.1398537894009808e-8, [1.1023509985185059e-8, -8.362085315809635e-10, -2.50416005753358e-26], [3.888106991166885e-6, 3.840785607624169e-6, 3.794324183018356e-6, 3.748701986970153e-6, 3.7038989106134944e-6, 3.65989544434981e-6, 3.6166726565259655e-6, 3.5742121729918685e-6, 3.5324961575004482e-6, 3.4915072929024926e-6  …  1.1398537894009808e-8, 1.1398537894009808e-8, 1.1398537894009808e-8, 1.1398537894009808e-8, 1.1398537894009808e-8, 1.1398537894009808e-8, 1.1398537894009808e-8, 1.1398537894009808e-8, 1.1398537894009808e-8, 1.1398537894009808e-8], [6.36092970629134e-6, 6.283702266034502e-6, 6.20787649066077e-6, 6.133418612871981e-6, 6.0602958773483664e-6, 5.988476504535907e-6, 5.917929655937762e-6, 5.848625400837122e-6, 5.780534684390889e-6, 5.713629297017406e-6  …  1.1023509985185059e-8, 1.1023509985185059e-8, 1.1023509985185059e-8, 1.1023509985185059e-8, 1.1023509985185059e-8, 1.1023509985185059e-8, 1.1023509985185059e-8, 1.1023509985185059e-8, 1.1023509985185059e-8, 1.1023509985185059e-8], 10000)"
      ]
     },
     "execution_count": 36,
     "metadata": {},
     "output_type": "execute_result"
    }
   ],
   "source": [
    "@time grad_descent(x₀,f,∇f,stepsize,ϵ=Ε,max_iter=N)"
   ]
  }
 ],
 "metadata": {
  "kernelspec": {
   "display_name": "Julia 1.6.2",
   "language": "julia",
   "name": "julia-1.6"
  },
  "language_info": {
   "file_extension": ".jl",
   "mimetype": "application/julia",
   "name": "julia",
   "version": "1.6.2"
  }
 },
 "nbformat": 4,
 "nbformat_minor": 5
}
