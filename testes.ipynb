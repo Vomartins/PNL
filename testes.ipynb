{
 "cells": [
  {
   "cell_type": "code",
   "execution_count": 12,
   "id": "graphic-publication",
   "metadata": {},
   "outputs": [],
   "source": [
    "include(\"methods.jl\");"
   ]
  },
  {
   "cell_type": "code",
   "execution_count": 13,
   "id": "metropolitan-dominant",
   "metadata": {},
   "outputs": [
    {
     "data": {
      "text/plain": [
       "problems(\"Discrete Integral\", var\"#f#293\"{Int64, var\"#p#289\"{Int64, var\"#t#288\"{Float64}, Float64}}(4, var\"#p#289\"{Int64, var\"#t#288\"{Float64}, Float64}(4, var\"#t#288\"{Float64}(0.2), 0.2)), var\"#∇f#299\"{Int64, var\"#dp#297\"{Int64, var\"#dq#296\"{var\"#q#295\"{var\"#t#288\"{Float64}}, var\"#t#288\"{Float64}, Float64}, var\"#p#289\"{Int64, var\"#t#288\"{Float64}, Float64}}}(4, var\"#dp#297\"{Int64, var\"#dq#296\"{var\"#q#295\"{var\"#t#288\"{Float64}}, var\"#t#288\"{Float64}, Float64}, var\"#p#289\"{Int64, var\"#t#288\"{Float64}, Float64}}(4, var\"#dq#296\"{var\"#q#295\"{var\"#t#288\"{Float64}}, var\"#t#288\"{Float64}, Float64}(var\"#q#295\"{var\"#t#288\"{Float64}}(var\"#t#288\"{Float64}(0.2)), var\"#t#288\"{Float64}(0.2), 0.2), var\"#p#289\"{Int64, var\"#t#288\"{Float64}, Float64}(4, var\"#t#288\"{Float64}(0.2), 0.2))), [-0.16000000000000003, -0.24, -0.24, -0.15999999999999998], 1.0e-6, 3000, 0.0, Dict(\"γ\" => 0.8, \"ϵ\" => 1.0000000000000003e-5, \"η\" => 0.4, \"ρ\" => 1.0, \"α\" => 1.0, \"β\" => 1.0e-6))"
      ]
     },
     "execution_count": 13,
     "metadata": {},
     "output_type": "execute_result"
    }
   ],
   "source": [
    "problem = discrete_integral(4)"
   ]
  },
  {
   "cell_type": "code",
   "execution_count": 14,
   "id": "searching-alias",
   "metadata": {},
   "outputs": [
    {
     "name": "stdout",
     "output_type": "stream",
     "text": [
      "  2.485002 seconds (8.39 M allocations: 499.319 MiB, 5.27% gc time, 99.93% compilation time)\n"
     ]
    },
    {
     "data": {
      "text/plain": [
       "7.795517472558873e-14"
      ]
     },
     "execution_count": 14,
     "metadata": {},
     "output_type": "execute_result"
    }
   ],
   "source": [
    "@time grad_descent(problem,cauchystepsize,ϵ=problem.T,max_iter=problem.max_iter)[2] #cauchy apenas pra funções quadráticas"
   ]
  },
  {
   "cell_type": "code",
   "execution_count": 15,
   "id": "proof-imaging",
   "metadata": {},
   "outputs": [
    {
     "name": "stdout",
     "output_type": "stream",
     "text": [
      "  0.118522 seconds (232.97 k allocations: 14.003 MiB, 99.79% compilation time)\n"
     ]
    },
    {
     "data": {
      "text/plain": [
       "4.688527974906657e-13"
      ]
     },
     "execution_count": 15,
     "metadata": {},
     "output_type": "execute_result"
    }
   ],
   "source": [
    "@time grad_descent(problem,armijo,ϵ=problem.T,max_iter=problem.max_iter)[2]"
   ]
  },
  {
   "cell_type": "code",
   "execution_count": 16,
   "id": "specified-content",
   "metadata": {},
   "outputs": [
    {
     "name": "stdout",
     "output_type": "stream",
     "text": [
      "  0.073229 seconds (127.74 k allocations: 7.810 MiB, 99.60% compilation time)\n"
     ]
    },
    {
     "data": {
      "text/plain": [
       "6.646760667034518e-14"
      ]
     },
     "execution_count": 16,
     "metadata": {},
     "output_type": "execute_result"
    }
   ],
   "source": [
    "@time grad_descent(problem,secao_aurea,ϵ=problem.T,max_iter=problem.max_iter)[2]"
   ]
  },
  {
   "cell_type": "code",
   "execution_count": 17,
   "id": "literary-traveler",
   "metadata": {},
   "outputs": [
    {
     "name": "stdout",
     "output_type": "stream",
     "text": [
      "  0.549464 seconds (1.61 M allocations: 95.973 MiB, 3.74% gc time, 99.95% compilation time)\n"
     ]
    },
    {
     "data": {
      "text/plain": [
       "1.5327721793749227e-13"
      ]
     },
     "execution_count": 17,
     "metadata": {},
     "output_type": "execute_result"
    }
   ],
   "source": [
    "@time grad_descent(problem,interpolacao,ϵ=problem.T,max_iter=problem.max_iter)[2]"
   ]
  },
  {
   "cell_type": "code",
   "execution_count": 18,
   "id": "broken-ability",
   "metadata": {},
   "outputs": [],
   "source": [
    "E₁ = 0.1:0.2:1.0\n",
    "R₁ = 0.1:0.2:1.0;"
   ]
  },
  {
   "cell_type": "code",
   "execution_count": 19,
   "id": "modular-nightmare",
   "metadata": {},
   "outputs": [
    {
     "name": "stdout",
     "output_type": "stream",
     "text": [
      "  0.192808 seconds (444.64 k allocations: 25.749 MiB, 96.07% compilation time)\n"
     ]
    },
    {
     "data": {
      "text/plain": [
       "Dict{Any, Any} with 25 entries:\n",
       "  (0.5, 0.5) => 4.97371e-14\n",
       "  (0.3, 0.9) => 5.42854e-14\n",
       "  (0.5, 0.7) => 3.54895e-13\n",
       "  (0.1, 0.5) => 2.94021e-13\n",
       "  (0.3, 0.3) => 5.7492e-14\n",
       "  (0.1, 0.7) => 1.8158e-13\n",
       "  (0.3, 0.1) => 2.94807e-13\n",
       "  (0.7, 0.9) => 6.16526e-14\n",
       "  (0.7, 0.3) => 6.63996e-14\n",
       "  (0.9, 0.9) => 6.16526e-14\n",
       "  (0.7, 0.1) => 2.94807e-13\n",
       "  (0.9, 0.3) => 6.63996e-14\n",
       "  (0.3, 0.5) => 5.20508e-15\n",
       "  (0.3, 0.7) => 3.52914e-13\n",
       "  (0.5, 0.9) => 5.42327e-14\n",
       "  (0.9, 0.1) => 6.63378e-14\n",
       "  (0.5, 0.3) => 5.7492e-14\n",
       "  (0.7, 0.5) => 6.49662e-14\n",
       "  (0.1, 0.9) => 5.42854e-14\n",
       "  (0.7, 0.7) => 6.33447e-14\n",
       "  (0.1, 0.3) => 5.7492e-14\n",
       "  (0.5, 0.1) => 2.94807e-13\n",
       "  (0.9, 0.5) => 6.49662e-14\n",
       "  (0.1, 0.1) => 2.94807e-13\n",
       "  (0.9, 0.7) => 6.33447e-14"
      ]
     },
     "execution_count": 19,
     "metadata": {},
     "output_type": "execute_result"
    }
   ],
   "source": [
    "@time Erro = grid_search(E₁, R₁, interpolacao, problem)"
   ]
  },
  {
   "cell_type": "code",
   "execution_count": 20,
   "id": "cooperative-preservation",
   "metadata": {},
   "outputs": [
    {
     "data": {
      "text/plain": [
       "((0.3, 0.5), 5.205077314134621e-15)"
      ]
     },
     "execution_count": 20,
     "metadata": {},
     "output_type": "execute_result"
    }
   ],
   "source": [
    "min_par₁ = find_min_dict(Erro)"
   ]
  },
  {
   "cell_type": "code",
   "execution_count": 21,
   "id": "personalized-carroll",
   "metadata": {},
   "outputs": [
    {
     "data": {
      "text/plain": [
       "false"
      ]
     },
     "execution_count": 21,
     "metadata": {},
     "output_type": "execute_result"
    }
   ],
   "source": [
    "isnan(min_par₁[2])"
   ]
  },
  {
   "cell_type": "code",
   "execution_count": 22,
   "id": "dressed-trinity",
   "metadata": {},
   "outputs": [
    {
     "data": {
      "text/plain": [
       "true"
      ]
     },
     "execution_count": 22,
     "metadata": {},
     "output_type": "execute_result"
    }
   ],
   "source": [
    "min_par₁[2] != 0.0"
   ]
  },
  {
   "cell_type": "code",
   "execution_count": 23,
   "id": "revised-timeline",
   "metadata": {},
   "outputs": [],
   "source": [
    "E₂ = (min_par₁[1][1]-0.05):0.01:(min_par₁[1][1]+0.05)\n",
    "R₂ = (min_par₁[1][2]-0.05):0.01:(min_par₁[1][2]+0.05);"
   ]
  },
  {
   "cell_type": "code",
   "execution_count": 24,
   "id": "opposite-subscription",
   "metadata": {},
   "outputs": [
    {
     "data": {
      "text/plain": [
       "Dict{Any, Any} with 121 entries:\n",
       "  (0.35, 0.47) => 1.84993e-13\n",
       "  (0.28, 0.52) => 7.08871e-14\n",
       "  (0.29, 0.54) => 1.06122e-13\n",
       "  (0.33, 0.55) => 1.16156e-13\n",
       "  (0.34, 0.51) => 4.93952e-14\n",
       "  (0.33, 0.5)  => 1.22021e-13\n",
       "  (0.28, 0.53) => 9.06135e-14\n",
       "  (0.31, 0.52) => 7.08871e-14\n",
       "  (0.34, 0.48) => 4.59971e-14\n",
       "  (0.34, 0.49) => 1.54708e-13\n",
       "  (0.31, 0.53) => 9.06135e-14\n",
       "  (0.3, 0.46)  => 4.30074e-14\n",
       "  (0.35, 0.54) => 1.85219e-14\n",
       "  (0.33, 0.52) => 7.08871e-14\n",
       "  (0.29, 0.55) => 1.16156e-13\n",
       "  (0.27, 0.51) => 1.14516e-14\n",
       "  (0.29, 0.5)  => 5.20508e-15\n",
       "  (0.33, 0.53) => 9.06135e-14\n",
       "  (0.27, 0.48) => 4.59971e-14\n",
       "  (0.34, 0.46) => 4.30074e-14\n",
       "  (0.27, 0.49) => 1.54708e-13\n",
       "  (0.35, 0.55) => 2.36044e-14\n",
       "  (0.29, 0.52) => 7.08871e-14\n",
       "  (0.35, 0.5)  => 2.94166e-14\n",
       "  (0.29, 0.53) => 9.06135e-14\n",
       "  ⋮            => ⋮"
      ]
     },
     "execution_count": 24,
     "metadata": {},
     "output_type": "execute_result"
    }
   ],
   "source": [
    "Erro = grid_search(E₂, R₂, interpolacao, problem)"
   ]
  },
  {
   "cell_type": "code",
   "execution_count": 25,
   "id": "economic-extraction",
   "metadata": {},
   "outputs": [
    {
     "data": {
      "text/plain": [
       "((0.28, 0.45), 3.334933086297642e-15)"
      ]
     },
     "execution_count": 25,
     "metadata": {},
     "output_type": "execute_result"
    }
   ],
   "source": [
    "find_min_dict(Erro)"
   ]
  },
  {
   "cell_type": "code",
   "execution_count": null,
   "id": "digital-device",
   "metadata": {},
   "outputs": [],
   "source": []
  }
 ],
 "metadata": {
  "kernelspec": {
   "display_name": "Julia 1.6.2",
   "language": "julia",
   "name": "julia-1.6"
  },
  "language_info": {
   "file_extension": ".jl",
   "mimetype": "application/julia",
   "name": "julia",
   "version": "1.6.2"
  }
 },
 "nbformat": 4,
 "nbformat_minor": 5
}
