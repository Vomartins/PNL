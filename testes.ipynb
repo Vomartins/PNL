{
 "cells": [
  {
   "cell_type": "code",
   "execution_count": 1,
   "id": "advisory-sailing",
   "metadata": {},
   "outputs": [],
   "source": [
    "using BenchmarkTools\n",
    "using IterTools"
   ]
  },
  {
   "cell_type": "code",
   "execution_count": 2,
   "id": "graphic-publication",
   "metadata": {},
   "outputs": [],
   "source": [
    "include(\"methods.jl\");"
   ]
  },
  {
   "cell_type": "code",
   "execution_count": 17,
   "id": "metropolitan-dominant",
   "metadata": {},
   "outputs": [
    {
     "data": {
      "text/plain": [
       "problems(\"Linear, rank 1\", var\"#f#60\"{Int64, var\"#p#58\"{Int64}}(30, var\"#p#58\"{Int64}(20)), var\"#∇f#64\"{Int64, var\"#dp#62\"{Int64, var\"#p#58\"{Int64}}}(30, var\"#dp#62\"{Int64, var\"#p#58\"{Int64}}(30, var\"#p#58\"{Int64}(20))), [1.0, 1.0, 1.0, 1.0, 1.0, 1.0, 1.0, 1.0, 1.0, 1.0  …  1.0, 1.0, 1.0, 1.0, 1.0, 1.0, 1.0, 1.0, 1.0, 1.0], 1.0e-6, 5000, 7.131147540983607, Dict(\"γ\" => 0.8, \"ϵ\" => 1.0000000000000003e-5, \"η\" => 0.4, \"ρ\" => 1.0, \"α\" => 1.0, \"β\" => 1.0e-6))"
      ]
     },
     "execution_count": 17,
     "metadata": {},
     "output_type": "execute_result"
    }
   ],
   "source": [
    "problem = linear_rank1(20,30)"
   ]
  },
  {
   "cell_type": "code",
   "execution_count": 18,
   "id": "searching-alias",
   "metadata": {},
   "outputs": [
    {
     "name": "stdout",
     "output_type": "stream",
     "text": [
      "  3.451366 seconds (5.12 M allocations: 694.895 MiB, 3.08% gc time, 54.44% compilation time)\n"
     ]
    },
    {
     "data": {
      "text/plain": [
       "6.775106750844696e292"
      ]
     },
     "execution_count": 18,
     "metadata": {},
     "output_type": "execute_result"
    }
   ],
   "source": [
    "@time grad_descent(problem,cauchystepsize,ϵ=problem.T,max_iter=problem.max_iter)[2] #cauchy apenas pra funções quadráticas"
   ]
  },
  {
   "cell_type": "code",
   "execution_count": 19,
   "id": "proof-imaging",
   "metadata": {},
   "outputs": [
    {
     "name": "stdout",
     "output_type": "stream",
     "text": [
      " 34.696814 seconds (30.32 M allocations: 3.277 GiB, 1.06% gc time)\n"
     ]
    },
    {
     "data": {
      "text/plain": [
       "([1.0, 0.9999999999999999, 0.9999999999999999, 0.9999999999999998, 0.9999999999999998, 0.9999999999999997, 0.9999999999999997, 0.9999999999999996, 0.9999999999999996, 0.9999999999999994  …  0.9999999999999989, 0.9999999999999988, 0.9999999999999988, 0.9999999999999987, 0.9999999999999987, 0.9999999999999986, 0.9999999999999986, 0.9999999999999986, 0.9999999999999984, 0.9999999999994434], 4.167702299999991e8, [3.9701699999999953e6, 7.940339999999991e6, 1.1910509999999985e7, 1.5880679999999981e7, 1.9850849999999978e7, 2.382101999999997e7, 2.7791189999999963e7, 3.1761359999999963e7, 3.5731529999999955e7, 3.9701699999999955e7  …  8.33735699999999e7, 8.734373999999988e7, 9.131390999999988e7, 9.528407999999988e7, 9.925424999999987e7, 1.0322441999999987e8, 1.0719458999999987e8, 1.1116475999999985e8, 1.1513492999999985e8, 1.1910509999999985e8], [4.1677023e8, 4.167702299999991e8, 4.167702299999991e8, 4.167702299999991e8, 4.167702299999991e8, 4.167702299999991e8, 4.167702299999991e8, 4.167702299999991e8, 4.167702299999991e8, 4.167702299999991e8  …  4.167702299999991e8, 4.167702299999991e8, 4.167702299999991e8, 4.167702299999991e8, 4.167702299999991e8, 4.167702299999991e8, 4.167702299999991e8, 4.167702299999991e8, 4.167702299999991e8, 4.167702299999991e8], [1.191051e8, 1.1910509999999985e8, 1.1910509999999985e8, 1.1910509999999985e8, 1.1910509999999985e8, 1.1910509999999985e8, 1.1910509999999985e8, 1.1910509999999985e8, 1.1910509999999985e8, 1.1910509999999985e8  …  1.1910509999999985e8, 1.1910509999999985e8, 1.1910509999999985e8, 1.1910509999999985e8, 1.1910509999999985e8, 1.1910509999999985e8, 1.1910509999999985e8, 1.1910509999999985e8, 1.1910509999999985e8, 1.1910509999999985e8], 5000)"
      ]
     },
     "execution_count": 19,
     "metadata": {},
     "output_type": "execute_result"
    }
   ],
   "source": [
    "@time grad_descent(problem,armijo,ϵ=problem.T,max_iter=problem.max_iter)"
   ]
  },
  {
   "cell_type": "code",
   "execution_count": 20,
   "id": "specified-content",
   "metadata": {},
   "outputs": [
    {
     "name": "stdout",
     "output_type": "stream",
     "text": [
      "  0.010663 seconds (38.00 k allocations: 3.841 MiB)\n"
     ]
    },
    {
     "data": {
      "text/plain": [
       "([NaN, NaN, NaN, NaN, NaN, NaN, NaN, NaN, NaN, NaN  …  NaN, NaN, NaN, NaN, NaN, NaN, NaN, NaN, NaN, NaN], NaN, [NaN, NaN, NaN, NaN, NaN, NaN, NaN, NaN, NaN, NaN  …  NaN, NaN, NaN, NaN, NaN, NaN, NaN, NaN, NaN, NaN], [4.1677023e8, 1.649419188757057e13, 6.527778403913802e17, 2.583448233237338e22, 1.0224312715357387e27, 4.0463969494919284e31, 1.601411139182401e36, 6.337780669342089e40, 2.508254303338601e45, 9.926723530604131e49  …  Inf, Inf, Inf, Inf, Inf, Inf, Inf, Inf, Inf, NaN], [1.191051e8, 2.3694499434866405e10, 4.713730171662544e12, 9.377388280482605e14, 1.8655164330697674e17, 3.711216234158369e19, 7.383009708478687e21, 1.4687592669429054e24, 2.9219164939648654e26, 5.812794642293012e28  …  1.1461185913881321e255, 1.244033784139989e263, 1.350314066720832e271, 1.4656740854064888e279, 1.5908895401267216e287, 1.7268024004004174e295, 1.8743265668785066e303, Inf, Inf, NaN], 84)"
      ]
     },
     "execution_count": 20,
     "metadata": {},
     "output_type": "execute_result"
    }
   ],
   "source": [
    "@time grad_descent(problem,secao_aurea,ϵ=problem.T,max_iter=problem.max_iter)"
   ]
  },
  {
   "cell_type": "code",
   "execution_count": 21,
   "id": "literary-traveler",
   "metadata": {},
   "outputs": [
    {
     "name": "stdout",
     "output_type": "stream",
     "text": [
      "  0.049828 seconds (32.04 k allocations: 3.432 MiB, 10.91% gc time)\n"
     ]
    },
    {
     "data": {
      "text/plain": [
       "([0.9268464042954251, 0.853692808590849, 0.7805392128862733, 0.7073856171816978, 0.634232021477123, 0.5610784257725467, 0.48792483006797094, 0.41477123436339564, 0.3416176386588202, 0.2684640429542448  …  -0.5362255097960861, -0.609379105500662, -0.6825327012052367, -0.755686296909812, -0.8288398926143885, -0.9019934883189635, -0.9751470840235394, -1.0483006797281162, -1.1214542754326917, -1.1946078711372656], 7.131147540983607, [-1.1722191217700129e-8, -2.3444382435400257e-8, -3.516659141666878e-8, -4.6888764870800514e-8, -5.861088148151339e-8, -7.033318283333756e-8, -8.205531365490515e-8, -9.377752974160103e-8, -1.0549994478026292e-7, -1.1722176296302678e-7  …  -2.4616670835087007e-7, -2.5788716229158126e-7, -2.696115952716127e-7, -2.8133273133335024e-7, -2.930545495161141e-7, -3.0477693613306656e-7, -3.164996638105322e-7, -3.282212546196206e-7, -3.3994364123657306e-7, -3.516654594193369e-7], [4.1677023e8, 5.915408853296498e7, 8.396013137648718e6, 1.191690219318904e6, 169148.09517531443, 24014.07193467871, 3414.544793735414, 490.7607580674495, 75.77488390639935, 16.874063229296535  …  7.131147540983607, 7.131147540983606, 7.131147540983605, 7.131147540983608, 7.131147540983607, 7.131147540983604, 7.131147540983608, 7.131147540983606, 7.131147540983605, 7.131147540983607], [1.191051e8, 4.487189123220752e7, 1.690512503500897e7, 6.368870304471339e6, 2.3994207912697084e6, 903962.5271617147, 340560.63437979156, 128303.48663656745, 48337.30959006739, 18210.693677034807  …  5.861036335375047e-6, 1.344563009197941e-5, 3.08533013999579e-5, 1.0217315274729799e-5, 2.344543460708337e-5, 5.3794338484181026e-5, 1.753933561587928e-5, 4.024500379529172e-5, 9.233549581821876e-5, 3.516654594193369e-7], 185)"
      ]
     },
     "execution_count": 21,
     "metadata": {},
     "output_type": "execute_result"
    }
   ],
   "source": [
    "@time grad_descent(problem,interpolacao,ϵ=problem.T,max_iter=problem.max_iter)"
   ]
  },
  {
   "cell_type": "code",
   "execution_count": 22,
   "id": "broken-ability",
   "metadata": {},
   "outputs": [],
   "source": [
    "E₁ = 0.1:0.2:1.0\n",
    "R₁ = 0.1:0.2:1.0;"
   ]
  },
  {
   "cell_type": "code",
   "execution_count": 23,
   "id": "modular-nightmare",
   "metadata": {},
   "outputs": [
    {
     "name": "stdout",
     "output_type": "stream",
     "text": [
      "  0.065698 seconds (79.66 k allocations: 8.015 MiB)\n"
     ]
    },
    {
     "data": {
      "text/plain": [
       "Dict{Any, Any}()"
      ]
     },
     "execution_count": 23,
     "metadata": {},
     "output_type": "execute_result"
    }
   ],
   "source": [
    "@time Erro = grid_search(E₁, R₁, secao_aurea, problem)"
   ]
  },
  {
   "cell_type": "code",
   "execution_count": null,
   "id": "cooperative-preservation",
   "metadata": {},
   "outputs": [],
   "source": [
    "min_par₁ = find_min_dict(Erro)"
   ]
  },
  {
   "cell_type": "code",
   "execution_count": null,
   "id": "personalized-carroll",
   "metadata": {},
   "outputs": [],
   "source": [
    "isnan(min_par₁[2])"
   ]
  },
  {
   "cell_type": "code",
   "execution_count": null,
   "id": "dressed-trinity",
   "metadata": {},
   "outputs": [],
   "source": [
    "min_par₁[2] != 0.0"
   ]
  },
  {
   "cell_type": "code",
   "execution_count": null,
   "id": "revised-timeline",
   "metadata": {},
   "outputs": [],
   "source": [
    "E₂ = (min_par₁[1][1]-0.05):0.01:(min_par₁[1][1]+0.05)\n",
    "R₂ = (min_par₁[1][2]-0.05):0.01:(min_par₁[1][2]+0.05);"
   ]
  },
  {
   "cell_type": "code",
   "execution_count": null,
   "id": "opposite-subscription",
   "metadata": {},
   "outputs": [],
   "source": [
    "Erro = grid_search(E₂, R₂, interpolacao, problem)"
   ]
  },
  {
   "cell_type": "code",
   "execution_count": null,
   "id": "economic-extraction",
   "metadata": {},
   "outputs": [],
   "source": [
    "find_min_dict(Erro)"
   ]
  },
  {
   "cell_type": "code",
   "execution_count": null,
   "id": "digital-device",
   "metadata": {},
   "outputs": [],
   "source": [
    "a = 0.1:0.2:1.0\n"
   ]
  },
  {
   "cell_type": "code",
   "execution_count": null,
   "id": "comfortable-minutes",
   "metadata": {},
   "outputs": [],
   "source": []
  }
 ],
 "metadata": {
  "kernelspec": {
   "display_name": "Julia 1.6.2",
   "language": "julia",
   "name": "julia-1.6"
  },
  "language_info": {
   "file_extension": ".jl",
   "mimetype": "application/julia",
   "name": "julia",
   "version": "1.6.2"
  }
 },
 "nbformat": 4,
 "nbformat_minor": 5
}
