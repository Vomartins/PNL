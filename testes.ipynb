{
 "cells": [
  {
   "cell_type": "code",
   "execution_count": 13,
   "id": "advisory-sailing",
   "metadata": {},
   "outputs": [],
   "source": [
    "using BenchmarkTools"
   ]
  },
  {
   "cell_type": "code",
   "execution_count": 14,
   "id": "graphic-publication",
   "metadata": {},
   "outputs": [],
   "source": [
    "include(\"methods.jl\");"
   ]
  },
  {
   "cell_type": "code",
   "execution_count": 8,
   "id": "metropolitan-dominant",
   "metadata": {},
   "outputs": [
    {
     "data": {
      "text/plain": [
       "problems(\"Trigonometric\", var\"#f#26\"{var\"#p#24\"{Int64, Int64}, Int64}(var\"#p#24\"{Int64, Int64}(2, 2), 2), var\"#∇f#31\"{Int64, var\"#dp#29\"{Int64, var\"#dq#28\", var\"#p#24\"{Int64, Int64}}}(2, var\"#dp#29\"{Int64, var\"#dq#28\", var\"#p#24\"{Int64, Int64}}(2, var\"#dq#28\"(), var\"#p#24\"{Int64, Int64}(2, 2))), [0.5, 0.5], 1.0e-6, 3000, 0.0, Dict(\"γ\" => 0.8, \"ϵ\" => 1.0000000000000003e-5, \"η\" => 0.4, \"ρ\" => 1.0, \"α\" => 1.0, \"β\" => 1.0e-6))"
      ]
     },
     "execution_count": 8,
     "metadata": {},
     "output_type": "execute_result"
    }
   ],
   "source": [
    "problem = trigonometric(2)"
   ]
  },
  {
   "cell_type": "code",
   "execution_count": 15,
   "id": "searching-alias",
   "metadata": {},
   "outputs": [
    {
     "data": {
      "text/plain": [
       "BenchmarkTools.Trial: 10000 samples with 1 evaluation.\n",
       " Range \u001b[90m(\u001b[39m\u001b[36m\u001b[1mmin\u001b[22m\u001b[39m … \u001b[35mmax\u001b[39m\u001b[90m):  \u001b[39m\u001b[36m\u001b[1m68.069 μs\u001b[22m\u001b[39m … \u001b[35m  5.853 ms\u001b[39m  \u001b[90m┊\u001b[39m GC \u001b[90m(\u001b[39mmin … max\u001b[90m): \u001b[39m0.00% … 97.13%\n",
       " Time  \u001b[90m(\u001b[39m\u001b[34m\u001b[1mmedian\u001b[22m\u001b[39m\u001b[90m):     \u001b[39m\u001b[34m\u001b[1m76.900 μs               \u001b[22m\u001b[39m\u001b[90m┊\u001b[39m GC \u001b[90m(\u001b[39mmedian\u001b[90m):    \u001b[39m0.00%\n",
       " Time  \u001b[90m(\u001b[39m\u001b[32m\u001b[1mmean\u001b[22m\u001b[39m ± \u001b[32mσ\u001b[39m\u001b[90m):   \u001b[39m\u001b[32m\u001b[1m86.894 μs\u001b[22m\u001b[39m ± \u001b[32m150.860 μs\u001b[39m  \u001b[90m┊\u001b[39m GC \u001b[90m(\u001b[39mmean ± σ\u001b[90m):  \u001b[39m5.37% ±  3.07%\n",
       "\n",
       "  \u001b[39m▄\u001b[39m▇\u001b[39m▄\u001b[39m▄\u001b[39m█\u001b[34m█\u001b[39m\u001b[39m▆\u001b[39m▅\u001b[39m▄\u001b[39m▄\u001b[39m▃\u001b[32m▃\u001b[39m\u001b[39m▃\u001b[39m▂\u001b[39m▂\u001b[39m▁\u001b[39m▁\u001b[39m \u001b[39m▁\u001b[39m \u001b[39m \u001b[39m \u001b[39m \u001b[39m \u001b[39m \u001b[39m \u001b[39m \u001b[39m \u001b[39m \u001b[39m \u001b[39m \u001b[39m \u001b[39m \u001b[39m \u001b[39m \u001b[39m \u001b[39m \u001b[39m \u001b[39m \u001b[39m \u001b[39m \u001b[39m \u001b[39m \u001b[39m \u001b[39m \u001b[39m \u001b[39m \u001b[39m \u001b[39m \u001b[39m \u001b[39m \u001b[39m \u001b[39m \u001b[39m \u001b[39m \u001b[39m \u001b[39m \u001b[39m \u001b[39m \u001b[39m \u001b[39m \u001b[39m▂\n",
       "  \u001b[39m█\u001b[39m█\u001b[39m█\u001b[39m█\u001b[39m█\u001b[34m█\u001b[39m\u001b[39m█\u001b[39m█\u001b[39m█\u001b[39m█\u001b[39m█\u001b[32m█\u001b[39m\u001b[39m█\u001b[39m█\u001b[39m█\u001b[39m█\u001b[39m█\u001b[39m█\u001b[39m█\u001b[39m█\u001b[39m▇\u001b[39m█\u001b[39m█\u001b[39m█\u001b[39m█\u001b[39m█\u001b[39m█\u001b[39m█\u001b[39m▇\u001b[39m▇\u001b[39m▇\u001b[39m▆\u001b[39m▆\u001b[39m▇\u001b[39m▆\u001b[39m▅\u001b[39m▇\u001b[39m▆\u001b[39m▇\u001b[39m▇\u001b[39m▇\u001b[39m▆\u001b[39m▇\u001b[39m▆\u001b[39m▆\u001b[39m▆\u001b[39m▆\u001b[39m▆\u001b[39m▆\u001b[39m▆\u001b[39m▆\u001b[39m▆\u001b[39m▆\u001b[39m▆\u001b[39m▆\u001b[39m▄\u001b[39m▅\u001b[39m▅\u001b[39m▅\u001b[39m▄\u001b[39m \u001b[39m█\n",
       "  68.1 μs\u001b[90m       \u001b[39m\u001b[90mHistogram: \u001b[39m\u001b[90m\u001b[1mlog(\u001b[22m\u001b[39m\u001b[90mfrequency\u001b[39m\u001b[90m\u001b[1m)\u001b[22m\u001b[39m\u001b[90m by time\u001b[39m       169 μs \u001b[0m\u001b[1m<\u001b[22m\n",
       "\n",
       " Memory estimate\u001b[90m: \u001b[39m\u001b[33m49.97 KiB\u001b[39m, allocs estimate\u001b[90m: \u001b[39m\u001b[33m745\u001b[39m."
      ]
     },
     "execution_count": 15,
     "metadata": {},
     "output_type": "execute_result"
    }
   ],
   "source": [
    "@time grad_descent(problem,cauchystepsize,ϵ=problem.T,max_iter=problem.max_iter)[2] #cauchy apenas pra funções quadráticas"
   ]
  },
  {
   "cell_type": "code",
   "execution_count": 16,
   "id": "proof-imaging",
   "metadata": {},
   "outputs": [
    {
     "data": {
      "text/plain": [
       "BenchmarkTools.Trial: 10000 samples with 1 evaluation.\n",
       " Range \u001b[90m(\u001b[39m\u001b[36m\u001b[1mmin\u001b[22m\u001b[39m … \u001b[35mmax\u001b[39m\u001b[90m):  \u001b[39m\u001b[36m\u001b[1m 76.717 μs\u001b[22m\u001b[39m … \u001b[35m  7.109 ms\u001b[39m  \u001b[90m┊\u001b[39m GC \u001b[90m(\u001b[39mmin … max\u001b[90m): \u001b[39m0.00% … 97.58%\n",
       " Time  \u001b[90m(\u001b[39m\u001b[34m\u001b[1mmedian\u001b[22m\u001b[39m\u001b[90m):     \u001b[39m\u001b[34m\u001b[1m 87.579 μs               \u001b[22m\u001b[39m\u001b[90m┊\u001b[39m GC \u001b[90m(\u001b[39mmedian\u001b[90m):    \u001b[39m0.00%\n",
       " Time  \u001b[90m(\u001b[39m\u001b[32m\u001b[1mmean\u001b[22m\u001b[39m ± \u001b[32mσ\u001b[39m\u001b[90m):   \u001b[39m\u001b[32m\u001b[1m109.667 μs\u001b[22m\u001b[39m ± \u001b[32m236.419 μs\u001b[39m  \u001b[90m┊\u001b[39m GC \u001b[90m(\u001b[39mmean ± σ\u001b[90m):  \u001b[39m9.18% ±  4.24%\n",
       "\n",
       "  \u001b[39m▄\u001b[39m▄\u001b[39m▂\u001b[39m▃\u001b[39m█\u001b[39m▇\u001b[34m▆\u001b[39m\u001b[39m▅\u001b[39m▄\u001b[39m▄\u001b[39m▃\u001b[39m▂\u001b[39m▃\u001b[39m▃\u001b[39m▂\u001b[39m▂\u001b[39m▂\u001b[39m▁\u001b[32m▁\u001b[39m\u001b[39m \u001b[39m \u001b[39m▁\u001b[39m \u001b[39m \u001b[39m \u001b[39m \u001b[39m \u001b[39m \u001b[39m \u001b[39m \u001b[39m \u001b[39m \u001b[39m \u001b[39m \u001b[39m \u001b[39m \u001b[39m \u001b[39m \u001b[39m \u001b[39m \u001b[39m \u001b[39m \u001b[39m \u001b[39m \u001b[39m \u001b[39m▁\u001b[39m▁\u001b[39m▂\u001b[39m▂\u001b[39m▂\u001b[39m▂\u001b[39m▂\u001b[39m▁\u001b[39m \u001b[39m \u001b[39m \u001b[39m \u001b[39m \u001b[39m \u001b[39m \u001b[39m \u001b[39m \u001b[39m▂\n",
       "  \u001b[39m█\u001b[39m█\u001b[39m█\u001b[39m█\u001b[39m█\u001b[39m█\u001b[34m█\u001b[39m\u001b[39m█\u001b[39m█\u001b[39m█\u001b[39m█\u001b[39m█\u001b[39m█\u001b[39m█\u001b[39m█\u001b[39m█\u001b[39m█\u001b[39m█\u001b[32m█\u001b[39m\u001b[39m█\u001b[39m█\u001b[39m█\u001b[39m█\u001b[39m█\u001b[39m█\u001b[39m█\u001b[39m█\u001b[39m█\u001b[39m▇\u001b[39m█\u001b[39m▆\u001b[39m▇\u001b[39m▇\u001b[39m▇\u001b[39m▇\u001b[39m▆\u001b[39m▇\u001b[39m▆\u001b[39m▆\u001b[39m▇\u001b[39m█\u001b[39m▇\u001b[39m█\u001b[39m█\u001b[39m█\u001b[39m█\u001b[39m█\u001b[39m█\u001b[39m█\u001b[39m█\u001b[39m█\u001b[39m█\u001b[39m█\u001b[39m█\u001b[39m█\u001b[39m▇\u001b[39m▇\u001b[39m▆\u001b[39m▆\u001b[39m▆\u001b[39m▄\u001b[39m \u001b[39m█\n",
       "  76.7 μs\u001b[90m       \u001b[39m\u001b[90mHistogram: \u001b[39m\u001b[90m\u001b[1mlog(\u001b[22m\u001b[39m\u001b[90mfrequency\u001b[39m\u001b[90m\u001b[1m)\u001b[22m\u001b[39m\u001b[90m by time\u001b[39m        187 μs \u001b[0m\u001b[1m<\u001b[22m\n",
       "\n",
       " Memory estimate\u001b[90m: \u001b[39m\u001b[33m91.06 KiB\u001b[39m, allocs estimate\u001b[90m: \u001b[39m\u001b[33m1922\u001b[39m."
      ]
     },
     "execution_count": 16,
     "metadata": {},
     "output_type": "execute_result"
    }
   ],
   "source": [
    "@time grad_descent(problem,armijo,ϵ=problem.T,max_iter=problem.max_iter)["
   ]
  },
  {
   "cell_type": "code",
   "execution_count": 11,
   "id": "specified-content",
   "metadata": {},
   "outputs": [
    {
     "name": "stdout",
     "output_type": "stream",
     "text": [
      "  0.000230 seconds (4.22 k allocations: 196.984 KiB)\n"
     ]
    },
    {
     "data": {
      "text/plain": [
       "([0.24306407970054317, 0.612675891076694], 5.991562551834463e-14, [-4.433647284382411e-8, -5.060586529182748e-7], [0.012687776161404513, 0.009319369342138277, 0.000706371662526985, 4.878876809610161e-5, 2.9163977618213454e-6, 1.5462303873327732e-7, 8.11913864315676e-9, 4.232334583187971e-10, 2.2060636745802314e-11, 1.1495007731222745e-12, 5.991562551834463e-14], [0.0960696773623254, 0.037600611720025844, 0.050227379279648564, 0.007851529883466355, 0.0035122353351761722, 0.00042874364957639055, 0.0001862436079675054, 2.239123948731239e-5, 9.710454593131022e-6, 1.1668169559240378e-6, 5.060586529182748e-7], 10)"
      ]
     },
     "execution_count": 11,
     "metadata": {},
     "output_type": "execute_result"
    }
   ],
   "source": [
    "@time grad_descent(problem,secao_aurea,ϵ=problem.T,max_iter=problem.max_iter)"
   ]
  },
  {
   "cell_type": "code",
   "execution_count": 12,
   "id": "literary-traveler",
   "metadata": {},
   "outputs": [
    {
     "name": "stdout",
     "output_type": "stream",
     "text": [
      "  0.000129 seconds (1.29 k allocations: 61.812 KiB)\n"
     ]
    },
    {
     "data": {
      "text/plain": [
       "([0.24306475140819964, 0.6126761198718538], 8.949032930442823e-14, [3.262025571712216e-7, -6.293145093162471e-8], [0.012687776161404513, 0.0105635395578701, 0.010292574226375703, 0.007883044685929303, 0.004934747898717686, 0.0031835606656915047, 0.001903928616334748, 0.0013911383467924414, 0.00031839649965105266, 0.00011824038069601737  …  2.312437384583811e-8, 5.187746664786186e-9, 2.9738291018363893e-9, 3.640493325941616e-10, 7.28931793174975e-11, 3.033343634938403e-11, 5.709109457957394e-12, 1.275938084089115e-12, 7.291811562579588e-13, 8.949032930442823e-14], [0.0960696773623254, 0.07232977620507532, 0.1046870662372264, 0.0957195522210468, 0.03841466366320574, 0.0468558051679669, 0.05272185547476252, 0.06965270548595827, 0.016990493068650164, 0.01502936424288727  …  0.00015693043548455432, 7.349979662602275e-5, 0.00010521718633490063, 2.0803581936847222e-5, 7.930666785009402e-6, 9.284935627270961e-6, 2.4671393412426097e-6, 1.149971007089332e-6, 1.646788845327791e-6, 3.262025571712216e-7], 24)"
      ]
     },
     "execution_count": 12,
     "metadata": {},
     "output_type": "execute_result"
    }
   ],
   "source": [
    "@time grad_descent(problem,interpolacao,ϵ=problem.T,max_iter=problem.max_iter)"
   ]
  },
  {
   "cell_type": "code",
   "execution_count": 7,
   "id": "broken-ability",
   "metadata": {},
   "outputs": [],
   "source": [
    "E₁ = 0.1:0.2:1.0\n",
    "R₁ = 0.1:0.2:1.0;"
   ]
  },
  {
   "cell_type": "code",
   "execution_count": 19,
   "id": "modular-nightmare",
   "metadata": {},
   "outputs": [
    {
     "name": "stdout",
     "output_type": "stream",
     "text": [
      "  0.192808 seconds (444.64 k allocations: 25.749 MiB, 96.07% compilation time)\n"
     ]
    },
    {
     "data": {
      "text/plain": [
       "Dict{Any, Any} with 25 entries:\n",
       "  (0.5, 0.5) => 4.97371e-14\n",
       "  (0.3, 0.9) => 5.42854e-14\n",
       "  (0.5, 0.7) => 3.54895e-13\n",
       "  (0.1, 0.5) => 2.94021e-13\n",
       "  (0.3, 0.3) => 5.7492e-14\n",
       "  (0.1, 0.7) => 1.8158e-13\n",
       "  (0.3, 0.1) => 2.94807e-13\n",
       "  (0.7, 0.9) => 6.16526e-14\n",
       "  (0.7, 0.3) => 6.63996e-14\n",
       "  (0.9, 0.9) => 6.16526e-14\n",
       "  (0.7, 0.1) => 2.94807e-13\n",
       "  (0.9, 0.3) => 6.63996e-14\n",
       "  (0.3, 0.5) => 5.20508e-15\n",
       "  (0.3, 0.7) => 3.52914e-13\n",
       "  (0.5, 0.9) => 5.42327e-14\n",
       "  (0.9, 0.1) => 6.63378e-14\n",
       "  (0.5, 0.3) => 5.7492e-14\n",
       "  (0.7, 0.5) => 6.49662e-14\n",
       "  (0.1, 0.9) => 5.42854e-14\n",
       "  (0.7, 0.7) => 6.33447e-14\n",
       "  (0.1, 0.3) => 5.7492e-14\n",
       "  (0.5, 0.1) => 2.94807e-13\n",
       "  (0.9, 0.5) => 6.49662e-14\n",
       "  (0.1, 0.1) => 2.94807e-13\n",
       "  (0.9, 0.7) => 6.33447e-14"
      ]
     },
     "execution_count": 19,
     "metadata": {},
     "output_type": "execute_result"
    }
   ],
   "source": [
    "@time Erro = grid_search(E₁, R₁, interpolacao, problem)"
   ]
  },
  {
   "cell_type": "code",
   "execution_count": 20,
   "id": "cooperative-preservation",
   "metadata": {},
   "outputs": [
    {
     "data": {
      "text/plain": [
       "((0.3, 0.5), 5.205077314134621e-15)"
      ]
     },
     "execution_count": 20,
     "metadata": {},
     "output_type": "execute_result"
    }
   ],
   "source": [
    "min_par₁ = find_min_dict(Erro)"
   ]
  },
  {
   "cell_type": "code",
   "execution_count": 21,
   "id": "personalized-carroll",
   "metadata": {},
   "outputs": [
    {
     "data": {
      "text/plain": [
       "false"
      ]
     },
     "execution_count": 21,
     "metadata": {},
     "output_type": "execute_result"
    }
   ],
   "source": [
    "isnan(min_par₁[2])"
   ]
  },
  {
   "cell_type": "code",
   "execution_count": 22,
   "id": "dressed-trinity",
   "metadata": {},
   "outputs": [
    {
     "data": {
      "text/plain": [
       "true"
      ]
     },
     "execution_count": 22,
     "metadata": {},
     "output_type": "execute_result"
    }
   ],
   "source": [
    "min_par₁[2] != 0.0"
   ]
  },
  {
   "cell_type": "code",
   "execution_count": 23,
   "id": "revised-timeline",
   "metadata": {},
   "outputs": [],
   "source": [
    "E₂ = (min_par₁[1][1]-0.05):0.01:(min_par₁[1][1]+0.05)\n",
    "R₂ = (min_par₁[1][2]-0.05):0.01:(min_par₁[1][2]+0.05);"
   ]
  },
  {
   "cell_type": "code",
   "execution_count": 24,
   "id": "opposite-subscription",
   "metadata": {},
   "outputs": [
    {
     "data": {
      "text/plain": [
       "Dict{Any, Any} with 121 entries:\n",
       "  (0.35, 0.47) => 1.84993e-13\n",
       "  (0.28, 0.52) => 7.08871e-14\n",
       "  (0.29, 0.54) => 1.06122e-13\n",
       "  (0.33, 0.55) => 1.16156e-13\n",
       "  (0.34, 0.51) => 4.93952e-14\n",
       "  (0.33, 0.5)  => 1.22021e-13\n",
       "  (0.28, 0.53) => 9.06135e-14\n",
       "  (0.31, 0.52) => 7.08871e-14\n",
       "  (0.34, 0.48) => 4.59971e-14\n",
       "  (0.34, 0.49) => 1.54708e-13\n",
       "  (0.31, 0.53) => 9.06135e-14\n",
       "  (0.3, 0.46)  => 4.30074e-14\n",
       "  (0.35, 0.54) => 1.85219e-14\n",
       "  (0.33, 0.52) => 7.08871e-14\n",
       "  (0.29, 0.55) => 1.16156e-13\n",
       "  (0.27, 0.51) => 1.14516e-14\n",
       "  (0.29, 0.5)  => 5.20508e-15\n",
       "  (0.33, 0.53) => 9.06135e-14\n",
       "  (0.27, 0.48) => 4.59971e-14\n",
       "  (0.34, 0.46) => 4.30074e-14\n",
       "  (0.27, 0.49) => 1.54708e-13\n",
       "  (0.35, 0.55) => 2.36044e-14\n",
       "  (0.29, 0.52) => 7.08871e-14\n",
       "  (0.35, 0.5)  => 2.94166e-14\n",
       "  (0.29, 0.53) => 9.06135e-14\n",
       "  ⋮            => ⋮"
      ]
     },
     "execution_count": 24,
     "metadata": {},
     "output_type": "execute_result"
    }
   ],
   "source": [
    "Erro = grid_search(E₂, R₂, interpolacao, problem)"
   ]
  },
  {
   "cell_type": "code",
   "execution_count": 25,
   "id": "economic-extraction",
   "metadata": {},
   "outputs": [
    {
     "data": {
      "text/plain": [
       "((0.28, 0.45), 3.334933086297642e-15)"
      ]
     },
     "execution_count": 25,
     "metadata": {},
     "output_type": "execute_result"
    }
   ],
   "source": [
    "find_min_dict(Erro)"
   ]
  },
  {
   "cell_type": "code",
   "execution_count": null,
   "id": "digital-device",
   "metadata": {},
   "outputs": [],
   "source": []
  }
 ],
 "metadata": {
  "kernelspec": {
   "display_name": "Julia 1.6.2",
   "language": "julia",
   "name": "julia-1.6"
  },
  "language_info": {
   "file_extension": ".jl",
   "mimetype": "application/julia",
   "name": "julia",
   "version": "1.6.2"
  }
 },
 "nbformat": 4,
 "nbformat_minor": 5
}
