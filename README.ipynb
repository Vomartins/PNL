{
 "cells": [
  {
   "cell_type": "markdown",
   "source": [
    "# Métodos para minimização irrestrita suave"
   ],
   "metadata": {}
  },
  {
   "cell_type": "markdown",
   "source": [
    "A direção de descida para o método do gradiente é : $$ d^{k} = -\\nabla f(x^{k}) $$"
   ],
   "metadata": {}
  },
  {
   "cell_type": "markdown",
   "source": [
    "## Busca exata - Seção Áurea"
   ],
   "metadata": {}
  },
  {
   "cell_type": "markdown",
   "source": [
    "## Busca Inexata"
   ],
   "metadata": {}
  },
  {
   "cell_type": "markdown",
   "source": [
    "### Armijo"
   ],
   "metadata": {}
  },
  {
   "cell_type": "markdown",
   "source": [
    "Condição de armijo: $$ f(\\bar{x}+\\bar{t}d) \\leq f(\\bar{x})+\\eta\\bar{t} \\nabla f(x^{k})^{T}d $$"
   ],
   "metadata": {}
  },
  {
   "cell_type": "markdown",
   "source": [],
   "metadata": {}
  }
 ],
 "metadata": {
  "orig_nbformat": 4,
  "language_info": {
   "name": "python"
  }
 },
 "nbformat": 4,
 "nbformat_minor": 2
}