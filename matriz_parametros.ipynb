{
 "cells": [
  {
   "cell_type": "code",
   "execution_count": 1,
   "id": "quantitative-equation",
   "metadata": {},
   "outputs": [],
   "source": [
    "using IterTools"
   ]
  },
  {
   "cell_type": "code",
   "execution_count": 2,
   "id": "experienced-hydrogen",
   "metadata": {},
   "outputs": [],
   "source": [
    "include(\"methods.jl\");"
   ]
  },
  {
   "cell_type": "code",
   "execution_count": 3,
   "id": "grand-association",
   "metadata": {},
   "outputs": [],
   "source": [
    "n = 2\n",
    "m = 4;"
   ]
  },
  {
   "cell_type": "code",
   "execution_count": 4,
   "id": "casual-xerox",
   "metadata": {},
   "outputs": [],
   "source": [
    "Funcoes = [Rosenbrock(), Gaussian(), trigonometric(n), discrete_integral(n), linear_rank1(n,m)];"
   ]
  },
  {
   "cell_type": "code",
   "execution_count": 5,
   "id": "affecting-bridges",
   "metadata": {},
   "outputs": [],
   "source": [
    "Estrategias = [secao_aurea, armijo, interpolacao];"
   ]
  },
  {
   "cell_type": "code",
   "execution_count": 6,
   "id": "regular-presence",
   "metadata": {},
   "outputs": [],
   "source": [
    "Parameters = Dict()\n",
    "Parameters[secao_aurea] = (0.1:0.1:1,[10.0^(-i) for i in 1:5])\n",
    "Parameters[armijo] = (0.1:0.1:1,0.1:0.1:1)\n",
    "Parameters[interpolacao] = (0.1:0.1:1, 0.1:0.1:1);"
   ]
  },
  {
   "cell_type": "code",
   "execution_count": null,
   "id": "normal-tribute",
   "metadata": {},
   "outputs": [],
   "source": [
    "hist_erro = Dict()\n",
    "for problem in product(Estrategias, Funcoes)\n",
    "    erro = grid_search(Parameters[problem[1]][1], Parameters[problem[1]][2], problem[1], problem[2])\n",
    "    result = find_min_dict(erro)\n",
    "    print(result)\n",
    "    hist_erro[string(problem[1]), problem[2].name] = result\n",
    "end;"
   ]
  },
  {
   "cell_type": "code",
   "execution_count": null,
   "id": "pretty-mistress",
   "metadata": {},
   "outputs": [],
   "source": [
    "hist_erro"
   ]
  },
  {
   "cell_type": "code",
   "execution_count": null,
   "id": "positive-congo",
   "metadata": {},
   "outputs": [],
   "source": [
    "import XLSX"
   ]
  },
  {
   "cell_type": "code",
   "execution_count": null,
   "id": "available-comment",
   "metadata": {},
   "outputs": [],
   "source": [
    "XLSX.openxlsx(\"resultados.xlsx\", mode=\"w\") do xf\n",
    "    sheet = xf[1]\n",
    "    string_estrategias = [string(p) for p in Estrategias]\n",
    "    string_funcoes = [p.name for p in Funcoes]\n",
    "    sheet[\"B1\"] = string_estrategias[1]\n",
    "    sheet[\"F1\"] = string_estrategias[2]\n",
    "    sheet[\"J1\"] = string_estrategias[3]\n",
    "    sheet[\"A2\",dim=1] = string_funcoes\n",
    "    \n",
    "    M = zeros(5,12)\n",
    "    for i in 1:3\n",
    "        for j in 1:5\n",
    "            k = [1, 5, 9]\n",
    "            M[j,k[i]] = hist_erro[string_estrategias[i],string_funcoes[j]][1][1]\n",
    "            M[j,k[i]+1] = hist_erro[string_estrategias[i],string_funcoes[j]][1][2]\n",
    "            M[j,k[i]+2] = hist_erro[string_estrategias[i],string_funcoes[j]][2]\n",
    "            M[j,k[i]+3] = hist_erro[string_estrategias[i],string_funcoes[j]][3]\n",
    "        end\n",
    "    end\n",
    "    sheet[\"B2:M6\"] = M\n",
    "end"
   ]
  },
  {
   "cell_type": "code",
   "execution_count": null,
   "id": "alone-plain",
   "metadata": {},
   "outputs": [],
   "source": []
  }
 ],
 "metadata": {
  "kernelspec": {
   "display_name": "Julia 1.6.2",
   "language": "julia",
   "name": "julia-1.6"
  },
  "language_info": {
   "file_extension": ".jl",
   "mimetype": "application/julia",
   "name": "julia",
   "version": "1.6.2"
  }
 },
 "nbformat": 4,
 "nbformat_minor": 5
}
