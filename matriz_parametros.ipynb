{
 "cells": [
  {
   "cell_type": "code",
   "execution_count": 1,
   "id": "quantitative-equation",
   "metadata": {},
   "outputs": [],
   "source": [
    "using IterTools"
   ]
  },
  {
   "cell_type": "code",
   "execution_count": 2,
   "id": "experienced-hydrogen",
   "metadata": {},
   "outputs": [],
   "source": [
    "include(\"methods.jl\");"
   ]
  },
  {
   "cell_type": "code",
   "execution_count": 3,
   "id": "grand-association",
   "metadata": {},
   "outputs": [],
   "source": [
    "n = 2\n",
    "m = 4;"
   ]
  },
  {
   "cell_type": "code",
   "execution_count": 4,
   "id": "casual-xerox",
   "metadata": {},
   "outputs": [],
   "source": [
    "Funcoes = [Rosenbrock(), Gaussian(), trigonometric(n), linear_rank1(n,m)];"
   ]
  },
  {
   "cell_type": "code",
   "execution_count": 5,
   "id": "affecting-bridges",
   "metadata": {},
   "outputs": [],
   "source": [
    "Estrategias = [secao_aurea, armijo, interpolacao];"
   ]
  },
  {
   "cell_type": "code",
   "execution_count": 6,
   "id": "regular-presence",
   "metadata": {},
   "outputs": [],
   "source": [
    "Parameters = Dict()\n",
    "Parameters[secao_aurea] = (0.1:0.2:1,[10.0^(-i) for i in 1:5])\n",
    "Parameters[armijo] = (0.1:0.2:1,0.1:0.2:1)\n",
    "Parameters[interpolacao] = (0.1:0.2:1, 0.1:0.2:1);"
   ]
  },
  {
   "cell_type": "code",
   "execution_count": 7,
   "id": "normal-tribute",
   "metadata": {},
   "outputs": [
    {
     "name": "stdout",
     "output_type": "stream",
     "text": [
      "((0.9, 0.001), 1.1688304580369458e-10)((0.3, 0.7), 5.659205723365632e-6)((0.9, 0.9), 7.223970139681705e-11)((0.1, 9.999999999999999e-6), 1.6156924085584347e-10)((0.3, 0.9), 1.1923789400597367e-10)((0.5, 0.7), 1.1922524431928e-10)((0.7, 0.001), 4.798857035674636e-14)((0.1, 0.7), 1.4320294611095287e-13)((0.9, 0.9), 6.793908221948749e-17)((0.9, 0.0001), 1.1102230246251565e-16)((0.1, 0.9), 1.1102230246251565e-16)((0.7, 0.1), 4.440892098500626e-16)"
     ]
    }
   ],
   "source": [
    "hist_erro = Dict()\n",
    "for problem in product(Estrategias, Funcoes)\n",
    "    erro = grid_search(Parameters[problem[1]][1], Parameters[problem[1]][2], problem[1], problem[2])\n",
    "    result = find_min_dict(erro)\n",
    "    print(result)\n",
    "    hist_erro[string(problem[1]), problem[2].name] = result\n",
    "end"
   ]
  },
  {
   "cell_type": "code",
   "execution_count": 21,
   "id": "foster-entry",
   "metadata": {},
   "outputs": [
    {
     "data": {
      "text/plain": [
       "Dict{Any, Any} with 12 entries:\n",
       "  (\"armijo\", \"Gaussian\")             => ((0.3, 0.9), 1.19238e-10)\n",
       "  (\"interpolacao\", \"Rosenbrock\")     => ((0.9, 0.9), 7.22397e-11)\n",
       "  (\"secao_aurea\", \"Trigonometric\")   => ((0.7, 0.001), 4.79886e-14)\n",
       "  (\"secao_aurea\", \"Gaussian\")        => ((0.1, 1.0e-5), 1.61569e-10)\n",
       "  (\"interpolacao\", \"Linear, rank 1\") => ((0.7, 0.1), 4.44089e-16)\n",
       "  (\"armijo\", \"Linear, rank 1\")       => ((0.1, 0.9), 1.11022e-16)\n",
       "  (\"armijo\", \"Trigonometric\")        => ((0.1, 0.7), 1.43203e-13)\n",
       "  (\"armijo\", \"Rosenbrock\")           => ((0.3, 0.7), 5.65921e-6)\n",
       "  (\"interpolacao\", \"Gaussian\")       => ((0.5, 0.7), 1.19225e-10)\n",
       "  (\"interpolacao\", \"Trigonometric\")  => ((0.9, 0.9), 6.79391e-17)\n",
       "  (\"secao_aurea\", \"Linear, rank 1\")  => ((0.9, 0.0001), 1.11022e-16)\n",
       "  (\"secao_aurea\", \"Rosenbrock\")      => ((0.9, 0.001), 1.16883e-10)"
      ]
     },
     "execution_count": 21,
     "metadata": {},
     "output_type": "execute_result"
    }
   ],
   "source": [
    "hist_erro"
   ]
  },
  {
   "cell_type": "code",
   "execution_count": 9,
   "id": "positive-congo",
   "metadata": {},
   "outputs": [],
   "source": [
    "import XLSX"
   ]
  },
  {
   "cell_type": "code",
   "execution_count": 22,
   "id": "available-comment",
   "metadata": {},
   "outputs": [
    {
     "data": {
      "text/plain": [
       "4×9 Matrix{Float64}:\n",
       " 0.9  0.001   1.16883e-10  0.3  0.7  5.65921e-6   0.9  0.9  7.22397e-11\n",
       " 0.1  1.0e-5  1.61569e-10  0.3  0.9  1.19238e-10  0.5  0.7  1.19225e-10\n",
       " 0.7  0.001   4.79886e-14  0.1  0.7  1.43203e-13  0.9  0.9  6.79391e-17\n",
       " 0.9  0.0001  1.11022e-16  0.1  0.9  1.11022e-16  0.7  0.1  4.44089e-16"
      ]
     },
     "execution_count": 22,
     "metadata": {},
     "output_type": "execute_result"
    }
   ],
   "source": [
    "XLSX.openxlsx(\"resultados.xlsx\", mode=\"w\") do xf\n",
    "    sheet = xf[1]\n",
    "    string_estrategias = [string(p) for p in Estrategias]\n",
    "    string_funcoes = [p.name for p in Funcoes]\n",
    "    sheet[\"B1\"] = string_estrategias[1]\n",
    "    sheet[\"E1\"] = string_estrategias[2]\n",
    "    sheet[\"H1\"] = string_estrategias[3]\n",
    "    sheet[\"A2\",dim=1] = string_funcoes\n",
    "    \n",
    "    M = zeros(4,9)\n",
    "    for i in 1:3\n",
    "        for j in 1:4\n",
    "            k = [1, 4, 7]\n",
    "            M[j,k[i]] = hist_erro[string_estrategias[i],string_funcoes[j]][1][1]\n",
    "            M[j,k[i]+1] = hist_erro[string_estrategias[i],string_funcoes[j]][1][2]\n",
    "            M[j,k[i]+2] = hist_erro[string_estrategias[i],string_funcoes[j]][2]\n",
    "        end\n",
    "    end\n",
    "    sheet[\"B2:J5\"] = M\n",
    "end\n",
    "\n"
   ]
  },
  {
   "cell_type": "code",
   "execution_count": null,
   "id": "alone-plain",
   "metadata": {},
   "outputs": [],
   "source": []
  }
 ],
 "metadata": {
  "kernelspec": {
   "display_name": "Julia 1.6.2",
   "language": "julia",
   "name": "julia-1.6"
  },
  "language_info": {
   "file_extension": ".jl",
   "mimetype": "application/julia",
   "name": "julia",
   "version": "1.6.2"
  }
 },
 "nbformat": 4,
 "nbformat_minor": 5
}
